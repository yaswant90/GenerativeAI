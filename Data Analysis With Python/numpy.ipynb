{
 "cells": [
  {
   "metadata": {},
   "cell_type": "markdown",
   "source": "### Numpy",
   "id": "f1534b15caaeaeba"
  },
  {
   "metadata": {
    "ExecuteTime": {
     "end_time": "2025-05-19T12:16:46.340851Z",
     "start_time": "2025-05-19T12:16:36.411420Z"
    }
   },
   "cell_type": "code",
   "source": [
    "from scipy.stats import variation\n",
    "!pip install numpy"
   ],
   "id": "22696820fa6fbc3c",
   "outputs": [
    {
     "name": "stdout",
     "output_type": "stream",
     "text": [
      "Requirement already satisfied: numpy in c:\\users\\yaswant_sadasivuni\\pycharmprojects\\pythonproject1\\.venv\\lib\\site-packages (2.2.5)\n"
     ]
    }
   ],
   "execution_count": 1
  },
  {
   "metadata": {
    "ExecuteTime": {
     "end_time": "2025-05-19T12:16:48.933946Z",
     "start_time": "2025-05-19T12:16:48.928167Z"
    }
   },
   "cell_type": "code",
   "source": "import numpy as np",
   "id": "37942a6789bf1d63",
   "outputs": [],
   "execution_count": 2
  },
  {
   "metadata": {
    "ExecuteTime": {
     "end_time": "2025-05-19T12:17:50.891812Z",
     "start_time": "2025-05-19T12:17:50.884974Z"
    }
   },
   "cell_type": "code",
   "source": [
    "arr1 = np.array([1,2,3,4,5])\n",
    "print(arr1)\n",
    "print(type(arr1))\n",
    "print(arr1.shape)"
   ],
   "id": "139950df3826c4e1",
   "outputs": [
    {
     "name": "stdout",
     "output_type": "stream",
     "text": [
      "[1 2 3 4 5]\n",
      "<class 'numpy.ndarray'>\n",
      "(5,)\n"
     ]
    }
   ],
   "execution_count": 4
  },
  {
   "metadata": {
    "ExecuteTime": {
     "end_time": "2025-05-19T12:19:32.243345Z",
     "start_time": "2025-05-19T12:19:32.231106Z"
    }
   },
   "cell_type": "code",
   "source": [
    "arr2 = np.array([1,2,3,4,5])\n",
    "arr2.reshape(1,5)"
   ],
   "id": "cf6a7f122b4179ed",
   "outputs": [
    {
     "data": {
      "text/plain": [
       "array([[1, 2, 3, 4, 5]])"
      ]
     },
     "execution_count": 5,
     "metadata": {},
     "output_type": "execute_result"
    }
   ],
   "execution_count": 5
  },
  {
   "metadata": {
    "ExecuteTime": {
     "end_time": "2025-05-19T12:20:41.080500Z",
     "start_time": "2025-05-19T12:20:41.072457Z"
    }
   },
   "cell_type": "code",
   "source": [
    "arr2 = np.array([[1,2,3,4,5]])\n",
    "arr2.shape"
   ],
   "id": "d0d504cba63b5f9e",
   "outputs": [
    {
     "data": {
      "text/plain": [
       "(1, 5)"
      ]
     },
     "execution_count": 6,
     "metadata": {},
     "output_type": "execute_result"
    }
   ],
   "execution_count": 6
  },
  {
   "metadata": {
    "ExecuteTime": {
     "end_time": "2025-05-19T12:21:20.384189Z",
     "start_time": "2025-05-19T12:21:20.377162Z"
    }
   },
   "cell_type": "code",
   "source": [
    "arr2 = np.array([[1,2,3,4,5],[6,7,8,9,10]])\n",
    "print(arr2)\n",
    "print(arr2.shape)"
   ],
   "id": "f1660744ca59c16c",
   "outputs": [
    {
     "name": "stdout",
     "output_type": "stream",
     "text": [
      "[[ 1  2  3  4  5]\n",
      " [ 6  7  8  9 10]]\n",
      "(2, 5)\n"
     ]
    }
   ],
   "execution_count": 7
  },
  {
   "metadata": {
    "ExecuteTime": {
     "end_time": "2025-05-19T12:22:54.755806Z",
     "start_time": "2025-05-19T12:22:54.748182Z"
    }
   },
   "cell_type": "code",
   "source": "np.arange(0,10,2).reshape(5,1)",
   "id": "c6dbc9273cd29b12",
   "outputs": [
    {
     "data": {
      "text/plain": [
       "array([[0],\n",
       "       [2],\n",
       "       [4],\n",
       "       [6],\n",
       "       [8]])"
      ]
     },
     "execution_count": 10,
     "metadata": {},
     "output_type": "execute_result"
    }
   ],
   "execution_count": 10
  },
  {
   "metadata": {
    "ExecuteTime": {
     "end_time": "2025-05-19T12:23:25.914479Z",
     "start_time": "2025-05-19T12:23:25.907740Z"
    }
   },
   "cell_type": "code",
   "source": "np.ones((3,4))",
   "id": "6235dc6878a31e75",
   "outputs": [
    {
     "data": {
      "text/plain": [
       "array([[1., 1., 1., 1.],\n",
       "       [1., 1., 1., 1.],\n",
       "       [1., 1., 1., 1.]])"
      ]
     },
     "execution_count": 11,
     "metadata": {},
     "output_type": "execute_result"
    }
   ],
   "execution_count": 11
  },
  {
   "metadata": {
    "ExecuteTime": {
     "end_time": "2025-05-19T12:23:45.597888Z",
     "start_time": "2025-05-19T12:23:45.588789Z"
    }
   },
   "cell_type": "code",
   "source": [
    "## identiity matrix\n",
    "np.eye(3)"
   ],
   "id": "482f0716caefe2f2",
   "outputs": [
    {
     "data": {
      "text/plain": [
       "array([[1., 0., 0.],\n",
       "       [0., 1., 0.],\n",
       "       [0., 0., 1.]])"
      ]
     },
     "execution_count": 12,
     "metadata": {},
     "output_type": "execute_result"
    }
   ],
   "execution_count": 12
  },
  {
   "metadata": {
    "ExecuteTime": {
     "end_time": "2025-05-19T13:13:22.575542Z",
     "start_time": "2025-05-19T13:13:22.559776Z"
    }
   },
   "cell_type": "code",
   "source": [
    "### vectorized operations\n",
    "arr1 = np.array([1,2,3,4,5])\n",
    "arr2 = np.array([10,20,30,40,50])\n",
    "\n",
    "### elementwise addition\n",
    "print(\"Addition:\", arr1 + arr2)\n",
    "\n",
    "### substraction\n",
    "print(\"Subtraction:\", arr1 - arr2)\n",
    "\n",
    "### multiplications\n",
    "print(\"Multiplication:\", arr1 * arr2)\n",
    "\n",
    "### Division\n",
    "print(\"Division:\", arr1 / arr2)"
   ],
   "id": "3364929275c77fb2",
   "outputs": [
    {
     "name": "stdout",
     "output_type": "stream",
     "text": [
      "Addition: [11 22 33 44 55]\n",
      "Subtraction: [ -9 -18 -27 -36 -45]\n",
      "Multiplication: [ 10  40  90 160 250]\n",
      "Division: [0.1 0.1 0.1 0.1 0.1]\n"
     ]
    }
   ],
   "execution_count": 14
  },
  {
   "metadata": {
    "ExecuteTime": {
     "end_time": "2025-05-19T13:15:25.294460Z",
     "start_time": "2025-05-19T13:15:25.283171Z"
    }
   },
   "cell_type": "code",
   "source": [
    "### universal function\n",
    "arr = np.array([1,2,3,4,5])\n",
    "## squareroor\n",
    "print(np.sqrt(arr))\n",
    "print(np.exp(arr))\n",
    "print(np.sin(arr))\n",
    "print(np.cos(arr))\n",
    "print(np.tan(arr))\n",
    "print(np.log(arr))"
   ],
   "id": "6d286aa6a5fb42aa",
   "outputs": [
    {
     "name": "stdout",
     "output_type": "stream",
     "text": [
      "[1.         1.41421356 1.73205081 2.         2.23606798]\n",
      "[  2.71828183   7.3890561   20.08553692  54.59815003 148.4131591 ]\n",
      "[ 0.84147098  0.90929743  0.14112001 -0.7568025  -0.95892427]\n",
      "[ 0.54030231 -0.41614684 -0.9899925  -0.65364362  0.28366219]\n",
      "[ 1.55740772 -2.18503986 -0.14254654  1.15782128 -3.38051501]\n",
      "[0.         0.69314718 1.09861229 1.38629436 1.60943791]\n"
     ]
    }
   ],
   "execution_count": 18
  },
  {
   "metadata": {
    "ExecuteTime": {
     "end_time": "2025-05-19T13:16:52.639442Z",
     "start_time": "2025-05-19T13:16:52.628746Z"
    }
   },
   "cell_type": "code",
   "source": [
    "### slicings and indexing\n",
    "arr = np.array([[1,2,3,4,5],[6,7,8,9,10], [10,20,30,40,50]])\n",
    "print(arr)"
   ],
   "id": "eb198772887a5341",
   "outputs": [
    {
     "name": "stdout",
     "output_type": "stream",
     "text": [
      "[[ 1  2  3  4  5]\n",
      " [ 6  7  8  9 10]\n",
      " [10 20 30 40 50]]\n"
     ]
    }
   ],
   "execution_count": 19
  },
  {
   "metadata": {
    "ExecuteTime": {
     "end_time": "2025-05-19T13:17:51.398118Z",
     "start_time": "2025-05-19T13:17:51.388320Z"
    }
   },
   "cell_type": "code",
   "source": "arr[0]",
   "id": "6afff89b7f1ba525",
   "outputs": [
    {
     "data": {
      "text/plain": [
       "array([1, 2, 3, 4, 5])"
      ]
     },
     "execution_count": 20,
     "metadata": {},
     "output_type": "execute_result"
    }
   ],
   "execution_count": 20
  },
  {
   "metadata": {
    "ExecuteTime": {
     "end_time": "2025-05-19T13:19:18.454293Z",
     "start_time": "2025-05-19T13:19:18.445040Z"
    }
   },
   "cell_type": "code",
   "source": "arr[1:,2:]",
   "id": "6c89fa3048480ca3",
   "outputs": [
    {
     "data": {
      "text/plain": [
       "array([[ 8,  9, 10],\n",
       "       [30, 40, 50]])"
      ]
     },
     "execution_count": 21,
     "metadata": {},
     "output_type": "execute_result"
    }
   ],
   "execution_count": 21
  },
  {
   "metadata": {
    "ExecuteTime": {
     "end_time": "2025-05-19T13:20:56.198856Z",
     "start_time": "2025-05-19T13:20:56.192150Z"
    }
   },
   "cell_type": "code",
   "source": "print(arr[0:2,2:])",
   "id": "3f5a7d617b431b34",
   "outputs": [
    {
     "name": "stdout",
     "output_type": "stream",
     "text": [
      "[[ 3  4  5]\n",
      " [ 8  9 10]]\n"
     ]
    }
   ],
   "execution_count": 24
  },
  {
   "metadata": {
    "ExecuteTime": {
     "end_time": "2025-05-19T13:22:00.521757Z",
     "start_time": "2025-05-19T13:22:00.513158Z"
    }
   },
   "cell_type": "code",
   "source": "print(arr[1:, 1:3])",
   "id": "cbdb1f964679c2b3",
   "outputs": [
    {
     "name": "stdout",
     "output_type": "stream",
     "text": [
      "[[ 7  8]\n",
      " [20 30]]\n"
     ]
    }
   ],
   "execution_count": 25
  },
  {
   "metadata": {
    "ExecuteTime": {
     "end_time": "2025-05-19T13:22:34.025342Z",
     "start_time": "2025-05-19T13:22:34.015477Z"
    }
   },
   "cell_type": "code",
   "source": [
    "### modify array elements\n",
    "arr[0,0] = 100\n",
    "print(arr)"
   ],
   "id": "62c79769f54cd66a",
   "outputs": [
    {
     "name": "stdout",
     "output_type": "stream",
     "text": [
      "[[100   2   3   4   5]\n",
      " [  6   7   8   9  10]\n",
      " [ 10  20  30  40  50]]\n"
     ]
    }
   ],
   "execution_count": 26
  },
  {
   "metadata": {
    "ExecuteTime": {
     "end_time": "2025-05-19T13:23:05.405325Z",
     "start_time": "2025-05-19T13:23:05.397288Z"
    }
   },
   "cell_type": "code",
   "source": [
    "arr[1:] = 150\n",
    "print(arr)"
   ],
   "id": "c35ac536de35b41",
   "outputs": [
    {
     "name": "stdout",
     "output_type": "stream",
     "text": [
      "[[100   2   3   4   5]\n",
      " [150 150 150 150 150]\n",
      " [150 150 150 150 150]]\n"
     ]
    }
   ],
   "execution_count": 27
  },
  {
   "metadata": {
    "ExecuteTime": {
     "end_time": "2025-05-19T13:26:38.079282Z",
     "start_time": "2025-05-19T13:26:38.066639Z"
    }
   },
   "cell_type": "code",
   "source": [
    "### statistical concepts - normalization\n",
    "## to have a mean of 0 and standard deviation of 1\n",
    "data = np.array([1,2,3,4,5])\n",
    "\n",
    "mean = np.mean(data)\n",
    "std_dev = np.std(data)\n",
    "norm_data = (data - mean) / std_dev\n",
    "variation = np.var(data)\n",
    "print(\"normalized data:\", norm_data)\n",
    "print(variation)"
   ],
   "id": "fda65b5a3f116e1f",
   "outputs": [
    {
     "name": "stdout",
     "output_type": "stream",
     "text": [
      "normalized data: [-1.41421356 -0.70710678  0.          0.70710678  1.41421356]\n",
      "2.0\n"
     ]
    }
   ],
   "execution_count": 29
  },
  {
   "metadata": {
    "ExecuteTime": {
     "end_time": "2025-05-19T13:29:20.256816Z",
     "start_time": "2025-05-19T13:29:20.248947Z"
    }
   },
   "cell_type": "code",
   "source": [
    "data = np.array([1,2,3,4,5,6,7,8,9,10])\n",
    "print(data[data > 5])\n",
    "print(data[(data > 5) & (data < 9)])"
   ],
   "id": "13c922cf88c879f",
   "outputs": [
    {
     "name": "stdout",
     "output_type": "stream",
     "text": [
      "[ 6  7  8  9 10]\n",
      "[6 7 8]\n"
     ]
    }
   ],
   "execution_count": 33
  },
  {
   "metadata": {},
   "cell_type": "code",
   "outputs": [],
   "execution_count": null,
   "source": "",
   "id": "ab3dd06841819044"
  }
 ],
 "metadata": {
  "kernelspec": {
   "display_name": "Python 3",
   "language": "python",
   "name": "python3"
  },
  "language_info": {
   "codemirror_mode": {
    "name": "ipython",
    "version": 2
   },
   "file_extension": ".py",
   "mimetype": "text/x-python",
   "name": "python",
   "nbconvert_exporter": "python",
   "pygments_lexer": "ipython2",
   "version": "2.7.6"
  }
 },
 "nbformat": 4,
 "nbformat_minor": 5
}
