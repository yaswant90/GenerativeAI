{
 "cells": [
  {
   "cell_type": "code",
   "id": "initial_id",
   "metadata": {
    "collapsed": true,
    "ExecuteTime": {
     "end_time": "2025-05-20T12:10:33.909267Z",
     "start_time": "2025-05-20T12:10:20.100846Z"
    }
   },
   "source": "!pip install pandas",
   "outputs": [
    {
     "name": "stdout",
     "output_type": "stream",
     "text": [
      "Requirement already satisfied: pandas in c:\\users\\yaswant_sadasivuni\\pycharmprojects\\pythonproject1\\.venv\\lib\\site-packages (2.2.3)\n",
      "Requirement already satisfied: numpy>=1.26.0 in c:\\users\\yaswant_sadasivuni\\pycharmprojects\\pythonproject1\\.venv\\lib\\site-packages (from pandas) (2.2.5)\n",
      "Requirement already satisfied: python-dateutil>=2.8.2 in c:\\users\\yaswant_sadasivuni\\pycharmprojects\\pythonproject1\\.venv\\lib\\site-packages (from pandas) (2.9.0.post0)\n",
      "Requirement already satisfied: pytz>=2020.1 in c:\\users\\yaswant_sadasivuni\\pycharmprojects\\pythonproject1\\.venv\\lib\\site-packages (from pandas) (2025.2)\n",
      "Requirement already satisfied: tzdata>=2022.7 in c:\\users\\yaswant_sadasivuni\\pycharmprojects\\pythonproject1\\.venv\\lib\\site-packages (from pandas) (2025.2)\n",
      "Requirement already satisfied: six>=1.5 in c:\\users\\yaswant_sadasivuni\\pycharmprojects\\pythonproject1\\.venv\\lib\\site-packages (from python-dateutil>=2.8.2->pandas) (1.17.0)\n"
     ]
    }
   ],
   "execution_count": 1
  },
  {
   "metadata": {
    "ExecuteTime": {
     "end_time": "2025-05-20T12:20:12.262538Z",
     "start_time": "2025-05-20T12:20:05.488850Z"
    }
   },
   "cell_type": "code",
   "source": "import pandas as pd",
   "id": "5603e303dfa342d1",
   "outputs": [],
   "execution_count": 2
  },
  {
   "metadata": {
    "ExecuteTime": {
     "end_time": "2025-05-20T12:22:00.634789Z",
     "start_time": "2025-05-20T12:22:00.626486Z"
    }
   },
   "cell_type": "code",
   "source": [
    "## Series\n",
    "data = [1,2,3,4,5]\n",
    "series = pd.Series(data)\n",
    "print(series)\n",
    "print(type(series))"
   ],
   "id": "d3a7bf01139f2e24",
   "outputs": [
    {
     "name": "stdout",
     "output_type": "stream",
     "text": [
      "0    1\n",
      "1    2\n",
      "2    3\n",
      "3    4\n",
      "4    5\n",
      "dtype: int64\n",
      "<class 'pandas.core.series.Series'>\n"
     ]
    }
   ],
   "execution_count": 4
  },
  {
   "metadata": {
    "ExecuteTime": {
     "end_time": "2025-05-20T12:22:32.109005Z",
     "start_time": "2025-05-20T12:22:32.091574Z"
    }
   },
   "cell_type": "code",
   "source": [
    "## Create a series from dictionary\n",
    "data = {'a':1,'b':2,'c':3}\n",
    "series = pd.Series(data)\n",
    "print(series)"
   ],
   "id": "93709e83aba22049",
   "outputs": [
    {
     "name": "stdout",
     "output_type": "stream",
     "text": [
      "a    1\n",
      "b    2\n",
      "c    3\n",
      "dtype: int64\n"
     ]
    }
   ],
   "execution_count": 5
  },
  {
   "metadata": {
    "ExecuteTime": {
     "end_time": "2025-05-20T12:24:48.471033Z",
     "start_time": "2025-05-20T12:24:48.450968Z"
    }
   },
   "cell_type": "code",
   "source": [
    "data=[10,20,30]\n",
    "index=['a','b','c']\n",
    "pd.Series(data, index=index)"
   ],
   "id": "a52979f9c835dd05",
   "outputs": [
    {
     "data": {
      "text/plain": [
       "a    10\n",
       "b    20\n",
       "c    30\n",
       "dtype: int64"
      ]
     },
     "execution_count": 7,
     "metadata": {},
     "output_type": "execute_result"
    }
   ],
   "execution_count": 7
  },
  {
   "metadata": {
    "ExecuteTime": {
     "end_time": "2025-05-20T12:28:41.631402Z",
     "start_time": "2025-05-20T12:28:41.604447Z"
    }
   },
   "cell_type": "code",
   "source": [
    "## Dataframe\n",
    "## create a dataframe from a dictionary of list\n",
    "\n",
    "data={\n",
    "    'Name': ['Yaswant', 'jhon', 'jack'],\n",
    "    'Age': [35,25,40],\n",
    "    'City': ['Newyork', 'Banglore', 'Florida']\n",
    "}\n",
    "df = pd.DataFrame(data)\n",
    "print(df)"
   ],
   "id": "7ae4d1c057333966",
   "outputs": [
    {
     "name": "stdout",
     "output_type": "stream",
     "text": [
      "      Name  Age      City\n",
      "0  Yaswant   35   Newyork\n",
      "1     jhon   25  Banglore\n",
      "2     jack   40   Florida\n"
     ]
    }
   ],
   "execution_count": 8
  },
  {
   "metadata": {
    "ExecuteTime": {
     "end_time": "2025-05-20T12:29:25.250469Z",
     "start_time": "2025-05-20T12:29:25.240195Z"
    }
   },
   "cell_type": "code",
   "source": [
    "import numpy as np\n",
    "np.array(df)"
   ],
   "id": "4465b258672ba61",
   "outputs": [
    {
     "data": {
      "text/plain": [
       "array([['Yaswant', 35, 'Newyork'],\n",
       "       ['jhon', 25, 'Banglore'],\n",
       "       ['jack', 40, 'Florida']], dtype=object)"
      ]
     },
     "execution_count": 9,
     "metadata": {},
     "output_type": "execute_result"
    }
   ],
   "execution_count": 9
  },
  {
   "metadata": {
    "ExecuteTime": {
     "end_time": "2025-05-20T12:31:42.896773Z",
     "start_time": "2025-05-20T12:31:42.888215Z"
    }
   },
   "cell_type": "code",
   "source": [
    "## create a dataframe from a list of dictionaries\n",
    "data=[\n",
    "    {'Name': 'yaswant', 'Age': 35, 'City': 'New York'},\n",
    "    { 'Name': 'jhon', 'Age': 25, 'City': 'Florida'},\n",
    "    { 'Name': 'jack', 'Age': 40, 'City': 'Banglore'}\n",
    "]\n",
    "df = pd.DataFrame(data)\n",
    "print(df)"
   ],
   "id": "df584af9b23f3aba",
   "outputs": [
    {
     "name": "stdout",
     "output_type": "stream",
     "text": [
      "      Name  Age      City\n",
      "0  yaswant   35  New York\n",
      "1     jhon   25   Florida\n",
      "2     jack   40  Banglore\n"
     ]
    }
   ],
   "execution_count": 10
  },
  {
   "metadata": {
    "ExecuteTime": {
     "end_time": "2025-05-20T12:35:14.858069Z",
     "start_time": "2025-05-20T12:35:14.845525Z"
    }
   },
   "cell_type": "code",
   "source": "df['Name']",
   "id": "d05d79855af2a5cc",
   "outputs": [
    {
     "data": {
      "text/plain": [
       "0    yaswant\n",
       "1       jhon\n",
       "2       jack\n",
       "Name: Name, dtype: object"
      ]
     },
     "execution_count": 11,
     "metadata": {},
     "output_type": "execute_result"
    }
   ],
   "execution_count": 11
  },
  {
   "metadata": {
    "ExecuteTime": {
     "end_time": "2025-05-20T12:35:26.541337Z",
     "start_time": "2025-05-20T12:35:26.530173Z"
    }
   },
   "cell_type": "code",
   "source": "df.loc[0]",
   "id": "5b6159390ecab15c",
   "outputs": [
    {
     "data": {
      "text/plain": [
       "Name     yaswant\n",
       "Age           35\n",
       "City    New York\n",
       "Name: 0, dtype: object"
      ]
     },
     "execution_count": 12,
     "metadata": {},
     "output_type": "execute_result"
    }
   ],
   "execution_count": 12
  },
  {
   "metadata": {
    "ExecuteTime": {
     "end_time": "2025-05-20T12:36:18.209818Z",
     "start_time": "2025-05-20T12:36:18.200330Z"
    }
   },
   "cell_type": "code",
   "source": "df.iloc[0]",
   "id": "e9dd563179f95296",
   "outputs": [
    {
     "data": {
      "text/plain": [
       "Name     yaswant\n",
       "Age           35\n",
       "City    New York\n",
       "Name: 0, dtype: object"
      ]
     },
     "execution_count": 15,
     "metadata": {},
     "output_type": "execute_result"
    }
   ],
   "execution_count": 15
  },
  {
   "metadata": {
    "ExecuteTime": {
     "end_time": "2025-05-20T12:38:50.775933Z",
     "start_time": "2025-05-20T12:38:50.766799Z"
    }
   },
   "cell_type": "code",
   "source": "df.at[0, 'Name']",
   "id": "cc9e9a29619ca003",
   "outputs": [
    {
     "data": {
      "text/plain": [
       "'yaswant'"
      ]
     },
     "execution_count": 21,
     "metadata": {},
     "output_type": "execute_result"
    }
   ],
   "execution_count": 21
  },
  {
   "metadata": {
    "ExecuteTime": {
     "end_time": "2025-05-20T12:39:20.832707Z",
     "start_time": "2025-05-20T12:39:20.822131Z"
    }
   },
   "cell_type": "code",
   "source": [
    "## Accessing specified element using iat\n",
    "df.iat[2,2]"
   ],
   "id": "a9aa3eb389fd5982",
   "outputs": [
    {
     "data": {
      "text/plain": [
       "'Banglore'"
      ]
     },
     "execution_count": 22,
     "metadata": {},
     "output_type": "execute_result"
    }
   ],
   "execution_count": 22
  },
  {
   "metadata": {
    "ExecuteTime": {
     "end_time": "2025-05-20T12:40:14.162571Z",
     "start_time": "2025-05-20T12:40:14.151294Z"
    }
   },
   "cell_type": "code",
   "source": [
    "## Data Manipulations with Dataframes\n",
    "df"
   ],
   "id": "e3f872d5344c8f76",
   "outputs": [
    {
     "data": {
      "text/plain": [
       "      Name  Age      City\n",
       "0  yaswant   35  New York\n",
       "1     jhon   25   Florida\n",
       "2     jack   40  Banglore"
      ],
      "text/html": [
       "<div>\n",
       "<style scoped>\n",
       "    .dataframe tbody tr th:only-of-type {\n",
       "        vertical-align: middle;\n",
       "    }\n",
       "\n",
       "    .dataframe tbody tr th {\n",
       "        vertical-align: top;\n",
       "    }\n",
       "\n",
       "    .dataframe thead th {\n",
       "        text-align: right;\n",
       "    }\n",
       "</style>\n",
       "<table border=\"1\" class=\"dataframe\">\n",
       "  <thead>\n",
       "    <tr style=\"text-align: right;\">\n",
       "      <th></th>\n",
       "      <th>Name</th>\n",
       "      <th>Age</th>\n",
       "      <th>City</th>\n",
       "    </tr>\n",
       "  </thead>\n",
       "  <tbody>\n",
       "    <tr>\n",
       "      <th>0</th>\n",
       "      <td>yaswant</td>\n",
       "      <td>35</td>\n",
       "      <td>New York</td>\n",
       "    </tr>\n",
       "    <tr>\n",
       "      <th>1</th>\n",
       "      <td>jhon</td>\n",
       "      <td>25</td>\n",
       "      <td>Florida</td>\n",
       "    </tr>\n",
       "    <tr>\n",
       "      <th>2</th>\n",
       "      <td>jack</td>\n",
       "      <td>40</td>\n",
       "      <td>Banglore</td>\n",
       "    </tr>\n",
       "  </tbody>\n",
       "</table>\n",
       "</div>"
      ]
     },
     "execution_count": 23,
     "metadata": {},
     "output_type": "execute_result"
    }
   ],
   "execution_count": 23
  },
  {
   "metadata": {
    "ExecuteTime": {
     "end_time": "2025-05-20T12:40:58.006454Z",
     "start_time": "2025-05-20T12:40:57.997282Z"
    }
   },
   "cell_type": "code",
   "source": "df['Salary'] = [70000, 35000, 40000]",
   "id": "42e50f39a62ca287",
   "outputs": [],
   "execution_count": 24
  },
  {
   "metadata": {
    "ExecuteTime": {
     "end_time": "2025-05-20T12:41:00.021326Z",
     "start_time": "2025-05-20T12:41:00.008453Z"
    }
   },
   "cell_type": "code",
   "source": "df",
   "id": "c24bfa5ac4ff26eb",
   "outputs": [
    {
     "data": {
      "text/plain": [
       "      Name  Age      City  Salary\n",
       "0  yaswant   35  New York   70000\n",
       "1     jhon   25   Florida   35000\n",
       "2     jack   40  Banglore   40000"
      ],
      "text/html": [
       "<div>\n",
       "<style scoped>\n",
       "    .dataframe tbody tr th:only-of-type {\n",
       "        vertical-align: middle;\n",
       "    }\n",
       "\n",
       "    .dataframe tbody tr th {\n",
       "        vertical-align: top;\n",
       "    }\n",
       "\n",
       "    .dataframe thead th {\n",
       "        text-align: right;\n",
       "    }\n",
       "</style>\n",
       "<table border=\"1\" class=\"dataframe\">\n",
       "  <thead>\n",
       "    <tr style=\"text-align: right;\">\n",
       "      <th></th>\n",
       "      <th>Name</th>\n",
       "      <th>Age</th>\n",
       "      <th>City</th>\n",
       "      <th>Salary</th>\n",
       "    </tr>\n",
       "  </thead>\n",
       "  <tbody>\n",
       "    <tr>\n",
       "      <th>0</th>\n",
       "      <td>yaswant</td>\n",
       "      <td>35</td>\n",
       "      <td>New York</td>\n",
       "      <td>70000</td>\n",
       "    </tr>\n",
       "    <tr>\n",
       "      <th>1</th>\n",
       "      <td>jhon</td>\n",
       "      <td>25</td>\n",
       "      <td>Florida</td>\n",
       "      <td>35000</td>\n",
       "    </tr>\n",
       "    <tr>\n",
       "      <th>2</th>\n",
       "      <td>jack</td>\n",
       "      <td>40</td>\n",
       "      <td>Banglore</td>\n",
       "      <td>40000</td>\n",
       "    </tr>\n",
       "  </tbody>\n",
       "</table>\n",
       "</div>"
      ]
     },
     "execution_count": 25,
     "metadata": {},
     "output_type": "execute_result"
    }
   ],
   "execution_count": 25
  },
  {
   "metadata": {
    "ExecuteTime": {
     "end_time": "2025-05-20T12:41:38.023517Z",
     "start_time": "2025-05-20T12:41:38.014889Z"
    }
   },
   "cell_type": "code",
   "source": [
    "## remove a column\n",
    "df.drop('Salary', axis=1, inplace=True)"
   ],
   "id": "960c98d136761878",
   "outputs": [],
   "execution_count": 26
  },
  {
   "metadata": {
    "ExecuteTime": {
     "end_time": "2025-05-20T12:41:39.843211Z",
     "start_time": "2025-05-20T12:41:39.832699Z"
    }
   },
   "cell_type": "code",
   "source": "df",
   "id": "ad28cd59ea7252ec",
   "outputs": [
    {
     "data": {
      "text/plain": [
       "      Name  Age      City\n",
       "0  yaswant   35  New York\n",
       "1     jhon   25   Florida\n",
       "2     jack   40  Banglore"
      ],
      "text/html": [
       "<div>\n",
       "<style scoped>\n",
       "    .dataframe tbody tr th:only-of-type {\n",
       "        vertical-align: middle;\n",
       "    }\n",
       "\n",
       "    .dataframe tbody tr th {\n",
       "        vertical-align: top;\n",
       "    }\n",
       "\n",
       "    .dataframe thead th {\n",
       "        text-align: right;\n",
       "    }\n",
       "</style>\n",
       "<table border=\"1\" class=\"dataframe\">\n",
       "  <thead>\n",
       "    <tr style=\"text-align: right;\">\n",
       "      <th></th>\n",
       "      <th>Name</th>\n",
       "      <th>Age</th>\n",
       "      <th>City</th>\n",
       "    </tr>\n",
       "  </thead>\n",
       "  <tbody>\n",
       "    <tr>\n",
       "      <th>0</th>\n",
       "      <td>yaswant</td>\n",
       "      <td>35</td>\n",
       "      <td>New York</td>\n",
       "    </tr>\n",
       "    <tr>\n",
       "      <th>1</th>\n",
       "      <td>jhon</td>\n",
       "      <td>25</td>\n",
       "      <td>Florida</td>\n",
       "    </tr>\n",
       "    <tr>\n",
       "      <th>2</th>\n",
       "      <td>jack</td>\n",
       "      <td>40</td>\n",
       "      <td>Banglore</td>\n",
       "    </tr>\n",
       "  </tbody>\n",
       "</table>\n",
       "</div>"
      ]
     },
     "execution_count": 27,
     "metadata": {},
     "output_type": "execute_result"
    }
   ],
   "execution_count": 27
  },
  {
   "metadata": {
    "ExecuteTime": {
     "end_time": "2025-05-20T12:43:38.732984Z",
     "start_time": "2025-05-20T12:43:38.716815Z"
    }
   },
   "cell_type": "code",
   "source": [
    "df['Age'] = df['Age'] + 1\n",
    "df"
   ],
   "id": "def4ef2f96cc3dc3",
   "outputs": [
    {
     "data": {
      "text/plain": [
       "      Name  Age      City\n",
       "0  yaswant   36  New York\n",
       "1     jhon   26   Florida\n",
       "2     jack   41  Banglore"
      ],
      "text/html": [
       "<div>\n",
       "<style scoped>\n",
       "    .dataframe tbody tr th:only-of-type {\n",
       "        vertical-align: middle;\n",
       "    }\n",
       "\n",
       "    .dataframe tbody tr th {\n",
       "        vertical-align: top;\n",
       "    }\n",
       "\n",
       "    .dataframe thead th {\n",
       "        text-align: right;\n",
       "    }\n",
       "</style>\n",
       "<table border=\"1\" class=\"dataframe\">\n",
       "  <thead>\n",
       "    <tr style=\"text-align: right;\">\n",
       "      <th></th>\n",
       "      <th>Name</th>\n",
       "      <th>Age</th>\n",
       "      <th>City</th>\n",
       "    </tr>\n",
       "  </thead>\n",
       "  <tbody>\n",
       "    <tr>\n",
       "      <th>0</th>\n",
       "      <td>yaswant</td>\n",
       "      <td>36</td>\n",
       "      <td>New York</td>\n",
       "    </tr>\n",
       "    <tr>\n",
       "      <th>1</th>\n",
       "      <td>jhon</td>\n",
       "      <td>26</td>\n",
       "      <td>Florida</td>\n",
       "    </tr>\n",
       "    <tr>\n",
       "      <th>2</th>\n",
       "      <td>jack</td>\n",
       "      <td>41</td>\n",
       "      <td>Banglore</td>\n",
       "    </tr>\n",
       "  </tbody>\n",
       "</table>\n",
       "</div>"
      ]
     },
     "execution_count": 28,
     "metadata": {},
     "output_type": "execute_result"
    }
   ],
   "execution_count": 28
  },
  {
   "metadata": {},
   "cell_type": "code",
   "outputs": [],
   "execution_count": null,
   "source": "",
   "id": "fa7a7cb63cbd092f"
  }
 ],
 "metadata": {
  "kernelspec": {
   "display_name": "Python 3",
   "language": "python",
   "name": "python3"
  },
  "language_info": {
   "codemirror_mode": {
    "name": "ipython",
    "version": 2
   },
   "file_extension": ".py",
   "mimetype": "text/x-python",
   "name": "python",
   "nbconvert_exporter": "python",
   "pygments_lexer": "ipython2",
   "version": "2.7.6"
  }
 },
 "nbformat": 4,
 "nbformat_minor": 5
}
