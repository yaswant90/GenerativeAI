{
 "cells": [
  {
   "cell_type": "code",
   "execution_count": 1,
   "id": "27476b33",
   "metadata": {},
   "outputs": [],
   "source": [
    "a=100"
   ]
  },
  {
   "cell_type": "code",
   "execution_count": 2,
   "id": "620dacb1",
   "metadata": {},
   "outputs": [
    {
     "name": "stdout",
     "output_type": "stream",
     "text": [
      "age: 32\n",
      "height: 6.1\n",
      "name: yaswanth\n"
     ]
    }
   ],
   "source": [
    "## Declaring and Assigning Variables\n",
    "age = 32\n",
    "height = 6.1\n",
    "name=\"yaswanth\"\n",
    "is_student= False\n",
    "\n",
    "print(\"age:\", age)\n",
    "print(\"height:\", height)\n",
    "print(\"name:\", name)"
   ]
  },
  {
   "cell_type": "code",
   "execution_count": 3,
   "id": "c5c5f3b3",
   "metadata": {},
   "outputs": [],
   "source": [
    "## naming Conventions\n",
    "## variable names should be descriptive\n",
    "## They must start with a letter or underscore and contain letters, numbers and underscore\n",
    "## variable names are case sensitives\n",
    "\n",
    "#valid variable names\n",
    "first_name=\"Yaswanth\"\n",
    "last_name=\"Kumar\""
   ]
  },
  {
   "cell_type": "code",
   "execution_count": 6,
   "id": "e9439a25",
   "metadata": {},
   "outputs": [],
   "source": [
    "#Invalid variable names\n",
    "#5age=32\n",
    "#first-name\n",
    "#@name"
   ]
  },
  {
   "cell_type": "code",
   "execution_count": 7,
   "id": "1a39b157",
   "metadata": {},
   "outputs": [
    {
     "name": "stdout",
     "output_type": "stream",
     "text": [
      "krish\n",
      "Yaswanth\n"
     ]
    }
   ],
   "source": [
    "#case sensitive\n",
    "name=\"krish\"\n",
    "Name=\"Yaswanth\"\n",
    "print(name)\n",
    "print(Name)"
   ]
  },
  {
   "cell_type": "code",
   "execution_count": 10,
   "id": "ae8ceb84",
   "metadata": {},
   "outputs": [
    {
     "name": "stdout",
     "output_type": "stream",
     "text": [
      "<class 'float'>\n"
     ]
    }
   ],
   "source": [
    "## undestanding variable types\n",
    "## python is dynamically typed, typeof a variable is  determined at runtime\n",
    "age = 25\n",
    "height=6.1\n",
    "print(type(height))"
   ]
  },
  {
   "cell_type": "code",
   "execution_count": 11,
   "id": "f3d42b3e",
   "metadata": {},
   "outputs": [
    {
     "data": {
      "text/plain": [
       "float"
      ]
     },
     "execution_count": 11,
     "metadata": {},
     "output_type": "execute_result"
    }
   ],
   "source": [
    "type(height)"
   ]
  },
  {
   "cell_type": "code",
   "execution_count": 12,
   "id": "1d3b64df",
   "metadata": {},
   "outputs": [
    {
     "name": "stdout",
     "output_type": "stream",
     "text": [
      "<class 'int'>\n",
      "25\n",
      "<class 'str'>\n"
     ]
    }
   ],
   "source": [
    "age = 25\n",
    "print(type(age))\n",
    "\n",
    "#Type conversion\n",
    "age_str = str(age)\n",
    "print(age_str)\n",
    "print(type(age_str))"
   ]
  },
  {
   "cell_type": "code",
   "execution_count": 13,
   "id": "7f0982f4",
   "metadata": {},
   "outputs": [
    {
     "ename": "ValueError",
     "evalue": "invalid literal for int() with base 10: 'yaswanth'",
     "output_type": "error",
     "traceback": [
      "\u001b[31m---------------------------------------------------------------------------\u001b[39m",
      "\u001b[31mValueError\u001b[39m                                Traceback (most recent call last)",
      "\u001b[36mCell\u001b[39m\u001b[36m \u001b[39m\u001b[32mIn[13]\u001b[39m\u001b[32m, line 2\u001b[39m\n\u001b[32m      1\u001b[39m name=\u001b[33m\"\u001b[39m\u001b[33myaswanth\u001b[39m\u001b[33m\"\u001b[39m\n\u001b[32m----> \u001b[39m\u001b[32m2\u001b[39m \u001b[38;5;28;43mint\u001b[39;49m\u001b[43m(\u001b[49m\u001b[43mname\u001b[49m\u001b[43m)\u001b[49m\n",
      "\u001b[31mValueError\u001b[39m: invalid literal for int() with base 10: 'yaswanth'"
     ]
    }
   ],
   "source": [
    "name=\"yaswanth\"\n",
    "int(name)"
   ]
  },
  {
   "cell_type": "code",
   "execution_count": 14,
   "id": "a8065b64",
   "metadata": {},
   "outputs": [
    {
     "name": "stdout",
     "output_type": "stream",
     "text": [
      "<class 'int'>\n"
     ]
    }
   ],
   "source": [
    "age = '25'\n",
    "print(type(int(age)))"
   ]
  },
  {
   "cell_type": "code",
   "execution_count": 16,
   "id": "61ded9db",
   "metadata": {},
   "outputs": [
    {
     "data": {
      "text/plain": [
       "6"
      ]
     },
     "execution_count": 16,
     "metadata": {},
     "output_type": "execute_result"
    }
   ],
   "source": [
    "height=6.1\n",
    "type(int(height))\n",
    "int(height)"
   ]
  },
  {
   "cell_type": "code",
   "execution_count": 17,
   "id": "c1f799b7",
   "metadata": {},
   "outputs": [
    {
     "name": "stdout",
     "output_type": "stream",
     "text": [
      "10 <class 'int'>\n",
      "Hello <class 'str'>\n",
      "3.14 <class 'float'>\n"
     ]
    }
   ],
   "source": [
    "## Dynamic Typing\n",
    "## python allows the type of the variable to change as the program executes\n",
    "var=10\n",
    "print(var, type(var))\n",
    "\n",
    "var = \"Hello\"\n",
    "print(var, type(var))\n",
    "\n",
    "var=3.14\n",
    "print(var, type(var))"
   ]
  },
  {
   "cell_type": "code",
   "execution_count": 19,
   "id": "f86d0330",
   "metadata": {},
   "outputs": [
    {
     "name": "stdout",
     "output_type": "stream",
     "text": [
      "15\n"
     ]
    }
   ],
   "source": [
    "## input\n",
    "age=input(\"what is the age\")\n",
    "print(age)"
   ]
  },
  {
   "cell_type": "code",
   "execution_count": 20,
   "id": "77e408f0",
   "metadata": {},
   "outputs": [
    {
     "name": "stdout",
     "output_type": "stream",
     "text": [
      "20.0 10.0 75.0 3.0\n"
     ]
    }
   ],
   "source": [
    "## simple calculator\n",
    "num1 = float(input(\"Enter first number\"))\n",
    "num2= float(input(\"Enter second number\"))\n",
    "sum = num1 + num2\n",
    "sub = num1 - num2\n",
    "prod = num1 * num2\n",
    "quot = num1/num2\n",
    "\n",
    "print(sum, sub, prod, quot)"
   ]
  },
  {
   "cell_type": "code",
   "execution_count": null,
   "id": "81d36e4d",
   "metadata": {},
   "outputs": [],
   "source": []
  }
 ],
 "metadata": {
  "kernelspec": {
   "display_name": "Python 3",
   "language": "python",
   "name": "python3"
  },
  "language_info": {
   "codemirror_mode": {
    "name": "ipython",
    "version": 3
   },
   "file_extension": ".py",
   "mimetype": "text/x-python",
   "name": "python",
   "nbconvert_exporter": "python",
   "pygments_lexer": "ipython3",
   "version": "3.12.9"
  }
 },
 "nbformat": 4,
 "nbformat_minor": 5
}
