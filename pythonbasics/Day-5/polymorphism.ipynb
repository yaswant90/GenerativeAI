{
 "cells": [
  {
   "metadata": {
    "ExecuteTime": {
     "end_time": "2025-05-05T03:50:56.869322Z",
     "start_time": "2025-05-05T03:50:56.857345Z"
    }
   },
   "cell_type": "code",
   "source": [
    "### method overriding and interfaces\n",
    "\n",
    "class Animal:\n",
    "    def speak(self):\n",
    "        return \"sound of animal\"\n",
    "\n",
    "class Dog(Animal):\n",
    "    def speak(self):\n",
    "        return \"Woof!\"\n",
    "\n",
    "class Cat(Animal):\n",
    "    def speak(self):\n",
    "        return \"Meow\"\n",
    "\n",
    "dog1 = Dog()\n",
    "cat1 = Cat()\n",
    "print(dog1.speak())\n",
    "print(cat1.speak())"
   ],
   "id": "e33114aafcd3c349",
   "outputs": [
    {
     "name": "stdout",
     "output_type": "stream",
     "text": [
      "Woof!\n",
      "Meow\n"
     ]
    }
   ],
   "execution_count": 2
  },
  {
   "metadata": {
    "ExecuteTime": {
     "end_time": "2025-05-05T03:52:21.331893Z",
     "start_time": "2025-05-05T03:52:21.316599Z"
    }
   },
   "cell_type": "code",
   "source": [
    "### function that demonastrate polymorphism\n",
    "def animal_speak(animal):\n",
    "    return animal.speak()\n",
    "\n",
    "animal_speak(dog1)"
   ],
   "id": "a16401008a6ccc2f",
   "outputs": [
    {
     "data": {
      "text/plain": [
       "'Woof!'"
      ]
     },
     "execution_count": 4,
     "metadata": {},
     "output_type": "execute_result"
    }
   ],
   "execution_count": 4
  },
  {
   "metadata": {
    "ExecuteTime": {
     "end_time": "2025-05-05T03:56:20.952479Z",
     "start_time": "2025-05-05T03:56:20.941175Z"
    }
   },
   "cell_type": "code",
   "source": [
    "### Polymorphism with functions and methods\n",
    "class Shape:\n",
    "    def area(self):\n",
    "        return \"Area of shape\"\n",
    "\n",
    "class Rectangle(Shape):\n",
    "    def __init__(self, width, height):\n",
    "        self.width = width\n",
    "        self.height = height\n",
    "    def area(self):\n",
    "        return self.width * self.height\n",
    "\n",
    "class Circle(Shape):\n",
    "    def __init__(self, radius):\n",
    "        self.radius = radius\n",
    "    def area(self):\n",
    "        return 3.14 * self.radius * self.radius\n",
    "\n",
    "def print_area(shape):\n",
    "    return shape.area()\n",
    "\n",
    "rectangle = Rectangle(10, 20)\n",
    "circle = Circle(10)\n",
    "print(print_area(rectangle))\n",
    "print(print_area(circle))"
   ],
   "id": "a7f014434b238159",
   "outputs": [
    {
     "name": "stdout",
     "output_type": "stream",
     "text": [
      "200\n",
      "314.0\n"
     ]
    }
   ],
   "execution_count": 5
  },
  {
   "metadata": {
    "ExecuteTime": {
     "end_time": "2025-05-05T04:02:42.550331Z",
     "start_time": "2025-05-05T04:02:42.540975Z"
    }
   },
   "cell_type": "code",
   "source": [
    "### polymorphism with Abstract base class. Used to define common methods for a group of related objects\n",
    "\n",
    "from abc import ABC, abstractmethod\n",
    "class vehicle(ABC):\n",
    "    @abstractmethod\n",
    "    def start_engine(self):\n",
    "        pass\n",
    "\n",
    "class car(vehicle):\n",
    "    def start_engine(self):\n",
    "        print(\"car engine started\")\n",
    "\n",
    "class motorcycle(vehicle):\n",
    "    def start_engine(self):\n",
    "        print(\"motorcycle engine started\")\n",
    "\n",
    "def start_vehicle(vehicle):\n",
    "    print(vehicle.start_engine())\n",
    "\n",
    "car = car()\n",
    "motorcycle = motorcycle()\n",
    "\n",
    "start_vehicle(car)"
   ],
   "id": "fab61e1ff48779c0",
   "outputs": [
    {
     "name": "stdout",
     "output_type": "stream",
     "text": [
      "car engine started\n",
      "None\n"
     ]
    }
   ],
   "execution_count": 6
  },
  {
   "metadata": {},
   "cell_type": "code",
   "outputs": [],
   "execution_count": null,
   "source": "",
   "id": "683fd418068618a3"
  }
 ],
 "metadata": {
  "kernelspec": {
   "name": "python3",
   "language": "python",
   "display_name": "Python 3 (ipykernel)"
  }
 },
 "nbformat": 5,
 "nbformat_minor": 9
}
