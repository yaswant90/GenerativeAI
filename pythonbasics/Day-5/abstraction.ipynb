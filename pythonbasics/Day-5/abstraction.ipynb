{
 "cells": [
  {
   "metadata": {
    "ExecuteTime": {
     "end_time": "2025-05-05T04:28:09.984841Z",
     "start_time": "2025-05-05T04:28:09.972905Z"
    }
   },
   "cell_type": "code",
   "source": [
    "### concept of hiding important features and show only necessary fields\n",
    "from abc import ABC, abstractmethod\n",
    "class Vehicle(ABC):\n",
    "    def drive(self):\n",
    "        print(\"vehicle driving\")\n",
    "    @abstractmethod\n",
    "    def start_engine(self):\n",
    "        pass\n",
    "\n",
    "class car(Vehicle):\n",
    "    def start_engine(self):\n",
    "        print(\"car engine started...\")\n",
    "\n",
    "def operate_vehicle(vehicle):\n",
    "    vehicle.start_engine()\n",
    "    vehicle.drive()\n",
    "\n",
    "car = car()\n",
    "operate_vehicle(car)"
   ],
   "id": "d2652fe6292ee2ec",
   "outputs": [
    {
     "name": "stdout",
     "output_type": "stream",
     "text": [
      "car engine started...\n",
      "vehicle driving\n"
     ]
    }
   ],
   "execution_count": 2
  },
  {
   "metadata": {},
   "cell_type": "code",
   "outputs": [],
   "execution_count": null,
   "source": "",
   "id": "c5b74ccf0e9a431f"
  }
 ],
 "metadata": {
  "kernelspec": {
   "name": "python3",
   "language": "python",
   "display_name": "Python 3 (ipykernel)"
  }
 },
 "nbformat": 5,
 "nbformat_minor": 9
}
