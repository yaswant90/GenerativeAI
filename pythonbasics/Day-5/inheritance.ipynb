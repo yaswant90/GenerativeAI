{
 "cells": [
  {
   "metadata": {
    "ExecuteTime": {
     "end_time": "2025-05-02T12:24:03.651069Z",
     "start_time": "2025-05-02T12:24:03.642941Z"
    }
   },
   "cell_type": "code",
   "source": [
    "\"\"\"inheritance (single inheritance)\"\"\"\n",
    "\"\"\"Parent Class\"\"\"\n",
    "class Car:\n",
    "    def __init__(self, windows, doors, enginetype):\n",
    "        self.windows = windows\n",
    "        self.doors = doors\n",
    "        self.enginetype = enginetype\n",
    "\n",
    "    def drive(self):\n",
    "        print(f\"Person will drive {self.enginetype} Car\")"
   ],
   "id": "c9a04f30b89a33f1",
   "outputs": [],
   "execution_count": 1
  },
  {
   "metadata": {
    "ExecuteTime": {
     "end_time": "2025-05-02T12:24:28.201455Z",
     "start_time": "2025-05-02T12:24:28.194906Z"
    }
   },
   "cell_type": "code",
   "source": [
    "car1 = Car(windows=3, doors=2, enginetype=\"petrol\")\n",
    "print(car1.drive())"
   ],
   "id": "542d051a65c00864",
   "outputs": [
    {
     "name": "stdout",
     "output_type": "stream",
     "text": [
      "Person will drive petrol Car\n",
      "None\n"
     ]
    }
   ],
   "execution_count": 2
  },
  {
   "metadata": {
    "ExecuteTime": {
     "end_time": "2025-05-02T12:30:34.862261Z",
     "start_time": "2025-05-02T12:30:34.851360Z"
    }
   },
   "cell_type": "code",
   "source": [
    "### child class\n",
    "class Tesla(Car):\n",
    "    def __init__(self, windows, doors, enginetype, is_selfdriving):\n",
    "        super().__init__(windows, doors, enginetype)\n",
    "        self.is_selfdriving = is_selfdriving\n",
    "\n",
    "    def selfDriving(self):\n",
    "        print(f\"Tesla supports self driving : {self.is_selfdriving}\")"
   ],
   "id": "a8aac2ace38f5b46",
   "outputs": [],
   "execution_count": 5
  },
  {
   "metadata": {
    "ExecuteTime": {
     "end_time": "2025-05-02T12:30:58.447842Z",
     "start_time": "2025-05-02T12:30:58.439816Z"
    }
   },
   "cell_type": "code",
   "source": [
    "car_tesla = Tesla(3,4,\"Electric\", True)\n",
    "car_tesla.selfDriving()\n",
    "car_tesla.drive()"
   ],
   "id": "206440dc4282c323",
   "outputs": [
    {
     "name": "stdout",
     "output_type": "stream",
     "text": [
      "Tesla supports self driving : True\n",
      "Person will drive Electric Car\n"
     ]
    }
   ],
   "execution_count": 7
  },
  {
   "metadata": {
    "ExecuteTime": {
     "end_time": "2025-05-02T12:36:55.108098Z",
     "start_time": "2025-05-02T12:36:55.097470Z"
    }
   },
   "cell_type": "code",
   "source": [
    "### multiple inheritance\n",
    "class Animal:\n",
    "    def __init__(self, name):\n",
    "        self.name = name\n",
    "    def speak(self):\n",
    "        print(\"sub classes must implement this method\")\n",
    "\n",
    "class Pet:\n",
    "    def __init__(self, owner):\n",
    "        self.owner = owner\n",
    "\n",
    "class Dog(Animal, Pet):\n",
    "    def __init__(self, name, owner):\n",
    "        Animal.__init__(self, name)\n",
    "        Pet.__init__(self, owner)\n",
    "\n",
    "    def speak(self):\n",
    "        return f\"{self.name} barks woof\"\n",
    "\n",
    "dog1 = Dog(\"buddy\", \"yaswanth\")\n",
    "dog1.speak()"
   ],
   "id": "18afbb6860c665c8",
   "outputs": [
    {
     "data": {
      "text/plain": [
       "'buddy barks woof'"
      ]
     },
     "execution_count": 8,
     "metadata": {},
     "output_type": "execute_result"
    }
   ],
   "execution_count": 8
  },
  {
   "metadata": {
    "ExecuteTime": {
     "end_time": "2025-05-02T12:37:27.817118Z",
     "start_time": "2025-05-02T12:37:27.808889Z"
    }
   },
   "cell_type": "code",
   "source": "print(f\"owner: {dog1.owner}\")",
   "id": "8ab4e904485bada7",
   "outputs": [
    {
     "name": "stdout",
     "output_type": "stream",
     "text": [
      "owner: yaswanth\n"
     ]
    }
   ],
   "execution_count": 9
  },
  {
   "metadata": {},
   "cell_type": "code",
   "outputs": [],
   "execution_count": null,
   "source": "",
   "id": "7afd90f66c2175df"
  }
 ],
 "metadata": {
  "kernelspec": {
   "name": "python3",
   "language": "python",
   "display_name": "Python 3 (ipykernel)"
  }
 },
 "nbformat": 5,
 "nbformat_minor": 9
}
