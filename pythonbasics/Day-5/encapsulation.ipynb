{
 "cells": [
  {
   "metadata": {},
   "cell_type": "code",
   "outputs": [],
   "execution_count": null,
   "source": "### robust, maintainable and reusable code.\n",
   "id": "aa0fa259f848f2ce"
  },
  {
   "metadata": {},
   "cell_type": "markdown",
   "source": "##### Concept of wrapping data (Variables) and methods (Functions) together as a single unit. It restricts direct access to some object components which prevents misuse of data accidently.",
   "id": "421c52b3757f6643"
  },
  {
   "metadata": {
    "ExecuteTime": {
     "end_time": "2025-05-05T04:09:41.290543Z",
     "start_time": "2025-05-05T04:09:41.039854Z"
    }
   },
   "cell_type": "code",
   "source": [
    "### Encapsulation with getter and seeter\n",
    "### public, private and protected access modifiers\n",
    "\n",
    "class Person:\n",
    "    def __init__(self, first_name, last_name, gender):\n",
    "        self.first_name = first_name  ### public variables\n",
    "        self.last_name = last_name\n",
    "        self.__gender = gender  ### private variable\n",
    "\n",
    "person = Person(\"John\", \"Smith\", \"Male\")\n",
    "print(person.first_name)\n",
    "print(person.last_name)\n",
    "print(person.__gender)"
   ],
   "id": "c6367bf4584ec80f",
   "outputs": [
    {
     "name": "stdout",
     "output_type": "stream",
     "text": [
      "John\n",
      "Smith\n"
     ]
    },
    {
     "ename": "AttributeError",
     "evalue": "'Person' object has no attribute '__gender'",
     "output_type": "error",
     "traceback": [
      "\u001B[31m---------------------------------------------------------------------------\u001B[39m",
      "\u001B[31mAttributeError\u001B[39m                            Traceback (most recent call last)",
      "\u001B[36mCell\u001B[39m\u001B[36m \u001B[39m\u001B[32mIn[3]\u001B[39m\u001B[32m, line 13\u001B[39m\n\u001B[32m     11\u001B[39m \u001B[38;5;28mprint\u001B[39m(person.first_name)\n\u001B[32m     12\u001B[39m \u001B[38;5;28mprint\u001B[39m(person.last_name)\n\u001B[32m---> \u001B[39m\u001B[32m13\u001B[39m \u001B[38;5;28mprint\u001B[39m(\u001B[43mperson\u001B[49m\u001B[43m.\u001B[49m\u001B[43m__gender\u001B[49m)\n",
      "\u001B[31mAttributeError\u001B[39m: 'Person' object has no attribute '__gender'"
     ]
    }
   ],
   "execution_count": 3
  },
  {
   "metadata": {
    "ExecuteTime": {
     "end_time": "2025-05-05T04:10:10.719260Z",
     "start_time": "2025-05-05T04:10:10.709444Z"
    }
   },
   "cell_type": "code",
   "source": "dir(person)",
   "id": "3a2739505953f5f8",
   "outputs": [
    {
     "data": {
      "text/plain": [
       "['_Person__gender',\n",
       " '__class__',\n",
       " '__delattr__',\n",
       " '__dict__',\n",
       " '__dir__',\n",
       " '__doc__',\n",
       " '__eq__',\n",
       " '__format__',\n",
       " '__ge__',\n",
       " '__getattribute__',\n",
       " '__getstate__',\n",
       " '__gt__',\n",
       " '__hash__',\n",
       " '__init__',\n",
       " '__init_subclass__',\n",
       " '__le__',\n",
       " '__lt__',\n",
       " '__module__',\n",
       " '__ne__',\n",
       " '__new__',\n",
       " '__reduce__',\n",
       " '__reduce_ex__',\n",
       " '__repr__',\n",
       " '__setattr__',\n",
       " '__sizeof__',\n",
       " '__str__',\n",
       " '__subclasshook__',\n",
       " '__weakref__',\n",
       " 'first_name',\n",
       " 'last_name']"
      ]
     },
     "execution_count": 4,
     "metadata": {},
     "output_type": "execute_result"
    }
   ],
   "execution_count": 4
  },
  {
   "metadata": {
    "ExecuteTime": {
     "end_time": "2025-05-05T04:16:54.657055Z",
     "start_time": "2025-05-05T04:16:54.650631Z"
    }
   },
   "cell_type": "code",
   "source": [
    "class Person:\n",
    "    def __init__(self, first_name, last_name, gender):\n",
    "        self.first_name = first_name\n",
    "        self.last_name = last_name\n",
    "        self._gender = gender ### protected\n",
    "\n",
    "class Employee(person):\n",
    "    def __init__(self, first_name, last_name, gender):\n",
    "        super().__init__(first_name, last_name, gender)\n",
    "\n",
    "person = Person(\"John\", \"Smith\", \"Male\")\n",
    "dir(person)"
   ],
   "id": "9851ae1e4f6dbaae",
   "outputs": [
    {
     "data": {
      "text/plain": [
       "['__class__',\n",
       " '__delattr__',\n",
       " '__dict__',\n",
       " '__dir__',\n",
       " '__doc__',\n",
       " '__eq__',\n",
       " '__format__',\n",
       " '__ge__',\n",
       " '__getattribute__',\n",
       " '__getstate__',\n",
       " '__gt__',\n",
       " '__hash__',\n",
       " '__init__',\n",
       " '__init_subclass__',\n",
       " '__le__',\n",
       " '__lt__',\n",
       " '__module__',\n",
       " '__ne__',\n",
       " '__new__',\n",
       " '__reduce__',\n",
       " '__reduce_ex__',\n",
       " '__repr__',\n",
       " '__setattr__',\n",
       " '__sizeof__',\n",
       " '__str__',\n",
       " '__subclasshook__',\n",
       " '__weakref__',\n",
       " '_gender',\n",
       " 'first_name',\n",
       " 'last_name']"
      ]
     },
     "execution_count": 11,
     "metadata": {},
     "output_type": "execute_result"
    }
   ],
   "execution_count": 11
  },
  {
   "metadata": {
    "ExecuteTime": {
     "end_time": "2025-05-05T04:21:27.138182Z",
     "start_time": "2025-05-05T04:21:27.132440Z"
    }
   },
   "cell_type": "code",
   "source": [
    "### Encapsulation with getter and setter\n",
    "class Person:\n",
    "    def __init__(self, name, age):\n",
    "        ### private variables\n",
    "        self.__name = name\n",
    "        self.__age = age\n",
    "    def get_name(self):\n",
    "        return self.__name\n",
    "    def get_age(self):\n",
    "        return self.__age\n",
    "\n",
    "    def set_name(self, name):\n",
    "        self.__name = name\n",
    "    def set_age(self, age):\n",
    "        if age > 0:\n",
    "            self.__age = age\n",
    "        else:\n",
    "            print(\"age must be greater than 0\")\n",
    "person = Person(\"Yaswanth\", 34)\n",
    "print(person.get_name())\n",
    "print(person.get_age())\n",
    "print(person.set_age(25))\n",
    "print(person.get_age())"
   ],
   "id": "58540a23d3a8c436",
   "outputs": [
    {
     "name": "stdout",
     "output_type": "stream",
     "text": [
      "Yaswanth\n",
      "34\n",
      "None\n",
      "25\n"
     ]
    }
   ],
   "execution_count": 12
  },
  {
   "metadata": {},
   "cell_type": "code",
   "outputs": [],
   "execution_count": null,
   "source": "",
   "id": "abeadd6ef8693d75"
  }
 ],
 "metadata": {
  "kernelspec": {
   "name": "python3",
   "language": "python",
   "display_name": "Python 3 (ipykernel)"
  }
 },
 "nbformat": 5,
 "nbformat_minor": 9
}
