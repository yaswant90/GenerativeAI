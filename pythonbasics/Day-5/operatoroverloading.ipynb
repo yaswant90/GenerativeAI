{
 "cells": [
  {
   "metadata": {
    "ExecuteTime": {
     "end_time": "2025-05-05T04:44:15.042647Z",
     "start_time": "2025-05-05T04:44:15.035223Z"
    }
   },
   "cell_type": "code",
   "source": [
    "### Mathemetical operations for vectors\n",
    "class vector:\n",
    "    def __init__(self, a, b):\n",
    "        self.a = a\n",
    "        self.b = b\n",
    "    def __add__(self, other):\n",
    "        return vector(self.a + other.a, self.b + other.b)\n",
    "    def __sub__(self, other):\n",
    "        return vector(self.a - other.a, self.b - other.b)\n",
    "    def __mul__(self, other):\n",
    "        return vector(self.a * other.a, self.b * other.b)\n",
    "    def __truediv__(self, other):\n",
    "        return vector(self.a / other.a, self.b / other.b)\n",
    "    def __floordiv__(self, other):\n",
    "        return vector(self.a // other.a, self.b // other.b)\n",
    "    def __mod__(self, other):\n",
    "        return vector(self.a % other.a, self.b % other.b)\n",
    "    def __eq__(self, other):\n",
    "        return self.a == other.a and self.b == other.b\n",
    "    def __ne__(self, other):\n",
    "        return self.a != other.a or self.b != other.b\n",
    "    def __lt__(self, other):\n",
    "        return self.a < other.a or self.b < other.b\n",
    "    def __le__(self, other):\n",
    "        return self.a <= other.a or self.b <= other.b\n",
    "    def __gt__(self, other):\n",
    "        return self.a > other.a or self.b > other.b\n",
    "    def __ge__(self, other):\n",
    "        return self.a >= other.a or self.b >= other.b\n",
    "    def __repr__(self):\n",
    "        return f'{self.__class__.__name__}({self.a}, {self.b})'\n",
    "\n",
    "v1 = vector(1, 2)\n",
    "v2 = vector(3, 4)\n",
    "print(v1 + v2)\n",
    "print(v1 - v2)\n",
    "print(v1 // v2)"
   ],
   "id": "9bb6220fb40dbdb6",
   "outputs": [
    {
     "name": "stdout",
     "output_type": "stream",
     "text": [
      "vector(4, 6)\n",
      "vector(-2, -2)\n",
      "vector(0, 0)\n"
     ]
    }
   ],
   "execution_count": 2
  },
  {
   "metadata": {},
   "cell_type": "code",
   "outputs": [],
   "execution_count": null,
   "source": "",
   "id": "50ef521ec5fdfadc"
  }
 ],
 "metadata": {
  "kernelspec": {
   "name": "python3",
   "language": "python",
   "display_name": "Python 3 (ipykernel)"
  }
 },
 "nbformat": 5,
 "nbformat_minor": 9
}
