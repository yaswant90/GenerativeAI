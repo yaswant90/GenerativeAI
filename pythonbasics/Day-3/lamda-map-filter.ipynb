{
 "cells": [
  {
   "cell_type": "markdown",
   "id": "27ca5c7f",
   "metadata": {},
   "source": [
    "### Exploring Lambda function"
   ]
  },
  {
   "cell_type": "code",
   "execution_count": 1,
   "id": "7961647a",
   "metadata": {},
   "outputs": [
    {
     "data": {
      "text/plain": [
       "15"
      ]
     },
     "execution_count": 1,
     "metadata": {},
     "output_type": "execute_result"
    }
   ],
   "source": [
    "def addition(a, b):\n",
    "    return a + b\n",
    "addition(10,5)"
   ]
  },
  {
   "cell_type": "code",
   "execution_count": null,
   "id": "94b6467a",
   "metadata": {},
   "outputs": [
    {
     "data": {
      "text/plain": [
       "25"
      ]
     },
     "execution_count": 4,
     "metadata": {},
     "output_type": "execute_result"
    }
   ],
   "source": [
    "addition = lambda a,b:a+b ### lambda parameters: expression\n",
    "addition(10,15)"
   ]
  },
  {
   "cell_type": "code",
   "execution_count": 5,
   "id": "c9bde963",
   "metadata": {},
   "outputs": [
    {
     "data": {
      "text/plain": [
       "19"
      ]
     },
     "execution_count": 5,
     "metadata": {},
     "output_type": "execute_result"
    }
   ],
   "source": [
    "addition = lambda a,b,c: a+b+c\n",
    "addition(10,4,5)"
   ]
  },
  {
   "cell_type": "code",
   "execution_count": 8,
   "id": "9157a683",
   "metadata": {},
   "outputs": [
    {
     "data": {
      "text/plain": [
       "[1, 4, 9, 16, 25, 36]"
      ]
     },
     "execution_count": 8,
     "metadata": {},
     "output_type": "execute_result"
    }
   ],
   "source": [
    "numbers=[1,2,3,4,5,6]\n",
    "def square(numbers):\n",
    "    lst = []\n",
    "    for num in numbers:\n",
    "        lst.append(num**2)\n",
    "    return lst\n",
    "square(numbers)"
   ]
  },
  {
   "cell_type": "code",
   "execution_count": null,
   "id": "93b2af08",
   "metadata": {},
   "outputs": [
    {
     "data": {
      "text/plain": [
       "[1, 4, 9, 16, 25, 36]"
      ]
     },
     "execution_count": 7,
     "metadata": {},
     "output_type": "execute_result"
    }
   ],
   "source": [
    "square_numbers = list(map(lambda num: num**2, numbers)) ## Lambda with map\n",
    "square_numbers"
   ]
  },
  {
   "cell_type": "markdown",
   "id": "39caab32",
   "metadata": {},
   "source": [
    "### Exploring Map Function"
   ]
  },
  {
   "cell_type": "code",
   "execution_count": 1,
   "id": "8e5b3f53",
   "metadata": {},
   "outputs": [
    {
     "data": {
      "text/plain": [
       "16"
      ]
     },
     "execution_count": 1,
     "metadata": {},
     "output_type": "execute_result"
    }
   ],
   "source": [
    "def square(x):\n",
    "    return x**2\n",
    "square(4)"
   ]
  },
  {
   "cell_type": "code",
   "execution_count": 2,
   "id": "fdcf83f4",
   "metadata": {},
   "outputs": [
    {
     "data": {
      "text/plain": [
       "[1, 4, 9, 16, 25, 36]"
      ]
     },
     "execution_count": 2,
     "metadata": {},
     "output_type": "execute_result"
    }
   ],
   "source": [
    "numbers = [1,2,3,4,5,6]\n",
    "square_numbers = list(map(square, numbers))\n",
    "square_numbers"
   ]
  },
  {
   "cell_type": "code",
   "execution_count": 7,
   "id": "1e915c36",
   "metadata": {},
   "outputs": [
    {
     "data": {
      "text/plain": [
       "[1, 4, 9, 16, 25, 36]"
      ]
     },
     "execution_count": 7,
     "metadata": {},
     "output_type": "execute_result"
    }
   ],
   "source": [
    "square_numbers = list(map(lambda x: x*x, numbers)) ## Lambda with map\n",
    "square_numbers"
   ]
  },
  {
   "cell_type": "code",
   "execution_count": 8,
   "id": "655ffb99",
   "metadata": {},
   "outputs": [
    {
     "data": {
      "text/plain": [
       "[5, 7, 9]"
      ]
     },
     "execution_count": 8,
     "metadata": {},
     "output_type": "execute_result"
    }
   ],
   "source": [
    "## map multiple iterables\n",
    "num1 = [1,2,3]\n",
    "num2 = [4,5,6]\n",
    "added_numbers = list(map(lambda x,y: x+y, num1,num2))\n",
    "added_numbers"
   ]
  },
  {
   "cell_type": "code",
   "execution_count": 12,
   "id": "17cba8bb",
   "metadata": {},
   "outputs": [
    {
     "name": "stdout",
     "output_type": "stream",
     "text": [
      "[1, 2, 3, 4, 5]\n"
     ]
    }
   ],
   "source": [
    "str_numbers = ['1','2','3','4','5']\n",
    "int_numbers = list(map(int, str_numbers)) ## you can use inbuild functions as function in lambda\n",
    "print(int_numbers)\n"
   ]
  },
  {
   "cell_type": "code",
   "execution_count": 13,
   "id": "14a24ac4",
   "metadata": {},
   "outputs": [
    {
     "data": {
      "text/plain": [
       "['APPLE', 'BANANA', 'CHERRY']"
      ]
     },
     "execution_count": 13,
     "metadata": {},
     "output_type": "execute_result"
    }
   ],
   "source": [
    "words = ['apple', 'banana', 'cherry']\n",
    "upper_words = list(map(str.upper, words))\n",
    "upper_words"
   ]
  },
  {
   "cell_type": "code",
   "execution_count": 14,
   "id": "7fb6530c",
   "metadata": {},
   "outputs": [
    {
     "data": {
      "text/plain": [
       "['yaswant', 'kumar']"
      ]
     },
     "execution_count": 14,
     "metadata": {},
     "output_type": "execute_result"
    }
   ],
   "source": [
    "def get_name(person):\n",
    "    return person['name']\n",
    "people = [\n",
    "    {'name': 'yaswant', 'age': 25},\n",
    "    {'name': 'kumar', 'age': 26}\n",
    "]\n",
    "list(map(get_name, people))"
   ]
  },
  {
   "cell_type": "markdown",
   "id": "31d67f48",
   "metadata": {},
   "source": [
    "### Exploring filters"
   ]
  },
  {
   "cell_type": "code",
   "execution_count": 16,
   "id": "b5ccdd5c",
   "metadata": {},
   "outputs": [
    {
     "data": {
      "text/plain": [
       "True"
      ]
     },
     "execution_count": 16,
     "metadata": {},
     "output_type": "execute_result"
    }
   ],
   "source": [
    "def even(num):\n",
    "    if num%2==0:\n",
    "        return True\n",
    "even(24)"
   ]
  },
  {
   "cell_type": "code",
   "execution_count": 18,
   "id": "ff1ab059",
   "metadata": {},
   "outputs": [
    {
     "data": {
      "text/plain": [
       "[2, 4, 6, 8, 10, 12]"
      ]
     },
     "execution_count": 18,
     "metadata": {},
     "output_type": "execute_result"
    }
   ],
   "source": [
    "lst = [1,2,3,4,5,6,7,8,9,10,11,12]\n",
    "list(filter(even, lst))"
   ]
  },
  {
   "cell_type": "code",
   "execution_count": 19,
   "id": "ed6a7407",
   "metadata": {},
   "outputs": [
    {
     "data": {
      "text/plain": [
       "[6, 7, 8, 9, 10, 11, 12]"
      ]
     },
     "execution_count": 19,
     "metadata": {},
     "output_type": "execute_result"
    }
   ],
   "source": [
    "### filter with lambda\n",
    "numbers = [1,2,3,4,5,6,7,8,9,10,11,12]\n",
    "list(filter(lambda x: x>5, numbers))\n"
   ]
  },
  {
   "cell_type": "code",
   "execution_count": 20,
   "id": "b1af50f3",
   "metadata": {},
   "outputs": [
    {
     "data": {
      "text/plain": [
       "[6, 8, 10, 12]"
      ]
     },
     "execution_count": 20,
     "metadata": {},
     "output_type": "execute_result"
    }
   ],
   "source": [
    "### filter with lambda and multiple conditions\n",
    "numbers = [1,2,3,4,5,6,7,8,9,10,11,12]\n",
    "list(filter(lambda x:x>5 and x%2==0, numbers))"
   ]
  },
  {
   "cell_type": "code",
   "execution_count": 22,
   "id": "228a9de6",
   "metadata": {},
   "outputs": [
    {
     "data": {
      "text/plain": [
       "[{'name': 'kumar', 'age': 26}, {'name': 'krysh', 'age': 33}]"
      ]
     },
     "execution_count": 22,
     "metadata": {},
     "output_type": "execute_result"
    }
   ],
   "source": [
    "### filter with dictionaries\n",
    "people = [\n",
    "    {'name': 'yaswant', 'age': 25},\n",
    "    {'name': 'kumar', 'age': 26},\n",
    "    {'name': 'krysh', 'age': 33},\n",
    "    {'name': 'suresh', 'age': 24}\n",
    "]\n",
    "\n",
    "def age_great_25(person):\n",
    "    return person['age'] > 25\n",
    "list(filter(age_great_25, people))"
   ]
  },
  {
   "cell_type": "code",
   "execution_count": null,
   "id": "05f8d532",
   "metadata": {},
   "outputs": [],
   "source": []
  }
 ],
 "metadata": {
  "kernelspec": {
   "display_name": "Python 3",
   "language": "python",
   "name": "python3"
  },
  "language_info": {
   "codemirror_mode": {
    "name": "ipython",
    "version": 3
   },
   "file_extension": ".py",
   "mimetype": "text/x-python",
   "name": "python",
   "nbconvert_exporter": "python",
   "pygments_lexer": "ipython3",
   "version": "3.12.9"
  }
 },
 "nbformat": 4,
 "nbformat_minor": 5
}
