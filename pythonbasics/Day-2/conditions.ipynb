{
 "cells": [
  {
   "cell_type": "code",
   "execution_count": 1,
   "id": "fd9295da",
   "metadata": {},
   "outputs": [
    {
     "name": "stdout",
     "output_type": "stream",
     "text": [
      "30\n"
     ]
    }
   ],
   "source": [
    "age = 30\n",
    "if age>25:\n",
    "    print(age)"
   ]
  },
  {
   "cell_type": "code",
   "execution_count": 4,
   "id": "ea64fcee",
   "metadata": {},
   "outputs": [
    {
     "name": "stdout",
     "output_type": "stream",
     "text": [
      "5 / 2  =  2.5\n"
     ]
    }
   ],
   "source": [
    "## simple calculator program\n",
    "num1 = int(input(\"Enter interger number 1\"))\n",
    "num2 = int(input(\"Enter interger number 2\"))\n",
    "operation = str(input(\"Enter + | - | * | /\"))\n",
    "\n",
    "if operation == \"+\":\n",
    "    print(num1, \"+\" , num2, \" = \", num1 + num2)\n",
    "elif operation == \"-\":\n",
    "    print(num1, \"-\" , num2, \" = \",num1-num2)\n",
    "elif operation == \"*\":\n",
    "    print(num1, \"*\" , num2, \" = \",num1 * num2)\n",
    "elif operation == \"/\":\n",
    "    print(num1, \"/\" , num2, \" = \",num1 / num2)\n",
    "else:\n",
    "    print(\"Operation is not valid\")"
   ]
  },
  {
   "cell_type": "code",
   "execution_count": 14,
   "id": "568f13bf",
   "metadata": {},
   "outputs": [
    {
     "name": "stdout",
     "output_type": "stream",
     "text": [
      "Your final fare:  35\n"
     ]
    }
   ],
   "source": [
    "## write a program to generate ticket price for a student in a bus.\n",
    "passenger_age_limit = int(input(\"Enter the passenger age\"))\n",
    "km_price = float(input(\"Enter what the cost per kilometer\"))\n",
    "travel_km = float(input(\"Enter how many kilometers passenger needs to travel\"))\n",
    "student_offer = 20\n",
    "student_age_limit = int(input(\"Enter the max student age to obtain offer\"))\n",
    "student_min_age_limit = 4\n",
    "is_valid_id = bool(input(\"Enter student have valid ID Card or not\"));\n",
    "tax = 10;\n",
    "travel_base_price = int(travel_km * km_price);\n",
    "travel_price_after_tax = int(travel_base_price + int((travel_base_price * tax)/100))\n",
    "\n",
    "if not is_valid_id:\n",
    "    print(\"Sorry you dont have valid ID card, you can't avail the offer, your total fare: \",  + travel_price_after_tax)\n",
    "elif passenger_age_limit > student_age_limit:\n",
    "    print(\"Sorry you can't avail this offer as you are not a student, your total fare: \",  + travel_price_after_tax)\n",
    "elif passenger_age_limit < student_min_age_limit:\n",
    "    print(\"Hurray you no need to pay fare because you are a junior\")\n",
    "else:\n",
    "    modified_base_fare = travel_base_price - ((travel_base_price * student_offer)/100)\n",
    "    modified_price_after_tax = int(modified_base_fare + int((modified_base_fare * tax)/100))\n",
    "    print(\"Your final fare: \", modified_price_after_tax)    "
   ]
  },
  {
   "cell_type": "code",
   "execution_count": null,
   "id": "d203a7b8",
   "metadata": {},
   "outputs": [],
   "source": []
  }
 ],
 "metadata": {
  "kernelspec": {
   "display_name": "Python 3",
   "language": "python",
   "name": "python3"
  },
  "language_info": {
   "codemirror_mode": {
    "name": "ipython",
    "version": 3
   },
   "file_extension": ".py",
   "mimetype": "text/x-python",
   "name": "python",
   "nbconvert_exporter": "python",
   "pygments_lexer": "ipython3",
   "version": "3.12.9"
  }
 },
 "nbformat": 4,
 "nbformat_minor": 5
}
