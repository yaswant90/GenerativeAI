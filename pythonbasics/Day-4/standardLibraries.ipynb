{
 "cells": [
  {
   "metadata": {
    "ExecuteTime": {
     "end_time": "2025-05-02T04:51:00.408291Z",
     "start_time": "2025-05-02T04:51:00.401724Z"
    }
   },
   "cell_type": "code",
   "source": [
    "import array\n",
    "array = array.array('i', [1,2,3,4])\n",
    "print(array)"
   ],
   "id": "4c06082036829f9a",
   "outputs": [
    {
     "name": "stdout",
     "output_type": "stream",
     "text": [
      "array('i', [1, 2, 3, 4])\n"
     ]
    }
   ],
   "execution_count": 2
  },
  {
   "metadata": {
    "ExecuteTime": {
     "end_time": "2025-05-02T04:51:18.203840Z",
     "start_time": "2025-05-02T04:51:18.195714Z"
    }
   },
   "cell_type": "code",
   "source": [
    "import math\n",
    "math.sqrt(16)"
   ],
   "id": "4bf208d9df05e5fa",
   "outputs": [
    {
     "data": {
      "text/plain": [
       "4.0"
      ]
     },
     "execution_count": 3,
     "metadata": {},
     "output_type": "execute_result"
    }
   ],
   "execution_count": 3
  },
  {
   "metadata": {
    "ExecuteTime": {
     "end_time": "2025-05-02T04:51:22.021081Z",
     "start_time": "2025-05-02T04:51:22.014149Z"
    }
   },
   "cell_type": "code",
   "source": "math.pi",
   "id": "9e3142be7eb912bd",
   "outputs": [
    {
     "data": {
      "text/plain": [
       "3.141592653589793"
      ]
     },
     "execution_count": 4,
     "metadata": {},
     "output_type": "execute_result"
    }
   ],
   "execution_count": 4
  },
  {
   "metadata": {
    "ExecuteTime": {
     "end_time": "2025-05-02T04:51:34.389936Z",
     "start_time": "2025-05-02T04:51:34.383950Z"
    }
   },
   "cell_type": "code",
   "source": [
    "import random\n",
    "random.random()"
   ],
   "id": "66b4237e943628f",
   "outputs": [
    {
     "data": {
      "text/plain": [
       "0.9281230831093685"
      ]
     },
     "execution_count": 5,
     "metadata": {},
     "output_type": "execute_result"
    }
   ],
   "execution_count": 5
  },
  {
   "metadata": {
    "ExecuteTime": {
     "end_time": "2025-05-02T04:51:56.846988Z",
     "start_time": "2025-05-02T04:51:56.841110Z"
    }
   },
   "cell_type": "code",
   "source": "random.randint(1,20)",
   "id": "b3ee39cce23a6256",
   "outputs": [
    {
     "data": {
      "text/plain": [
       "4"
      ]
     },
     "execution_count": 6,
     "metadata": {},
     "output_type": "execute_result"
    }
   ],
   "execution_count": 6
  },
  {
   "metadata": {
    "ExecuteTime": {
     "end_time": "2025-05-02T04:52:52.078421Z",
     "start_time": "2025-05-02T04:52:52.073400Z"
    }
   },
   "cell_type": "code",
   "source": "random.choice([1,2,3,4,'10'])",
   "id": "12d5068528a97e78",
   "outputs": [
    {
     "data": {
      "text/plain": [
       "'10'"
      ]
     },
     "execution_count": 8,
     "metadata": {},
     "output_type": "execute_result"
    }
   ],
   "execution_count": 8
  },
  {
   "metadata": {
    "ExecuteTime": {
     "end_time": "2025-05-02T04:53:28.919907Z",
     "start_time": "2025-05-02T04:53:28.916729Z"
    }
   },
   "cell_type": "code",
   "source": [
    "### file and directory handling\n",
    "import os\n",
    "print(os.getcwd())"
   ],
   "id": "ec0bbf2bc8eb5737",
   "outputs": [
    {
     "name": "stdout",
     "output_type": "stream",
     "text": [
      "C:\\Users\\Yaswant_Sadasivuni\\PycharmProjects\\PythonProject1\\.venv\n"
     ]
    }
   ],
   "execution_count": 9
  },
  {
   "metadata": {
    "ExecuteTime": {
     "end_time": "2025-05-02T04:54:30.433604Z",
     "start_time": "2025-05-02T04:54:30.427977Z"
    }
   },
   "cell_type": "code",
   "source": "os.makedirs('testDir')",
   "id": "a3a695acce7cc84",
   "outputs": [],
   "execution_count": 11
  },
  {
   "metadata": {
    "ExecuteTime": {
     "end_time": "2025-05-02T04:55:32.121656Z",
     "start_time": "2025-05-02T04:55:32.113157Z"
    }
   },
   "cell_type": "code",
   "source": [
    "### high level operations on files\n",
    "import shutil\n",
    "shutil"
   ],
   "id": "fa087c589d875968",
   "outputs": [
    {
     "data": {
      "text/plain": [
       "<module 'shutil' from 'C:\\\\Program Files\\\\Python312\\\\Lib\\\\shutil.py'>"
      ]
     },
     "execution_count": 12,
     "metadata": {},
     "output_type": "execute_result"
    }
   ],
   "execution_count": 12
  },
  {
   "metadata": {
    "ExecuteTime": {
     "end_time": "2025-05-02T04:57:09.029513Z",
     "start_time": "2025-05-02T04:57:09.015655Z"
    }
   },
   "cell_type": "code",
   "source": "shutil.copy('source.txt', 'destination.txt')",
   "id": "cbea231fea7aa961",
   "outputs": [
    {
     "data": {
      "text/plain": [
       "'destination.txt'"
      ]
     },
     "execution_count": 13,
     "metadata": {},
     "output_type": "execute_result"
    }
   ],
   "execution_count": 13
  },
  {
   "metadata": {
    "ExecuteTime": {
     "end_time": "2025-05-02T04:59:40.331872Z",
     "start_time": "2025-05-02T04:59:40.328110Z"
    }
   },
   "cell_type": "code",
   "source": [
    "### data serialization\n",
    "import json\n",
    "data = {'name': 'yaswant', 'age': 25}\n",
    "str = json.dumps(data)\n",
    "print(str)\n",
    "print(type(str))"
   ],
   "id": "6c2e8676a471c343",
   "outputs": [
    {
     "name": "stdout",
     "output_type": "stream",
     "text": [
      "{\"name\": \"yaswant\", \"age\": 25}\n",
      "<class 'str'>\n"
     ]
    }
   ],
   "execution_count": 16
  },
  {
   "metadata": {
    "ExecuteTime": {
     "end_time": "2025-05-02T05:00:27.160192Z",
     "start_time": "2025-05-02T05:00:27.155360Z"
    }
   },
   "cell_type": "code",
   "source": [
    "parsed = json.loads(str)\n",
    "print(parsed)\n",
    "print(type(parsed))"
   ],
   "id": "60e2ccea2393ac9",
   "outputs": [
    {
     "name": "stdout",
     "output_type": "stream",
     "text": [
      "{'name': 'yaswant', 'age': 25}\n",
      "<class 'dict'>\n"
     ]
    }
   ],
   "execution_count": 17
  },
  {
   "metadata": {
    "ExecuteTime": {
     "end_time": "2025-05-02T05:06:43.763662Z",
     "start_time": "2025-05-02T05:06:43.709517Z"
    }
   },
   "cell_type": "code",
   "source": [
    "### csv\n",
    "import csv\n",
    "with open('test.csv', 'w', newline='') as csvfile:\n",
    "    writer = csv.writer(csvfile)\n",
    "    writer.writerow(['name', 'age'])\n",
    "    writer.writerow(['yaswant', '35'])\n",
    "    writer.writerow(['balaji', '32'])\n",
    "with open('test.csv', 'r', newline='') as csvfile:\n",
    "    reader = csv.reader(csvfile)\n",
    "    for row in reader:\n",
    "        print(row)"
   ],
   "id": "e3baad32d9458a83",
   "outputs": [
    {
     "name": "stdout",
     "output_type": "stream",
     "text": [
      "['name', 'age']\n",
      "['yaswant', '35']\n",
      "['balaji', '32']\n"
     ]
    }
   ],
   "execution_count": 18
  },
  {
   "metadata": {
    "ExecuteTime": {
     "end_time": "2025-05-02T05:08:51.578420Z",
     "start_time": "2025-05-02T05:08:51.567239Z"
    }
   },
   "cell_type": "code",
   "source": [
    "### datetime\n",
    "from datetime import datetime, timedelta\n",
    "now = datetime.now()\n",
    "print(now)\n",
    "yesterday = now - timedelta(days=1)\n",
    "print(yesterday)"
   ],
   "id": "834915925dcc3cdc",
   "outputs": [
    {
     "name": "stdout",
     "output_type": "stream",
     "text": [
      "2025-05-02 10:38:51.573757\n",
      "2025-05-01 10:38:51.573757\n"
     ]
    }
   ],
   "execution_count": 22
  },
  {
   "metadata": {
    "ExecuteTime": {
     "end_time": "2025-05-02T05:10:06.789448Z",
     "start_time": "2025-05-02T05:10:04.776019Z"
    }
   },
   "cell_type": "code",
   "source": [
    "### time\n",
    "import time\n",
    "print(time.time())\n",
    "time.sleep(2)\n",
    "print(time.time())"
   ],
   "id": "5e38af060b39512d",
   "outputs": [
    {
     "name": "stdout",
     "output_type": "stream",
     "text": [
      "1746162604.7842884\n",
      "1746162606.786655\n"
     ]
    }
   ],
   "execution_count": 24
  },
  {
   "metadata": {
    "ExecuteTime": {
     "end_time": "2025-05-02T05:12:29.922836Z",
     "start_time": "2025-05-02T05:12:29.903094Z"
    }
   },
   "cell_type": "code",
   "source": [
    "### Regular Expressions\n",
    "import re\n",
    "pattern = r'\\d+'\n",
    "text = 'There are 123 apples'\n",
    "match = re.search(pattern, text)\n",
    "match.group()"
   ],
   "id": "ef6dc7abb4cea46",
   "outputs": [
    {
     "data": {
      "text/plain": [
       "'123'"
      ]
     },
     "execution_count": 29,
     "metadata": {},
     "output_type": "execute_result"
    }
   ],
   "execution_count": 29
  },
  {
   "metadata": {},
   "cell_type": "code",
   "outputs": [],
   "execution_count": null,
   "source": "",
   "id": "2b09eedff2517367"
  }
 ],
 "metadata": {
  "kernelspec": {
   "name": "python3",
   "language": "python",
   "display_name": "Python 3 (ipykernel)"
  }
 },
 "nbformat": 5,
 "nbformat_minor": 9
}
