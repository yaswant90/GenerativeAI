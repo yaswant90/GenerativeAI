{
 "cells": [
  {
   "metadata": {
    "ExecuteTime": {
     "end_time": "2025-05-02T05:52:10.365446Z",
     "start_time": "2025-05-02T05:52:10.332661Z"
    }
   },
   "cell_type": "code",
   "source": [
    "with open('source.txt', 'r') as file:\n",
    "    content = file.read()\n",
    "    print(content)"
   ],
   "id": "17e8cdf60eed4828",
   "outputs": [
    {
     "name": "stdout",
     "output_type": "stream",
     "text": [
      "Hello world\n",
      "Google Assistance\n",
      "Copilon\n",
      "Hello German\n",
      "Hey yaswanth\n"
     ]
    }
   ],
   "execution_count": 1
  },
  {
   "metadata": {
    "ExecuteTime": {
     "end_time": "2025-05-02T05:53:31.718324Z",
     "start_time": "2025-05-02T05:53:31.703860Z"
    }
   },
   "cell_type": "code",
   "source": [
    "with open('source.txt', 'r') as file:\n",
    "    content = file.read()\n",
    "    for line in content.splitlines():\n",
    "        print(line)"
   ],
   "id": "8f5d6a4fb1945b52",
   "outputs": [
    {
     "name": "stdout",
     "output_type": "stream",
     "text": [
      "Hello world\n",
      "Google Assistance\n",
      "Copilon\n",
      "Hello German\n",
      "Hey yaswanth\n"
     ]
    }
   ],
   "execution_count": 4
  },
  {
   "metadata": {
    "ExecuteTime": {
     "end_time": "2025-05-02T05:54:54.886425Z",
     "start_time": "2025-05-02T05:54:54.856385Z"
    }
   },
   "cell_type": "code",
   "source": [
    "with open('source.txt', 'w') as file:\n",
    "    file.write('Google is best search engine \\n') ## overwrites the existing content"
   ],
   "id": "6b18f4062d24e17b",
   "outputs": [],
   "execution_count": 5
  },
  {
   "metadata": {
    "ExecuteTime": {
     "end_time": "2025-05-02T05:55:00.369871Z",
     "start_time": "2025-05-02T05:55:00.352757Z"
    }
   },
   "cell_type": "code",
   "source": [
    "with open('source.txt', 'r') as file:\n",
    "    content = file.read()\n",
    "    print(content)"
   ],
   "id": "a4958c5f467fab75",
   "outputs": [
    {
     "name": "stdout",
     "output_type": "stream",
     "text": [
      "Google is best search engine \n",
      "\n"
     ]
    }
   ],
   "execution_count": 6
  },
  {
   "metadata": {
    "ExecuteTime": {
     "end_time": "2025-05-02T05:56:18.458412Z",
     "start_time": "2025-05-02T05:56:18.419275Z"
    }
   },
   "cell_type": "code",
   "source": [
    "with open('source.txt', 'a') as file:\n",
    "    file.write('Microsoft bing is also a best search engine \\n') ## overwrites the existing content"
   ],
   "id": "451b1c3561cffa58",
   "outputs": [],
   "execution_count": 7
  },
  {
   "metadata": {
    "ExecuteTime": {
     "end_time": "2025-05-02T05:56:37.360173Z",
     "start_time": "2025-05-02T05:56:37.349624Z"
    }
   },
   "cell_type": "code",
   "source": [
    "with open('source.txt', 'r') as file:\n",
    "    content = file.read()\n",
    "    print(content)"
   ],
   "id": "339a34874fc936f3",
   "outputs": [
    {
     "name": "stdout",
     "output_type": "stream",
     "text": [
      "Google is best search engine \n",
      "Microsoft bing is also a best search engine \n",
      "\n"
     ]
    }
   ],
   "execution_count": 8
  },
  {
   "metadata": {
    "ExecuteTime": {
     "end_time": "2025-05-02T05:58:38.072804Z",
     "start_time": "2025-05-02T05:58:38.037400Z"
    }
   },
   "cell_type": "code",
   "source": [
    "### write a list of lines\n",
    "lines = [\"Best search engines \\n\", \"yahoo is also the best\\n\"]\n",
    "with open('source.txt', 'a') as file:\n",
    "    file.writelines(lines)\n",
    "with open('source.txt', 'r') as file:\n",
    "    content = file.read()\n",
    "    print(content)"
   ],
   "id": "18b503f7dacd2750",
   "outputs": [
    {
     "name": "stdout",
     "output_type": "stream",
     "text": [
      "Google is best search engine \n",
      "Microsoft bing is also a best search engine \n",
      "Best search engines \n",
      "yahoo is also the best\n",
      "\n"
     ]
    }
   ],
   "execution_count": 9
  },
  {
   "metadata": {
    "ExecuteTime": {
     "end_time": "2025-05-02T06:00:34.747820Z",
     "start_time": "2025-05-02T06:00:34.706284Z"
    }
   },
   "cell_type": "code",
   "source": [
    "### binary files\n",
    "data = b'\\x00\\x01\\x02\\x03\\x04'\n",
    "with open('example.bin', 'wb') as file:\n",
    "    file.write(data)"
   ],
   "id": "7d1d672bd978e893",
   "outputs": [],
   "execution_count": 10
  },
  {
   "metadata": {
    "ExecuteTime": {
     "end_time": "2025-05-02T06:01:58.640988Z",
     "start_time": "2025-05-02T06:01:58.627405Z"
    }
   },
   "cell_type": "code",
   "source": [
    "with open('example.bin', 'rb') as file:\n",
    "    content = file.read()\n",
    "    print(content)"
   ],
   "id": "c31b152342faa1af",
   "outputs": [
    {
     "name": "stdout",
     "output_type": "stream",
     "text": [
      "b'\\x00\\x01\\x02\\x03\\x04'\n"
     ]
    }
   ],
   "execution_count": 11
  },
  {
   "metadata": {
    "ExecuteTime": {
     "end_time": "2025-05-02T06:04:49.869667Z",
     "start_time": "2025-05-02T06:04:49.854136Z"
    }
   },
   "cell_type": "code",
   "source": [
    "def count_text_files():\n",
    "    with open('source.txt', 'r') as file:\n",
    "        lines = file.readlines()\n",
    "        line_count = len(lines)\n",
    "        word_count = sum(len(line.split()) for line in lines)\n",
    "        char_count = sum(len(line) for line in lines)\n",
    "    return line_count, word_count, char_count\n",
    "count_text_files"
   ],
   "id": "9181a6d995665b4c",
   "outputs": [
    {
     "data": {
      "text/plain": [
       "(4, 21, 119)"
      ]
     },
     "execution_count": 13,
     "metadata": {},
     "output_type": "execute_result"
    }
   ],
   "execution_count": 13
  },
  {
   "metadata": {
    "ExecuteTime": {
     "end_time": "2025-05-02T06:08:16.464172Z",
     "start_time": "2025-05-02T06:08:16.448522Z"
    }
   },
   "cell_type": "code",
   "source": [
    "def count_text_files(filePath):\n",
    "    with open(filePath, 'r') as file:\n",
    "        lines = file.readlines()\n",
    "        line_count = len(lines)\n",
    "        word_count = sum(len(line.split()) for line in lines)\n",
    "        char_count = sum(len(line) for line in lines)\n",
    "    return line_count, word_count, char_count\n",
    "filePath = 'source.txt'\n",
    "line_count, word_count, char_count = count_text_files(filePath)\n",
    "print(f'line_count: {line_count}, word_count: {word_count}, char_count: {char_count}')"
   ],
   "id": "16c27309337d2e85",
   "outputs": [
    {
     "name": "stdout",
     "output_type": "stream",
     "text": [
      "line_count: 4, word_count: 21, char_count: 119\n"
     ]
    }
   ],
   "execution_count": 17
  },
  {
   "metadata": {
    "ExecuteTime": {
     "end_time": "2025-05-02T06:10:58.055579Z",
     "start_time": "2025-05-02T06:10:58.046750Z"
    }
   },
   "cell_type": "code",
   "source": [
    "## both read and write\n",
    "with open('source.txt', 'w+') as file:\n",
    "    file.write('What is best search engine \\n')\n",
    "    file.seek(0) ## move the file cursor to start position\n",
    "    content = file.read()\n",
    "    print(content)\n"
   ],
   "id": "c282b0660621d25",
   "outputs": [
    {
     "name": "stdout",
     "output_type": "stream",
     "text": [
      "What is best search engine \n",
      "\n"
     ]
    }
   ],
   "execution_count": 19
  },
  {
   "metadata": {},
   "cell_type": "code",
   "outputs": [],
   "execution_count": null,
   "source": "",
   "id": "e6db435e6872e9e8"
  }
 ],
 "metadata": {
  "kernelspec": {
   "name": "python3",
   "language": "python",
   "display_name": "Python 3 (ipykernel)"
  }
 },
 "nbformat": 5,
 "nbformat_minor": 9
}
