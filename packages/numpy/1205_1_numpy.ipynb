{
 "cells": [
  {
   "cell_type": "code",
   "execution_count": 1,
   "id": "initial_id",
   "metadata": {
    "ExecuteTime": {
     "end_time": "2025-05-12T06:17:25.067610Z",
     "start_time": "2025-05-12T06:17:23.774580Z"
    },
    "collapsed": true
   },
   "outputs": [],
   "source": [
    "### importing numpy\n",
    "import numpy as np"
   ]
  },
  {
   "cell_type": "code",
   "execution_count": 2,
   "id": "55890065d07d93d1",
   "metadata": {
    "ExecuteTime": {
     "end_time": "2025-05-12T06:18:03.903743Z",
     "start_time": "2025-05-12T06:18:03.888180Z"
    }
   },
   "outputs": [
    {
     "name": "stdout",
     "output_type": "stream",
     "text": [
      "[1 2 3 4 5]\n",
      "<class 'numpy.ndarray'>\n"
     ]
    }
   ],
   "source": [
    "array = np.array([1,2,3,4,5])\n",
    "print(array)\n",
    "print(type(array))"
   ]
  },
  {
   "cell_type": "code",
   "execution_count": 3,
   "id": "fc4d818470efa7fe",
   "metadata": {
    "ExecuteTime": {
     "end_time": "2025-05-12T06:18:40.224861Z",
     "start_time": "2025-05-12T06:18:40.214148Z"
    }
   },
   "outputs": [
    {
     "name": "stdout",
     "output_type": "stream",
     "text": [
      "[[[1 2 3 4 5]]]\n"
     ]
    }
   ],
   "source": [
    "## add dimentions while declaring\n",
    "exp2 = np.array([1,2,3,4,5], ndmin=3)\n",
    "print(exp2)"
   ]
  },
  {
   "cell_type": "code",
   "execution_count": 4,
   "id": "95a5bd745fea08e",
   "metadata": {
    "ExecuteTime": {
     "end_time": "2025-05-12T06:18:55.486174Z",
     "start_time": "2025-05-12T06:18:55.476405Z"
    }
   },
   "outputs": [
    {
     "data": {
      "text/plain": [
       "3"
      ]
     },
     "execution_count": 4,
     "metadata": {},
     "output_type": "execute_result"
    }
   ],
   "source": [
    "## read the dimentions\n",
    "exp2.ndim"
   ]
  },
  {
   "cell_type": "code",
   "execution_count": 5,
   "id": "3f4c1fb0301d1cdc",
   "metadata": {
    "ExecuteTime": {
     "end_time": "2025-05-12T06:20:10.957578Z",
     "start_time": "2025-05-12T06:20:10.945459Z"
    }
   },
   "outputs": [
    {
     "name": "stdout",
     "output_type": "stream",
     "text": [
      "1\n",
      "3\n",
      "[2 3]\n",
      "5\n"
     ]
    }
   ],
   "source": [
    "## indexing one dimentions\n",
    "exp = np.array([1,2,3,4,5])\n",
    "print(exp[0])\n",
    "print(exp[2])\n",
    "print(exp[1:3])\n",
    "print(exp[-1])"
   ]
  },
  {
   "cell_type": "code",
   "execution_count": 6,
   "id": "4e6404713226918a",
   "metadata": {
    "ExecuteTime": {
     "end_time": "2025-05-12T06:20:42.230459Z",
     "start_time": "2025-05-12T06:20:42.220584Z"
    }
   },
   "outputs": [
    {
     "name": "stdout",
     "output_type": "stream",
     "text": [
      "[[ 1  2  3  4  5]\n",
      " [ 6  7  8  9 10]]\n"
     ]
    }
   ],
   "source": [
    "## indexing 2-D array\n",
    "twodim = np.array([[1,2,3,4,5],[6,7,8,9,10]])\n",
    "print(twodim)"
   ]
  },
  {
   "cell_type": "code",
   "execution_count": 7,
   "id": "eec721368d789a39",
   "metadata": {
    "ExecuteTime": {
     "end_time": "2025-05-12T06:21:00.455261Z",
     "start_time": "2025-05-12T06:21:00.449066Z"
    }
   },
   "outputs": [
    {
     "name": "stdout",
     "output_type": "stream",
     "text": [
      "3\n"
     ]
    }
   ],
   "source": [
    "print(twodim[0,2])"
   ]
  },
  {
   "cell_type": "code",
   "execution_count": 8,
   "id": "79faa1c69527534e",
   "metadata": {
    "ExecuteTime": {
     "end_time": "2025-05-12T06:21:44.348363Z",
     "start_time": "2025-05-12T06:21:44.336794Z"
    }
   },
   "outputs": [
    {
     "name": "stdout",
     "output_type": "stream",
     "text": [
      "[3 4 5]\n"
     ]
    }
   ],
   "source": [
    "print(twodim[0,2:5])"
   ]
  },
  {
   "cell_type": "code",
   "execution_count": 9,
   "id": "25a24a1f0e943e54",
   "metadata": {
    "ExecuteTime": {
     "end_time": "2025-05-12T06:21:30.391096Z",
     "start_time": "2025-05-12T06:21:30.383272Z"
    }
   },
   "outputs": [
    {
     "name": "stdout",
     "output_type": "stream",
     "text": [
      "[ 8  9 10]\n"
     ]
    }
   ],
   "source": [
    "print(twodim[-1,2:5])"
   ]
  },
  {
   "cell_type": "code",
   "execution_count": 10,
   "id": "88aed61376c09d9",
   "metadata": {
    "ExecuteTime": {
     "end_time": "2025-05-12T06:24:12.980218Z",
     "start_time": "2025-05-12T06:24:12.966456Z"
    }
   },
   "outputs": [],
   "source": [
    "## indexing 3-D array\n",
    "threedim = np.array([[[1,2,3],[4,5,6]],[[7,8,9],[10,11,12]]])"
   ]
  },
  {
   "cell_type": "code",
   "execution_count": 11,
   "id": "1a619a8f781ee5d0",
   "metadata": {
    "ExecuteTime": {
     "end_time": "2025-05-12T06:24:15.572525Z",
     "start_time": "2025-05-12T06:24:15.555610Z"
    }
   },
   "outputs": [
    {
     "name": "stdout",
     "output_type": "stream",
     "text": [
      "[[[ 1  2  3]\n",
      "  [ 4  5  6]]\n",
      "\n",
      " [[ 7  8  9]\n",
      "  [10 11 12]]]\n"
     ]
    }
   ],
   "source": [
    "print(threedim)"
   ]
  },
  {
   "cell_type": "code",
   "execution_count": 12,
   "id": "66509be2111f3f33",
   "metadata": {
    "ExecuteTime": {
     "end_time": "2025-05-12T06:24:18.158954Z",
     "start_time": "2025-05-12T06:24:18.150433Z"
    }
   },
   "outputs": [
    {
     "name": "stdout",
     "output_type": "stream",
     "text": [
      "(2, 2, 3)\n"
     ]
    }
   ],
   "source": [
    "print(threedim.shape)"
   ]
  },
  {
   "cell_type": "code",
   "execution_count": 13,
   "id": "5df0d7abc246da07",
   "metadata": {
    "ExecuteTime": {
     "end_time": "2025-05-12T06:24:38.043926Z",
     "start_time": "2025-05-12T06:24:38.031324Z"
    }
   },
   "outputs": [
    {
     "name": "stdout",
     "output_type": "stream",
     "text": [
      "6\n"
     ]
    }
   ],
   "source": [
    "print(threedim[0,1,2])"
   ]
  },
  {
   "cell_type": "code",
   "execution_count": 14,
   "id": "2b78d65b6a2261bc",
   "metadata": {
    "ExecuteTime": {
     "end_time": "2025-05-12T06:25:21.822573Z",
     "start_time": "2025-05-12T06:25:21.816416Z"
    }
   },
   "outputs": [
    {
     "name": "stdout",
     "output_type": "stream",
     "text": [
      "10\n"
     ]
    }
   ],
   "source": [
    "print(threedim[1,1,0])"
   ]
  },
  {
   "cell_type": "code",
   "execution_count": 15,
   "id": "2e3d7cac406ecbf9",
   "metadata": {
    "ExecuteTime": {
     "end_time": "2025-05-12T06:25:57.385027Z",
     "start_time": "2025-05-12T06:25:57.368013Z"
    }
   },
   "outputs": [
    {
     "name": "stdout",
     "output_type": "stream",
     "text": [
      "12\n"
     ]
    }
   ],
   "source": [
    "print(threedim[-1,1,2])"
   ]
  },
  {
   "cell_type": "code",
   "execution_count": 16,
   "id": "a47e081949db11f7",
   "metadata": {
    "ExecuteTime": {
     "end_time": "2025-05-12T06:27:52.722667Z",
     "start_time": "2025-05-12T06:27:52.707058Z"
    }
   },
   "outputs": [
    {
     "name": "stdout",
     "output_type": "stream",
     "text": [
      "[2 3]\n"
     ]
    }
   ],
   "source": [
    "## slicing an array\n",
    "ar1 = np.array([1,2,3,4,5])\n",
    "print(ar1[1:3])"
   ]
  },
  {
   "cell_type": "code",
   "execution_count": 17,
   "id": "c52cc51f55cee5a4",
   "metadata": {
    "ExecuteTime": {
     "end_time": "2025-05-12T06:28:28.156815Z",
     "start_time": "2025-05-12T06:28:28.149843Z"
    }
   },
   "outputs": [
    {
     "name": "stdout",
     "output_type": "stream",
     "text": [
      "[1 2]\n"
     ]
    }
   ],
   "source": [
    "print(ar1[:2])"
   ]
  },
  {
   "cell_type": "code",
   "execution_count": 18,
   "id": "24d97493e66f9d0f",
   "metadata": {
    "ExecuteTime": {
     "end_time": "2025-05-12T06:29:17.727011Z",
     "start_time": "2025-05-12T06:29:17.713888Z"
    }
   },
   "outputs": [
    {
     "name": "stdout",
     "output_type": "stream",
     "text": [
      "[4 5]\n"
     ]
    }
   ],
   "source": [
    "## negative slicing\n",
    "print(ar1[-2:])"
   ]
  },
  {
   "cell_type": "code",
   "execution_count": 19,
   "id": "749e80968049909c",
   "metadata": {
    "ExecuteTime": {
     "end_time": "2025-05-12T06:29:30.076310Z",
     "start_time": "2025-05-12T06:29:30.062299Z"
    }
   },
   "outputs": [
    {
     "name": "stdout",
     "output_type": "stream",
     "text": [
      "[3 4]\n"
     ]
    }
   ],
   "source": [
    "print(ar1[-3:-1])"
   ]
  },
  {
   "cell_type": "code",
   "execution_count": 20,
   "id": "1c848b6f7a7eb736",
   "metadata": {
    "ExecuteTime": {
     "end_time": "2025-05-12T06:30:21.420049Z",
     "start_time": "2025-05-12T06:30:21.412772Z"
    }
   },
   "outputs": [
    {
     "name": "stdout",
     "output_type": "stream",
     "text": [
      "[2]\n"
     ]
    }
   ],
   "source": [
    "## use stepper\n",
    "print(ar1[1:3:2])"
   ]
  },
  {
   "cell_type": "code",
   "execution_count": 21,
   "id": "18295ed89077be81",
   "metadata": {
    "ExecuteTime": {
     "end_time": "2025-05-12T06:30:38.784298Z",
     "start_time": "2025-05-12T06:30:38.775636Z"
    }
   },
   "outputs": [
    {
     "name": "stdout",
     "output_type": "stream",
     "text": [
      "[1 3 5]\n"
     ]
    }
   ],
   "source": [
    "## prints everyother element from an array\n",
    "print(ar1[::2])"
   ]
  },
  {
   "cell_type": "code",
   "execution_count": 22,
   "id": "45bca8d64f7d585c",
   "metadata": {
    "ExecuteTime": {
     "end_time": "2025-05-12T06:31:18.887538Z",
     "start_time": "2025-05-12T06:31:18.876501Z"
    }
   },
   "outputs": [
    {
     "name": "stdout",
     "output_type": "stream",
     "text": [
      "[7 8 9]\n"
     ]
    }
   ],
   "source": [
    "print(twodim[1,1:4])"
   ]
  },
  {
   "cell_type": "code",
   "execution_count": 23,
   "id": "206e9686d6032ec8",
   "metadata": {
    "ExecuteTime": {
     "end_time": "2025-05-12T06:31:57.348122Z",
     "start_time": "2025-05-12T06:31:57.339315Z"
    }
   },
   "outputs": [
    {
     "name": "stdout",
     "output_type": "stream",
     "text": [
      "[3 8]\n"
     ]
    }
   ],
   "source": [
    "print(twodim[0:2, 2])"
   ]
  },
  {
   "cell_type": "code",
   "execution_count": 24,
   "id": "f24d26c641002e19",
   "metadata": {
    "ExecuteTime": {
     "end_time": "2025-05-12T06:32:19.962581Z",
     "start_time": "2025-05-12T06:32:19.957256Z"
    }
   },
   "outputs": [
    {
     "name": "stdout",
     "output_type": "stream",
     "text": [
      "[[2 3]\n",
      " [7 8]]\n"
     ]
    }
   ],
   "source": [
    "print(twodim[0:2, 1:3])"
   ]
  },
  {
   "cell_type": "code",
   "execution_count": 25,
   "id": "36c425fd04c3a27c",
   "metadata": {
    "ExecuteTime": {
     "end_time": "2025-05-12T06:38:58.091529Z",
     "start_time": "2025-05-12T06:38:58.084978Z"
    }
   },
   "outputs": [],
   "source": [
    "### Datatypes in Numpy\n",
    "#### i - integer\n",
    "#### b - boolean\n",
    "#### u - unsigned integer\n",
    "#### f - float\n",
    "#### c - complex\n",
    "#### m - timedelta\n",
    "#### M - datetime\n",
    "#### O - object\n",
    "#### S - String\n",
    "#### U - unicode string\n",
    "#### V - fixed chunk of memory for other type (void)"
   ]
  },
  {
   "cell_type": "code",
   "execution_count": 26,
   "id": "e3e55f4705120602",
   "metadata": {
    "ExecuteTime": {
     "end_time": "2025-05-12T06:39:47.488080Z",
     "start_time": "2025-05-12T06:39:47.481964Z"
    }
   },
   "outputs": [
    {
     "name": "stdout",
     "output_type": "stream",
     "text": [
      "int32\n"
     ]
    }
   ],
   "source": [
    "## printing data type of an array\n",
    "print(ar1.dtype)"
   ]
  },
  {
   "cell_type": "code",
   "execution_count": 27,
   "id": "bdeb178f1b7d6e04",
   "metadata": {
    "ExecuteTime": {
     "end_time": "2025-05-12T06:40:13.139766Z",
     "start_time": "2025-05-12T06:40:13.128365Z"
    }
   },
   "outputs": [
    {
     "name": "stdout",
     "output_type": "stream",
     "text": [
      "<U6\n"
     ]
    }
   ],
   "source": [
    "array2 = np.array([\"apple\", \"banana\", \"cherry\"])\n",
    "print(array2.dtype)"
   ]
  },
  {
   "cell_type": "code",
   "execution_count": 28,
   "id": "a04e13ceb5653f50",
   "metadata": {
    "ExecuteTime": {
     "end_time": "2025-05-12T06:41:03.446008Z",
     "start_time": "2025-05-12T06:41:03.439068Z"
    }
   },
   "outputs": [
    {
     "name": "stdout",
     "output_type": "stream",
     "text": [
      "|S1\n"
     ]
    }
   ],
   "source": [
    "array3 = np.array([1,2,3], dtype='S')\n",
    "print(array3.dtype)"
   ]
  },
  {
   "cell_type": "code",
   "execution_count": 29,
   "id": "d22747ee2cdefab1",
   "metadata": {
    "ExecuteTime": {
     "end_time": "2025-05-12T06:41:30.853718Z",
     "start_time": "2025-05-12T06:41:30.847361Z"
    }
   },
   "outputs": [
    {
     "name": "stdout",
     "output_type": "stream",
     "text": [
      "int32\n"
     ]
    }
   ],
   "source": [
    "array3 = np.array([1,2,3], dtype='i4')\n",
    "print(array3.dtype)"
   ]
  },
  {
   "cell_type": "code",
   "execution_count": 30,
   "id": "c7461a321886c5c0",
   "metadata": {
    "ExecuteTime": {
     "end_time": "2025-05-12T06:41:37.645896Z",
     "start_time": "2025-05-12T06:41:37.638749Z"
    }
   },
   "outputs": [
    {
     "name": "stdout",
     "output_type": "stream",
     "text": [
      "[1 2 3]\n"
     ]
    }
   ],
   "source": [
    "print(array3)"
   ]
  },
  {
   "cell_type": "code",
   "execution_count": 31,
   "id": "ad96315eac878711",
   "metadata": {
    "ExecuteTime": {
     "end_time": "2025-05-12T06:42:46.132832Z",
     "start_time": "2025-05-12T06:42:46.124253Z"
    }
   },
   "outputs": [
    {
     "name": "stdout",
     "output_type": "stream",
     "text": [
      "[99  2  3]\n",
      "[1 2 3]\n"
     ]
    }
   ],
   "source": [
    "## copy\n",
    "array4 = array3.copy()\n",
    "array4[0] = 99\n",
    "print(array4)\n",
    "print(array3)"
   ]
  },
  {
   "cell_type": "code",
   "execution_count": 32,
   "id": "32625812eee38f9f",
   "metadata": {
    "ExecuteTime": {
     "end_time": "2025-05-12T06:43:22.469736Z",
     "start_time": "2025-05-12T06:43:22.461336Z"
    }
   },
   "outputs": [
    {
     "name": "stdout",
     "output_type": "stream",
     "text": [
      "[99  2  3]\n",
      "[99  2  3]\n"
     ]
    }
   ],
   "source": [
    "## view\n",
    "array5 = array3.view()\n",
    "array5[0] = 99\n",
    "print(array5)\n",
    "print(array3)"
   ]
  },
  {
   "cell_type": "code",
   "execution_count": 33,
   "id": "becea311a68d1e77",
   "metadata": {
    "ExecuteTime": {
     "end_time": "2025-05-12T06:51:07.351953Z",
     "start_time": "2025-05-12T06:51:07.342506Z"
    }
   },
   "outputs": [
    {
     "name": "stdout",
     "output_type": "stream",
     "text": [
      "(2, 5)\n"
     ]
    }
   ],
   "source": [
    "## array shapes\n",
    "ar4 = np.array([[1,2,3,4,5], [6,7,8,9,10]])\n",
    "print(ar4.shape)"
   ]
  },
  {
   "cell_type": "code",
   "execution_count": 34,
   "id": "56ddba525f26a4a6",
   "metadata": {
    "ExecuteTime": {
     "end_time": "2025-05-12T06:52:30.204202Z",
     "start_time": "2025-05-12T06:52:30.197044Z"
    }
   },
   "outputs": [
    {
     "name": "stdout",
     "output_type": "stream",
     "text": [
      "(1, 1, 5)\n",
      "[[[1 2 3 4 5]]]\n"
     ]
    }
   ],
   "source": [
    "ar5 = np.array([1,2,3,4,5], ndmin=3) ## create an array with 3 dimension using ndmin using a vector with values 1,2,3,4,5 and verify that last dimension has value 5\n",
    "print(ar5.shape)\n",
    "print(ar5)"
   ]
  },
  {
   "cell_type": "code",
   "execution_count": 35,
   "id": "44577dd92d036acb",
   "metadata": {
    "ExecuteTime": {
     "end_time": "2025-05-12T06:55:17.874468Z",
     "start_time": "2025-05-12T06:55:17.865423Z"
    }
   },
   "outputs": [
    {
     "name": "stdout",
     "output_type": "stream",
     "text": [
      "[ True False  True]\n"
     ]
    }
   ],
   "source": [
    "ar6 = np.array([-1,0,1])\n",
    "newar = ar6.astype(bool)\n",
    "print(newar)"
   ]
  },
  {
   "cell_type": "code",
   "execution_count": 36,
   "id": "6f69a448779f1a04",
   "metadata": {
    "ExecuteTime": {
     "end_time": "2025-05-12T07:00:22.314700Z",
     "start_time": "2025-05-12T07:00:22.308436Z"
    }
   },
   "outputs": [],
   "source": [
    "## Reshaping into 3 X 2 Matrix\n",
    "ar7 = np.array([1,2,3,4,5,6]).reshape(3,2)"
   ]
  },
  {
   "cell_type": "code",
   "execution_count": 37,
   "id": "65b996036f1117cc",
   "metadata": {
    "ExecuteTime": {
     "end_time": "2025-05-12T07:00:28.696306Z",
     "start_time": "2025-05-12T07:00:28.687656Z"
    }
   },
   "outputs": [
    {
     "name": "stdout",
     "output_type": "stream",
     "text": [
      "[[1 2]\n",
      " [3 4]\n",
      " [5 6]]\n"
     ]
    }
   ],
   "source": [
    "print(ar7)"
   ]
  },
  {
   "cell_type": "code",
   "execution_count": 38,
   "id": "778d5a0c86f7a2c7",
   "metadata": {
    "ExecuteTime": {
     "end_time": "2025-05-12T07:02:07.127388Z",
     "start_time": "2025-05-12T07:02:07.119593Z"
    }
   },
   "outputs": [
    {
     "name": "stdout",
     "output_type": "stream",
     "text": [
      "[[1 2 3]\n",
      " [4 5 6]]\n"
     ]
    }
   ],
   "source": [
    "## 2X3 Matrix\n",
    "ar7 = np.array([1,2,3,4,5,6]).reshape(2,3)\n",
    "print(ar7)"
   ]
  },
  {
   "cell_type": "code",
   "execution_count": 39,
   "id": "3990f70c1b2f73c1",
   "metadata": {
    "ExecuteTime": {
     "end_time": "2025-05-12T07:03:19.117981Z",
     "start_time": "2025-05-12T07:03:19.109749Z"
    }
   },
   "outputs": [
    {
     "name": "stdout",
     "output_type": "stream",
     "text": [
      "1\n",
      "2\n",
      "3\n",
      "4\n",
      "5\n",
      "6\n"
     ]
    }
   ],
   "source": [
    "## iterations 1-D\n",
    "ar8 = np.array([1,2,3,4,5,6])\n",
    "for i in ar8:\n",
    "    print(i)"
   ]
  },
  {
   "cell_type": "code",
   "execution_count": 40,
   "id": "932411644b60b9c0",
   "metadata": {
    "ExecuteTime": {
     "end_time": "2025-05-12T07:05:45.754184Z",
     "start_time": "2025-05-12T07:05:45.739445Z"
    }
   },
   "outputs": [
    {
     "name": "stdout",
     "output_type": "stream",
     "text": [
      "[1 2 3 4 5] 1\n",
      "[1 2 3 4 5] 2\n",
      "[1 2 3 4 5] 3\n",
      "[1 2 3 4 5] 4\n",
      "[1 2 3 4 5] 5\n",
      "[ 6  7  8  9 10] 6\n",
      "[ 6  7  8  9 10] 7\n",
      "[ 6  7  8  9 10] 8\n",
      "[ 6  7  8  9 10] 9\n",
      "[ 6  7  8  9 10] 10\n"
     ]
    }
   ],
   "source": [
    "## 2D iteration\n",
    "ar9 = np.array([[1,2,3,4,5],[6,7,8,9,10]])\n",
    "for i in ar9:\n",
    "    for j in i:\n",
    "        print(i, j)"
   ]
  },
  {
   "cell_type": "code",
   "execution_count": 41,
   "id": "d74a0fa6163607db",
   "metadata": {
    "ExecuteTime": {
     "end_time": "2025-05-12T07:06:53.796507Z",
     "start_time": "2025-05-12T07:06:53.789572Z"
    }
   },
   "outputs": [],
   "source": [
    "## 3D iterations\n",
    "ar10 = np.array([[[1,2,3,4,5],[6,7,8,9,10]],[[11,12,13,14,15],[16,17,18,19,20]]])"
   ]
  },
  {
   "cell_type": "code",
   "execution_count": 42,
   "id": "f8723a2d43b582a4",
   "metadata": {
    "ExecuteTime": {
     "end_time": "2025-05-12T07:07:07.774215Z",
     "start_time": "2025-05-12T07:07:07.760214Z"
    }
   },
   "outputs": [
    {
     "name": "stdout",
     "output_type": "stream",
     "text": [
      "[[ 1  2  3  4  5]\n",
      " [ 6  7  8  9 10]] [1 2 3 4 5] 1\n",
      "[[ 1  2  3  4  5]\n",
      " [ 6  7  8  9 10]] [1 2 3 4 5] 2\n",
      "[[ 1  2  3  4  5]\n",
      " [ 6  7  8  9 10]] [1 2 3 4 5] 3\n",
      "[[ 1  2  3  4  5]\n",
      " [ 6  7  8  9 10]] [1 2 3 4 5] 4\n",
      "[[ 1  2  3  4  5]\n",
      " [ 6  7  8  9 10]] [1 2 3 4 5] 5\n",
      "[[ 1  2  3  4  5]\n",
      " [ 6  7  8  9 10]] [ 6  7  8  9 10] 6\n",
      "[[ 1  2  3  4  5]\n",
      " [ 6  7  8  9 10]] [ 6  7  8  9 10] 7\n",
      "[[ 1  2  3  4  5]\n",
      " [ 6  7  8  9 10]] [ 6  7  8  9 10] 8\n",
      "[[ 1  2  3  4  5]\n",
      " [ 6  7  8  9 10]] [ 6  7  8  9 10] 9\n",
      "[[ 1  2  3  4  5]\n",
      " [ 6  7  8  9 10]] [ 6  7  8  9 10] 10\n",
      "[[11 12 13 14 15]\n",
      " [16 17 18 19 20]] [11 12 13 14 15] 11\n",
      "[[11 12 13 14 15]\n",
      " [16 17 18 19 20]] [11 12 13 14 15] 12\n",
      "[[11 12 13 14 15]\n",
      " [16 17 18 19 20]] [11 12 13 14 15] 13\n",
      "[[11 12 13 14 15]\n",
      " [16 17 18 19 20]] [11 12 13 14 15] 14\n",
      "[[11 12 13 14 15]\n",
      " [16 17 18 19 20]] [11 12 13 14 15] 15\n",
      "[[11 12 13 14 15]\n",
      " [16 17 18 19 20]] [16 17 18 19 20] 16\n",
      "[[11 12 13 14 15]\n",
      " [16 17 18 19 20]] [16 17 18 19 20] 17\n",
      "[[11 12 13 14 15]\n",
      " [16 17 18 19 20]] [16 17 18 19 20] 18\n",
      "[[11 12 13 14 15]\n",
      " [16 17 18 19 20]] [16 17 18 19 20] 19\n",
      "[[11 12 13 14 15]\n",
      " [16 17 18 19 20]] [16 17 18 19 20] 20\n"
     ]
    }
   ],
   "source": [
    "for i in ar10:\n",
    "    for j in i:\n",
    "        for k in j:\n",
    "            print(i, j, k)"
   ]
  },
  {
   "cell_type": "code",
   "execution_count": 43,
   "id": "d7e01d89a41c3c8e",
   "metadata": {
    "ExecuteTime": {
     "end_time": "2025-05-12T07:07:46.170014Z",
     "start_time": "2025-05-12T07:07:46.163007Z"
    }
   },
   "outputs": [
    {
     "name": "stdout",
     "output_type": "stream",
     "text": [
      "1\n",
      "2\n",
      "3\n",
      "4\n",
      "5\n",
      "6\n",
      "7\n",
      "8\n",
      "9\n",
      "10\n",
      "11\n",
      "12\n",
      "13\n",
      "14\n",
      "15\n",
      "16\n",
      "17\n",
      "18\n",
      "19\n",
      "20\n"
     ]
    }
   ],
   "source": [
    "for i in np.nditer(ar10):\n",
    "    print(i)"
   ]
  },
  {
   "cell_type": "code",
   "execution_count": 44,
   "id": "1018cda37996f3ae",
   "metadata": {
    "ExecuteTime": {
     "end_time": "2025-05-12T07:08:58.843390Z",
     "start_time": "2025-05-12T07:08:58.828986Z"
    }
   },
   "outputs": [
    {
     "name": "stdout",
     "output_type": "stream",
     "text": [
      "b'1'\n",
      "b'2'\n",
      "b'3'\n",
      "b'4'\n",
      "b'5'\n",
      "b'6'\n",
      "b'7'\n",
      "b'8'\n",
      "b'9'\n",
      "b'10'\n",
      "b'11'\n",
      "b'12'\n",
      "b'13'\n",
      "b'14'\n",
      "b'15'\n",
      "b'16'\n",
      "b'17'\n",
      "b'18'\n",
      "b'19'\n",
      "b'20'\n"
     ]
    }
   ],
   "source": [
    "for i in np.nditer(ar10, flags=['buffered'], op_dtypes=['S']):\n",
    "    print(i)"
   ]
  },
  {
   "cell_type": "code",
   "execution_count": 45,
   "id": "96bfc5157ff7e183",
   "metadata": {
    "ExecuteTime": {
     "end_time": "2025-05-12T07:10:10.528330Z",
     "start_time": "2025-05-12T07:10:10.519511Z"
    }
   },
   "outputs": [
    {
     "name": "stdout",
     "output_type": "stream",
     "text": [
      "1\n",
      "2\n",
      "3\n",
      "4\n",
      "5\n",
      "11\n",
      "12\n",
      "13\n",
      "14\n",
      "15\n"
     ]
    }
   ],
   "source": [
    "for i in np.nditer(ar10[:,::2]):\n",
    "    print(i)"
   ]
  },
  {
   "cell_type": "code",
   "execution_count": 46,
   "id": "8bfda0fc9786aea0",
   "metadata": {
    "ExecuteTime": {
     "end_time": "2025-05-12T07:10:47.495904Z",
     "start_time": "2025-05-12T07:10:47.488036Z"
    }
   },
   "outputs": [
    {
     "name": "stdout",
     "output_type": "stream",
     "text": [
      "(0, 0, 0) 1\n",
      "(0, 0, 1) 2\n",
      "(0, 0, 2) 3\n",
      "(0, 0, 3) 4\n",
      "(0, 0, 4) 5\n",
      "(0, 1, 0) 6\n",
      "(0, 1, 1) 7\n",
      "(0, 1, 2) 8\n",
      "(0, 1, 3) 9\n",
      "(0, 1, 4) 10\n",
      "(1, 0, 0) 11\n",
      "(1, 0, 1) 12\n",
      "(1, 0, 2) 13\n",
      "(1, 0, 3) 14\n",
      "(1, 0, 4) 15\n",
      "(1, 1, 0) 16\n",
      "(1, 1, 1) 17\n",
      "(1, 1, 2) 18\n",
      "(1, 1, 3) 19\n",
      "(1, 1, 4) 20\n"
     ]
    }
   ],
   "source": [
    "for idx, i in np.ndenumerate(ar10):\n",
    "    print(idx, i)"
   ]
  },
  {
   "cell_type": "code",
   "execution_count": 47,
   "id": "bd4519c64a279e19",
   "metadata": {
    "ExecuteTime": {
     "end_time": "2025-05-12T07:12:14.740220Z",
     "start_time": "2025-05-12T07:12:14.732018Z"
    }
   },
   "outputs": [
    {
     "name": "stdout",
     "output_type": "stream",
     "text": [
      "[1 2 3 4 5 6]\n"
     ]
    }
   ],
   "source": [
    "ar11 = np.array([[1,2,3], [4,5,6]]).reshape(6)\n",
    "print(ar11)"
   ]
  },
  {
   "cell_type": "code",
   "execution_count": 48,
   "id": "39bd6e6ff8940df3",
   "metadata": {
    "ExecuteTime": {
     "end_time": "2025-05-12T07:13:44.729383Z",
     "start_time": "2025-05-12T07:13:44.719395Z"
    }
   },
   "outputs": [
    {
     "name": "stdout",
     "output_type": "stream",
     "text": [
      "[1 2 3 4 5 6]\n"
     ]
    }
   ],
   "source": [
    "ar11 = np.array([[1,2,3], [4,5,6]]).reshape(-1)\n",
    "print(ar11)"
   ]
  },
  {
   "cell_type": "code",
   "execution_count": 49,
   "id": "79fddb679c1f329c",
   "metadata": {
    "ExecuteTime": {
     "end_time": "2025-05-12T07:15:17.932670Z",
     "start_time": "2025-05-12T07:15:17.924446Z"
    }
   },
   "outputs": [
    {
     "name": "stdout",
     "output_type": "stream",
     "text": [
      "[1 2 3 4]\n"
     ]
    }
   ],
   "source": [
    "## joins\n",
    "ar12 = np.array([1,2])\n",
    "ar13 = np.array([3,4])\n",
    "print(np.concatenate((ar12, ar13)))"
   ]
  },
  {
   "cell_type": "code",
   "execution_count": 50,
   "id": "3b0232df0bcfa927",
   "metadata": {
    "ExecuteTime": {
     "end_time": "2025-05-12T07:16:07.258065Z",
     "start_time": "2025-05-12T07:16:07.251907Z"
    }
   },
   "outputs": [
    {
     "name": "stdout",
     "output_type": "stream",
     "text": [
      "[[ 1  2  3  7  8  9]\n",
      " [ 4  5  6 10 11 12]]\n"
     ]
    }
   ],
   "source": [
    "ar14 = np.array([[1,2,3], [4,5,6]])\n",
    "ar15 = np.array([[7,8,9], [10,11,12]])\n",
    "print(np.concatenate((ar14, ar15), axis=1))"
   ]
  },
  {
   "cell_type": "code",
   "execution_count": 51,
   "id": "3fc9b51e9584a228",
   "metadata": {
    "ExecuteTime": {
     "end_time": "2025-05-12T07:22:33.612624Z",
     "start_time": "2025-05-12T07:22:33.605351Z"
    }
   },
   "outputs": [
    {
     "name": "stdout",
     "output_type": "stream",
     "text": [
      "[[ 1  2  3  7  8  9]\n",
      " [ 4  5  6 10 11 12]]\n"
     ]
    }
   ],
   "source": [
    "print(np.hstack((ar14, ar15)))"
   ]
  },
  {
   "cell_type": "code",
   "execution_count": 52,
   "id": "f76f1c1591894a30",
   "metadata": {
    "ExecuteTime": {
     "end_time": "2025-05-12T07:22:45.998493Z",
     "start_time": "2025-05-12T07:22:45.989674Z"
    }
   },
   "outputs": [
    {
     "name": "stdout",
     "output_type": "stream",
     "text": [
      "[[ 1  2  3]\n",
      " [ 4  5  6]\n",
      " [ 7  8  9]\n",
      " [10 11 12]]\n"
     ]
    }
   ],
   "source": [
    "print(np.vstack((ar14, ar15)))"
   ]
  },
  {
   "cell_type": "code",
   "execution_count": 53,
   "id": "a1e6cec93be386b5",
   "metadata": {
    "ExecuteTime": {
     "end_time": "2025-05-12T07:23:24.967235Z",
     "start_time": "2025-05-12T07:23:24.960313Z"
    }
   },
   "outputs": [
    {
     "name": "stdout",
     "output_type": "stream",
     "text": [
      "[[[ 1  7]\n",
      "  [ 2  8]\n",
      "  [ 3  9]]\n",
      "\n",
      " [[ 4 10]\n",
      "  [ 5 11]\n",
      "  [ 6 12]]]\n"
     ]
    }
   ],
   "source": [
    "print(np.dstack((ar14, ar15)))"
   ]
  },
  {
   "cell_type": "code",
   "execution_count": 56,
   "id": "6c851410278b6aef",
   "metadata": {},
   "outputs": [
    {
     "name": "stdout",
     "output_type": "stream",
     "text": [
      "[array([1, 2]), array([3, 4])]\n"
     ]
    }
   ],
   "source": [
    "## splitting of array\n",
    "ar16 = np.array_split([1,2,3,4], 2)\n",
    "print(ar16)"
   ]
  },
  {
   "cell_type": "code",
   "execution_count": 58,
   "id": "7eeaf0e1",
   "metadata": {},
   "outputs": [
    {
     "name": "stdout",
     "output_type": "stream",
     "text": [
      "[array([[1, 2],\n",
      "       [3, 4]]), array([[5, 6],\n",
      "       [7, 8]]), array([[ 9, 10],\n",
      "       [11, 12]])]\n"
     ]
    }
   ],
   "source": [
    "ar17 = np.array([[1, 2], [3, 4], [5, 6], [7, 8], [9, 10], [11, 12]])\n",
    "print(np.array_split(ar17, 3))"
   ]
  },
  {
   "cell_type": "code",
   "execution_count": 59,
   "id": "2fd061e7",
   "metadata": {},
   "outputs": [
    {
     "name": "stdout",
     "output_type": "stream",
     "text": [
      "[array([[1, 2, 3],\n",
      "       [4, 5, 6]]), array([[ 7,  8,  9],\n",
      "       [10, 11, 12]]), array([[13, 14, 15],\n",
      "       [16, 17, 18]])]\n"
     ]
    }
   ],
   "source": [
    "arr = np.array([[1, 2, 3], [4, 5, 6], [7, 8, 9], [10, 11, 12], [13, 14, 15], [16, 17, 18]])\n",
    "print(np.array_split(arr, 3))"
   ]
  },
  {
   "cell_type": "code",
   "execution_count": 60,
   "id": "45ffb4d8",
   "metadata": {},
   "outputs": [
    {
     "name": "stdout",
     "output_type": "stream",
     "text": [
      "[array([[ 1],\n",
      "       [ 4],\n",
      "       [ 7],\n",
      "       [10],\n",
      "       [13],\n",
      "       [16]]), array([[ 2],\n",
      "       [ 5],\n",
      "       [ 8],\n",
      "       [11],\n",
      "       [14],\n",
      "       [17]]), array([[ 3],\n",
      "       [ 6],\n",
      "       [ 9],\n",
      "       [12],\n",
      "       [15],\n",
      "       [18]])]\n"
     ]
    }
   ],
   "source": [
    "arr = np.array([[1, 2, 3], [4, 5, 6], [7, 8, 9], [10, 11, 12], [13, 14, 15], [16, 17, 18]])\n",
    "\n",
    "newarr = np.array_split(arr, 3, axis=1)\n",
    "\n",
    "print(newarr)"
   ]
  },
  {
   "cell_type": "code",
   "execution_count": 61,
   "id": "a5f59030",
   "metadata": {},
   "outputs": [
    {
     "name": "stdout",
     "output_type": "stream",
     "text": [
      "[array([[ 1],\n",
      "       [ 4],\n",
      "       [ 7],\n",
      "       [10],\n",
      "       [13],\n",
      "       [16]]), array([[ 2],\n",
      "       [ 5],\n",
      "       [ 8],\n",
      "       [11],\n",
      "       [14],\n",
      "       [17]]), array([[ 3],\n",
      "       [ 6],\n",
      "       [ 9],\n",
      "       [12],\n",
      "       [15],\n",
      "       [18]])]\n"
     ]
    }
   ],
   "source": [
    "arr = np.array([[1, 2, 3], [4, 5, 6], [7, 8, 9], [10, 11, 12], [13, 14, 15], [16, 17, 18]])\n",
    "\n",
    "newarr = np.hsplit(arr, 3)\n",
    "\n",
    "print(newarr)"
   ]
  },
  {
   "cell_type": "code",
   "execution_count": 63,
   "id": "8da97ba7",
   "metadata": {},
   "outputs": [
    {
     "name": "stdout",
     "output_type": "stream",
     "text": [
      "(array([3, 5, 6], dtype=int64),)\n"
     ]
    }
   ],
   "source": [
    "### Searching Arrays\n",
    "arr = np.array([1, 2, 3, 4, 5, 4, 4])\n",
    "'''\n",
    "You can search an array for a certain value, and return the indexes that get a match.\n",
    "To search an array, use the where() method.\n",
    "'''\n",
    "x = np.where(arr == 4)\n",
    "\n",
    "print(x)"
   ]
  },
  {
   "cell_type": "code",
   "execution_count": 64,
   "id": "2da3a99e",
   "metadata": {},
   "outputs": [
    {
     "name": "stdout",
     "output_type": "stream",
     "text": [
      "(array([1, 3, 5, 7], dtype=int64),)\n"
     ]
    }
   ],
   "source": [
    "arr = np.array([1, 2, 3, 4, 5, 6, 7, 8])\n",
    "x = np.where(arr%2 == 0)\n",
    "print(x)"
   ]
  },
  {
   "cell_type": "code",
   "execution_count": null,
   "id": "294d8abc",
   "metadata": {},
   "outputs": [
    {
     "name": "stdout",
     "output_type": "stream",
     "text": [
      "1\n"
     ]
    }
   ],
   "source": [
    "arr = np.array([6, 7, 8, 9])\n",
    "'''\n",
    "There is a method called searchsorted() which performs a binary search in the array, \n",
    "and returns the index where the specified value would be inserted to maintain the search order.\n",
    "'''\n",
    "x = np.searchsorted(arr, 7)\n",
    "print(x)"
   ]
  },
  {
   "cell_type": "code",
   "execution_count": null,
   "id": "66f57638",
   "metadata": {},
   "outputs": [
    {
     "name": "stdout",
     "output_type": "stream",
     "text": [
      "2\n"
     ]
    }
   ],
   "source": [
    "arr = np.array([6, 7, 8, 9])\n",
    "'''\n",
    "By default the left most index is returned, but we can give side='right' to return the right most index instead.\n",
    "'''\n",
    "x = np.searchsorted(arr, 7, side='right')\n",
    "print(x)"
   ]
  },
  {
   "cell_type": "code",
   "execution_count": 70,
   "id": "983ff816",
   "metadata": {},
   "outputs": [
    {
     "name": "stdout",
     "output_type": "stream",
     "text": [
      "[1 2 3]\n"
     ]
    }
   ],
   "source": [
    "arr = np.array([1, 3, 5, 7])\n",
    "### To search for more than one value, use an array with the specified values.\n",
    "x = np.searchsorted(arr, [2, 4, 6])\n",
    "### The return value is an array: [1 2 3] containing the three indexes where 2, 4, 6 would be inserted in the original array to maintain the order.\n",
    "print(x)"
   ]
  },
  {
   "cell_type": "code",
   "execution_count": 71,
   "id": "99b9f694",
   "metadata": {},
   "outputs": [
    {
     "name": "stdout",
     "output_type": "stream",
     "text": [
      "[0 1 2 3]\n"
     ]
    }
   ],
   "source": [
    "### Sorting Arrays\n",
    "arr = np.array([3, 2, 0, 1])\n",
    "print(np.sort(arr))"
   ]
  },
  {
   "cell_type": "code",
   "execution_count": 72,
   "id": "3f96fe3d",
   "metadata": {},
   "outputs": [
    {
     "name": "stdout",
     "output_type": "stream",
     "text": [
      "['apple' 'banana' 'cherry']\n"
     ]
    }
   ],
   "source": [
    "arr = np.array(['banana', 'cherry', 'apple'])\n",
    "print(np.sort(arr))"
   ]
  },
  {
   "cell_type": "code",
   "execution_count": 73,
   "id": "39a7da59",
   "metadata": {},
   "outputs": [
    {
     "name": "stdout",
     "output_type": "stream",
     "text": [
      "[False  True  True]\n"
     ]
    }
   ],
   "source": [
    "arr = np.array([True, False, True])\n",
    "print(np.sort(arr))"
   ]
  },
  {
   "cell_type": "code",
   "execution_count": 74,
   "id": "ea7805d2",
   "metadata": {},
   "outputs": [
    {
     "name": "stdout",
     "output_type": "stream",
     "text": [
      "[[2 3 4]\n",
      " [0 1 5]]\n"
     ]
    }
   ],
   "source": [
    "arr = np.array([[3, 2, 4], [5, 0, 1]])\n",
    "print(np.sort(arr))"
   ]
  },
  {
   "cell_type": "code",
   "execution_count": 75,
   "id": "b26e01a4",
   "metadata": {},
   "outputs": [
    {
     "name": "stdout",
     "output_type": "stream",
     "text": [
      "[False  True  True]\n"
     ]
    }
   ],
   "source": [
    "arr = np.array([True, False, True])\n",
    "print(np.sort(arr))"
   ]
  },
  {
   "cell_type": "code",
   "execution_count": 76,
   "id": "88941a70",
   "metadata": {},
   "outputs": [
    {
     "name": "stdout",
     "output_type": "stream",
     "text": [
      "[41 43]\n"
     ]
    }
   ],
   "source": [
    "arr = np.array([41, 42, 43, 44])\n",
    "\n",
    "x = [True, False, True, False]\n",
    "\n",
    "newarr = arr[x]\n",
    "\n",
    "print(newarr)"
   ]
  },
  {
   "cell_type": "code",
   "execution_count": 77,
   "id": "b199c83b",
   "metadata": {},
   "outputs": [
    {
     "name": "stdout",
     "output_type": "stream",
     "text": [
      "[False, False, True, True]\n",
      "[43 44]\n"
     ]
    }
   ],
   "source": [
    "arr = np.array([41, 42, 43, 44])\n",
    "\n",
    "# Create an empty list\n",
    "filter_arr = []\n",
    "\n",
    "# go through each element in arr\n",
    "for element in arr:\n",
    "  # if the element is higher than 42, set the value to True, otherwise False:\n",
    "  if element > 42:\n",
    "    filter_arr.append(True)\n",
    "  else:\n",
    "    filter_arr.append(False)\n",
    "\n",
    "newarr = arr[filter_arr]\n",
    "\n",
    "print(filter_arr)\n",
    "print(newarr)"
   ]
  },
  {
   "cell_type": "code",
   "execution_count": 78,
   "id": "f5d35826",
   "metadata": {},
   "outputs": [
    {
     "name": "stdout",
     "output_type": "stream",
     "text": [
      "[False, True, False, True, False, True, False]\n",
      "[2 4 6]\n"
     ]
    }
   ],
   "source": [
    "arr = np.array([1, 2, 3, 4, 5, 6, 7])\n",
    "\n",
    "# Create an empty list\n",
    "filter_arr = []\n",
    "\n",
    "# go through each element in arr\n",
    "for element in arr:\n",
    "  # if the element is completely divisble by 2, set the value to True, otherwise False\n",
    "  if element % 2 == 0:\n",
    "    filter_arr.append(True)\n",
    "  else:\n",
    "    filter_arr.append(False)\n",
    "\n",
    "newarr = arr[filter_arr]\n",
    "\n",
    "print(filter_arr)\n",
    "print(newarr)"
   ]
  },
  {
   "cell_type": "code",
   "execution_count": 79,
   "id": "17abc329",
   "metadata": {},
   "outputs": [
    {
     "name": "stdout",
     "output_type": "stream",
     "text": [
      "[False False  True  True]\n",
      "[43 44]\n"
     ]
    }
   ],
   "source": [
    "arr = np.array([41, 42, 43, 44])\n",
    "\n",
    "filter_arr = arr > 42\n",
    "\n",
    "newarr = arr[filter_arr]\n",
    "\n",
    "print(filter_arr)\n",
    "print(newarr)"
   ]
  },
  {
   "cell_type": "code",
   "execution_count": 80,
   "id": "c81e544f",
   "metadata": {},
   "outputs": [
    {
     "name": "stdout",
     "output_type": "stream",
     "text": [
      "[False  True False  True False  True False]\n",
      "[2 4 6]\n"
     ]
    }
   ],
   "source": [
    "arr = np.array([1, 2, 3, 4, 5, 6, 7])\n",
    "\n",
    "filter_arr = arr % 2 == 0\n",
    "\n",
    "newarr = arr[filter_arr]\n",
    "\n",
    "print(filter_arr)\n",
    "print(newarr)"
   ]
  },
  {
   "cell_type": "code",
   "execution_count": null,
   "id": "ddf0925f",
   "metadata": {},
   "outputs": [],
   "source": []
  }
 ],
 "metadata": {
  "kernelspec": {
   "display_name": "base",
   "language": "python",
   "name": "python3"
  },
  "language_info": {
   "codemirror_mode": {
    "name": "ipython",
    "version": 3
   },
   "file_extension": ".py",
   "mimetype": "text/x-python",
   "name": "python",
   "nbconvert_exporter": "python",
   "pygments_lexer": "ipython3",
   "version": "3.12.4"
  }
 },
 "nbformat": 4,
 "nbformat_minor": 5
}
