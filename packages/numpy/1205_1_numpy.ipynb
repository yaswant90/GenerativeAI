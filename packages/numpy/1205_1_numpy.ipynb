{
 "cells": [
  {
   "cell_type": "code",
   "id": "initial_id",
   "metadata": {
    "collapsed": true,
    "ExecuteTime": {
     "end_time": "2025-05-12T06:17:25.067610Z",
     "start_time": "2025-05-12T06:17:23.774580Z"
    }
   },
   "source": [
    "### importing numpy\n",
    "import numpy as np"
   ],
   "outputs": [],
   "execution_count": 1
  },
  {
   "metadata": {
    "ExecuteTime": {
     "end_time": "2025-05-12T06:18:03.903743Z",
     "start_time": "2025-05-12T06:18:03.888180Z"
    }
   },
   "cell_type": "code",
   "source": [
    "array = np.array([1,2,3,4,5])\n",
    "print(array)\n",
    "print(type(array))"
   ],
   "id": "55890065d07d93d1",
   "outputs": [
    {
     "name": "stdout",
     "output_type": "stream",
     "text": [
      "[1 2 3 4 5]\n",
      "<class 'numpy.ndarray'>\n"
     ]
    }
   ],
   "execution_count": 3
  },
  {
   "metadata": {
    "ExecuteTime": {
     "end_time": "2025-05-12T06:18:40.224861Z",
     "start_time": "2025-05-12T06:18:40.214148Z"
    }
   },
   "cell_type": "code",
   "source": [
    "## add dimentions while declaring\n",
    "exp2 = np.array([1,2,3,4,5], ndmin=3)\n",
    "print(exp2)"
   ],
   "id": "fc4d818470efa7fe",
   "outputs": [
    {
     "name": "stdout",
     "output_type": "stream",
     "text": [
      "[[[1 2 3 4 5]]]\n"
     ]
    }
   ],
   "execution_count": 4
  },
  {
   "metadata": {
    "ExecuteTime": {
     "end_time": "2025-05-12T06:18:55.486174Z",
     "start_time": "2025-05-12T06:18:55.476405Z"
    }
   },
   "cell_type": "code",
   "source": [
    "## read the dimentions\n",
    "exp2.ndim"
   ],
   "id": "95a5bd745fea08e",
   "outputs": [
    {
     "data": {
      "text/plain": [
       "3"
      ]
     },
     "execution_count": 5,
     "metadata": {},
     "output_type": "execute_result"
    }
   ],
   "execution_count": 5
  },
  {
   "metadata": {
    "ExecuteTime": {
     "end_time": "2025-05-12T06:20:10.957578Z",
     "start_time": "2025-05-12T06:20:10.945459Z"
    }
   },
   "cell_type": "code",
   "source": [
    "## indexing one dimentions\n",
    "exp = np.array([1,2,3,4,5])\n",
    "print(exp[0])\n",
    "print(exp[2])\n",
    "print(exp[1:3])\n",
    "print(exp[-1])"
   ],
   "id": "3f4c1fb0301d1cdc",
   "outputs": [
    {
     "name": "stdout",
     "output_type": "stream",
     "text": [
      "1\n",
      "3\n",
      "[2 3]\n",
      "5\n"
     ]
    }
   ],
   "execution_count": 7
  },
  {
   "metadata": {
    "ExecuteTime": {
     "end_time": "2025-05-12T06:20:42.230459Z",
     "start_time": "2025-05-12T06:20:42.220584Z"
    }
   },
   "cell_type": "code",
   "source": [
    "## indexing 2-D array\n",
    "twodim = np.array([[1,2,3,4,5],[6,7,8,9,10]])\n",
    "print(twodim)"
   ],
   "id": "4e6404713226918a",
   "outputs": [
    {
     "name": "stdout",
     "output_type": "stream",
     "text": [
      "[[ 1  2  3  4  5]\n",
      " [ 6  7  8  9 10]]\n"
     ]
    }
   ],
   "execution_count": 8
  },
  {
   "metadata": {
    "ExecuteTime": {
     "end_time": "2025-05-12T06:21:00.455261Z",
     "start_time": "2025-05-12T06:21:00.449066Z"
    }
   },
   "cell_type": "code",
   "source": "print(twodim[0,2])",
   "id": "eec721368d789a39",
   "outputs": [
    {
     "name": "stdout",
     "output_type": "stream",
     "text": [
      "3\n"
     ]
    }
   ],
   "execution_count": 9
  },
  {
   "metadata": {
    "ExecuteTime": {
     "end_time": "2025-05-12T06:21:44.348363Z",
     "start_time": "2025-05-12T06:21:44.336794Z"
    }
   },
   "cell_type": "code",
   "source": "print(twodim[0,2:5])",
   "id": "79faa1c69527534e",
   "outputs": [
    {
     "name": "stdout",
     "output_type": "stream",
     "text": [
      "[3 4 5]\n"
     ]
    }
   ],
   "execution_count": 12
  },
  {
   "metadata": {
    "ExecuteTime": {
     "end_time": "2025-05-12T06:21:30.391096Z",
     "start_time": "2025-05-12T06:21:30.383272Z"
    }
   },
   "cell_type": "code",
   "source": "print(twodim[-1,2:5])",
   "id": "25a24a1f0e943e54",
   "outputs": [
    {
     "name": "stdout",
     "output_type": "stream",
     "text": [
      "[ 8  9 10]\n"
     ]
    }
   ],
   "execution_count": 11
  },
  {
   "metadata": {
    "ExecuteTime": {
     "end_time": "2025-05-12T06:24:12.980218Z",
     "start_time": "2025-05-12T06:24:12.966456Z"
    }
   },
   "cell_type": "code",
   "source": [
    "## indexing 3-D array\n",
    "threedim = np.array([[[1,2,3],[4,5,6]],[[7,8,9],[10,11,12]]])"
   ],
   "id": "88aed61376c09d9",
   "outputs": [],
   "execution_count": 18
  },
  {
   "metadata": {
    "ExecuteTime": {
     "end_time": "2025-05-12T06:24:15.572525Z",
     "start_time": "2025-05-12T06:24:15.555610Z"
    }
   },
   "cell_type": "code",
   "source": "print(threedim)",
   "id": "1a619a8f781ee5d0",
   "outputs": [
    {
     "name": "stdout",
     "output_type": "stream",
     "text": [
      "[[[ 1  2  3]\n",
      "  [ 4  5  6]]\n",
      "\n",
      " [[ 7  8  9]\n",
      "  [10 11 12]]]\n"
     ]
    }
   ],
   "execution_count": 19
  },
  {
   "metadata": {
    "ExecuteTime": {
     "end_time": "2025-05-12T06:24:18.158954Z",
     "start_time": "2025-05-12T06:24:18.150433Z"
    }
   },
   "cell_type": "code",
   "source": "print(threedim.shape)",
   "id": "66509be2111f3f33",
   "outputs": [
    {
     "name": "stdout",
     "output_type": "stream",
     "text": [
      "(2, 2, 3)\n"
     ]
    }
   ],
   "execution_count": 20
  },
  {
   "metadata": {
    "ExecuteTime": {
     "end_time": "2025-05-12T06:24:38.043926Z",
     "start_time": "2025-05-12T06:24:38.031324Z"
    }
   },
   "cell_type": "code",
   "source": "print(threedim[0,1,2])",
   "id": "5df0d7abc246da07",
   "outputs": [
    {
     "name": "stdout",
     "output_type": "stream",
     "text": [
      "6\n"
     ]
    }
   ],
   "execution_count": 21
  },
  {
   "metadata": {
    "ExecuteTime": {
     "end_time": "2025-05-12T06:25:21.822573Z",
     "start_time": "2025-05-12T06:25:21.816416Z"
    }
   },
   "cell_type": "code",
   "source": "print(threedim[1,1,0])",
   "id": "2b78d65b6a2261bc",
   "outputs": [
    {
     "name": "stdout",
     "output_type": "stream",
     "text": [
      "10\n"
     ]
    }
   ],
   "execution_count": 22
  },
  {
   "metadata": {
    "ExecuteTime": {
     "end_time": "2025-05-12T06:25:57.385027Z",
     "start_time": "2025-05-12T06:25:57.368013Z"
    }
   },
   "cell_type": "code",
   "source": "print(threedim[-1,1,2])",
   "id": "2e3d7cac406ecbf9",
   "outputs": [
    {
     "name": "stdout",
     "output_type": "stream",
     "text": [
      "12\n"
     ]
    }
   ],
   "execution_count": 24
  },
  {
   "metadata": {
    "ExecuteTime": {
     "end_time": "2025-05-12T06:27:52.722667Z",
     "start_time": "2025-05-12T06:27:52.707058Z"
    }
   },
   "cell_type": "code",
   "source": [
    "## slicing an array\n",
    "ar1 = np.array([1,2,3,4,5])\n",
    "print(ar1[1:3])"
   ],
   "id": "a47e081949db11f7",
   "outputs": [
    {
     "name": "stdout",
     "output_type": "stream",
     "text": [
      "[2 3]\n"
     ]
    }
   ],
   "execution_count": 25
  },
  {
   "metadata": {
    "ExecuteTime": {
     "end_time": "2025-05-12T06:28:28.156815Z",
     "start_time": "2025-05-12T06:28:28.149843Z"
    }
   },
   "cell_type": "code",
   "source": "print(ar1[:2])",
   "id": "c52cc51f55cee5a4",
   "outputs": [
    {
     "name": "stdout",
     "output_type": "stream",
     "text": [
      "[1 2]\n"
     ]
    }
   ],
   "execution_count": 26
  },
  {
   "metadata": {
    "ExecuteTime": {
     "end_time": "2025-05-12T06:29:17.727011Z",
     "start_time": "2025-05-12T06:29:17.713888Z"
    }
   },
   "cell_type": "code",
   "source": [
    "## negative slicing\n",
    "print(ar1[-2:])"
   ],
   "id": "24d97493e66f9d0f",
   "outputs": [
    {
     "name": "stdout",
     "output_type": "stream",
     "text": [
      "[4 5]\n"
     ]
    }
   ],
   "execution_count": 27
  },
  {
   "metadata": {
    "ExecuteTime": {
     "end_time": "2025-05-12T06:29:30.076310Z",
     "start_time": "2025-05-12T06:29:30.062299Z"
    }
   },
   "cell_type": "code",
   "source": "print(ar1[-3:-1])",
   "id": "749e80968049909c",
   "outputs": [
    {
     "name": "stdout",
     "output_type": "stream",
     "text": [
      "[3 4]\n"
     ]
    }
   ],
   "execution_count": 28
  },
  {
   "metadata": {
    "ExecuteTime": {
     "end_time": "2025-05-12T06:30:21.420049Z",
     "start_time": "2025-05-12T06:30:21.412772Z"
    }
   },
   "cell_type": "code",
   "source": [
    "## use stepper\n",
    "print(ar1[1:3:2])"
   ],
   "id": "1c848b6f7a7eb736",
   "outputs": [
    {
     "name": "stdout",
     "output_type": "stream",
     "text": [
      "[2]\n"
     ]
    }
   ],
   "execution_count": 29
  },
  {
   "metadata": {
    "ExecuteTime": {
     "end_time": "2025-05-12T06:30:38.784298Z",
     "start_time": "2025-05-12T06:30:38.775636Z"
    }
   },
   "cell_type": "code",
   "source": [
    "## prints everyother element from an array\n",
    "print(ar1[::2])"
   ],
   "id": "18295ed89077be81",
   "outputs": [
    {
     "name": "stdout",
     "output_type": "stream",
     "text": [
      "[1 3 5]\n"
     ]
    }
   ],
   "execution_count": 30
  },
  {
   "metadata": {
    "ExecuteTime": {
     "end_time": "2025-05-12T06:31:18.887538Z",
     "start_time": "2025-05-12T06:31:18.876501Z"
    }
   },
   "cell_type": "code",
   "source": "print(twodim[1,1:4])",
   "id": "45bca8d64f7d585c",
   "outputs": [
    {
     "name": "stdout",
     "output_type": "stream",
     "text": [
      "[7 8 9]\n"
     ]
    }
   ],
   "execution_count": 31
  },
  {
   "metadata": {
    "ExecuteTime": {
     "end_time": "2025-05-12T06:31:57.348122Z",
     "start_time": "2025-05-12T06:31:57.339315Z"
    }
   },
   "cell_type": "code",
   "source": "print(twodim[0:2, 2])",
   "id": "206e9686d6032ec8",
   "outputs": [
    {
     "name": "stdout",
     "output_type": "stream",
     "text": [
      "[3 8]\n"
     ]
    }
   ],
   "execution_count": 32
  },
  {
   "metadata": {
    "ExecuteTime": {
     "end_time": "2025-05-12T06:32:19.962581Z",
     "start_time": "2025-05-12T06:32:19.957256Z"
    }
   },
   "cell_type": "code",
   "source": "print(twodim[0:2, 1:3])",
   "id": "f24d26c641002e19",
   "outputs": [
    {
     "name": "stdout",
     "output_type": "stream",
     "text": [
      "[[2 3]\n",
      " [7 8]]\n"
     ]
    }
   ],
   "execution_count": 34
  },
  {
   "metadata": {
    "ExecuteTime": {
     "end_time": "2025-05-12T06:38:58.091529Z",
     "start_time": "2025-05-12T06:38:58.084978Z"
    }
   },
   "cell_type": "code",
   "source": [
    "### Datatypes in Numpy\n",
    "#### i - integer\n",
    "#### b - boolean\n",
    "#### u - unsigned integer\n",
    "#### f - float\n",
    "#### c - complex\n",
    "#### m - timedelta\n",
    "#### M - datetime\n",
    "#### O - object\n",
    "#### S - String\n",
    "#### U - unicode string\n",
    "#### V - fixed chunk of memory for other type (void)"
   ],
   "id": "36c425fd04c3a27c",
   "outputs": [],
   "execution_count": 35
  },
  {
   "metadata": {
    "ExecuteTime": {
     "end_time": "2025-05-12T06:39:47.488080Z",
     "start_time": "2025-05-12T06:39:47.481964Z"
    }
   },
   "cell_type": "code",
   "source": [
    "## printing data type of an array\n",
    "print(ar1.dtype)"
   ],
   "id": "e3e55f4705120602",
   "outputs": [
    {
     "name": "stdout",
     "output_type": "stream",
     "text": [
      "int64\n"
     ]
    }
   ],
   "execution_count": 37
  },
  {
   "metadata": {
    "ExecuteTime": {
     "end_time": "2025-05-12T06:40:13.139766Z",
     "start_time": "2025-05-12T06:40:13.128365Z"
    }
   },
   "cell_type": "code",
   "source": [
    "array2 = np.array([\"apple\", \"banana\", \"cherry\"])\n",
    "print(array2.dtype)"
   ],
   "id": "bdeb178f1b7d6e04",
   "outputs": [
    {
     "name": "stdout",
     "output_type": "stream",
     "text": [
      "<U6\n"
     ]
    }
   ],
   "execution_count": 38
  },
  {
   "metadata": {
    "ExecuteTime": {
     "end_time": "2025-05-12T06:41:03.446008Z",
     "start_time": "2025-05-12T06:41:03.439068Z"
    }
   },
   "cell_type": "code",
   "source": [
    "array3 = np.array([1,2,3], dtype='S')\n",
    "print(array3.dtype)"
   ],
   "id": "a04e13ceb5653f50",
   "outputs": [
    {
     "name": "stdout",
     "output_type": "stream",
     "text": [
      "|S1\n"
     ]
    }
   ],
   "execution_count": 39
  },
  {
   "metadata": {
    "ExecuteTime": {
     "end_time": "2025-05-12T06:41:30.853718Z",
     "start_time": "2025-05-12T06:41:30.847361Z"
    }
   },
   "cell_type": "code",
   "source": [
    "array3 = np.array([1,2,3], dtype='i4')\n",
    "print(array3.dtype)"
   ],
   "id": "d22747ee2cdefab1",
   "outputs": [
    {
     "name": "stdout",
     "output_type": "stream",
     "text": [
      "int32\n"
     ]
    }
   ],
   "execution_count": 40
  },
  {
   "metadata": {
    "ExecuteTime": {
     "end_time": "2025-05-12T06:41:37.645896Z",
     "start_time": "2025-05-12T06:41:37.638749Z"
    }
   },
   "cell_type": "code",
   "source": "print(array3)",
   "id": "c7461a321886c5c0",
   "outputs": [
    {
     "name": "stdout",
     "output_type": "stream",
     "text": [
      "[1 2 3]\n"
     ]
    }
   ],
   "execution_count": 41
  },
  {
   "metadata": {
    "ExecuteTime": {
     "end_time": "2025-05-12T06:42:46.132832Z",
     "start_time": "2025-05-12T06:42:46.124253Z"
    }
   },
   "cell_type": "code",
   "source": [
    "## copy\n",
    "array4 = array3.copy()\n",
    "array4[0] = 99\n",
    "print(array4)\n",
    "print(array3)"
   ],
   "id": "ad96315eac878711",
   "outputs": [
    {
     "name": "stdout",
     "output_type": "stream",
     "text": [
      "[99  2  3]\n",
      "[1 2 3]\n"
     ]
    }
   ],
   "execution_count": 42
  },
  {
   "metadata": {
    "ExecuteTime": {
     "end_time": "2025-05-12T06:43:22.469736Z",
     "start_time": "2025-05-12T06:43:22.461336Z"
    }
   },
   "cell_type": "code",
   "source": [
    "## view\n",
    "array5 = array3.view()\n",
    "array5[0] = 99\n",
    "print(array5)\n",
    "print(array3)"
   ],
   "id": "32625812eee38f9f",
   "outputs": [
    {
     "name": "stdout",
     "output_type": "stream",
     "text": [
      "[99  2  3]\n",
      "[99  2  3]\n"
     ]
    }
   ],
   "execution_count": 43
  },
  {
   "metadata": {
    "ExecuteTime": {
     "end_time": "2025-05-12T06:51:07.351953Z",
     "start_time": "2025-05-12T06:51:07.342506Z"
    }
   },
   "cell_type": "code",
   "source": [
    "## array shapes\n",
    "ar4 = np.array([[1,2,3,4,5], [6,7,8,9,10]])\n",
    "print(ar4.shape)"
   ],
   "id": "becea311a68d1e77",
   "outputs": [
    {
     "name": "stdout",
     "output_type": "stream",
     "text": [
      "(2, 5)\n"
     ]
    }
   ],
   "execution_count": 44
  },
  {
   "metadata": {
    "ExecuteTime": {
     "end_time": "2025-05-12T06:52:30.204202Z",
     "start_time": "2025-05-12T06:52:30.197044Z"
    }
   },
   "cell_type": "code",
   "source": [
    "ar5 = np.array([1,2,3,4,5], ndmin=3) ## create an array with 3 dimension using ndmin using a vector with values 1,2,3,4,5 and verify that last dimension has value 5\n",
    "print(ar5.shape)\n",
    "print(ar5)"
   ],
   "id": "56ddba525f26a4a6",
   "outputs": [
    {
     "name": "stdout",
     "output_type": "stream",
     "text": [
      "(1, 1, 5)\n",
      "[[[1 2 3 4 5]]]\n"
     ]
    }
   ],
   "execution_count": 46
  },
  {
   "metadata": {
    "ExecuteTime": {
     "end_time": "2025-05-12T06:55:17.874468Z",
     "start_time": "2025-05-12T06:55:17.865423Z"
    }
   },
   "cell_type": "code",
   "source": [
    "ar6 = np.array([-1,0,1])\n",
    "newar = ar6.astype(bool)\n",
    "print(newar)"
   ],
   "id": "44577dd92d036acb",
   "outputs": [
    {
     "name": "stdout",
     "output_type": "stream",
     "text": [
      "[ True False  True]\n"
     ]
    }
   ],
   "execution_count": 47
  },
  {
   "metadata": {
    "ExecuteTime": {
     "end_time": "2025-05-12T07:00:22.314700Z",
     "start_time": "2025-05-12T07:00:22.308436Z"
    }
   },
   "cell_type": "code",
   "source": [
    "## Reshaping into 3 X 2 Matrix\n",
    "ar7 = np.array([1,2,3,4,5,6]).reshape(3,2)"
   ],
   "id": "6f69a448779f1a04",
   "outputs": [],
   "execution_count": 49
  },
  {
   "metadata": {
    "ExecuteTime": {
     "end_time": "2025-05-12T07:00:28.696306Z",
     "start_time": "2025-05-12T07:00:28.687656Z"
    }
   },
   "cell_type": "code",
   "source": "print(ar7)",
   "id": "65b996036f1117cc",
   "outputs": [
    {
     "name": "stdout",
     "output_type": "stream",
     "text": [
      "[[1 2]\n",
      " [3 4]\n",
      " [5 6]]\n"
     ]
    }
   ],
   "execution_count": 50
  },
  {
   "metadata": {
    "ExecuteTime": {
     "end_time": "2025-05-12T07:02:07.127388Z",
     "start_time": "2025-05-12T07:02:07.119593Z"
    }
   },
   "cell_type": "code",
   "source": [
    "## 2X3 Matrix\n",
    "ar7 = np.array([1,2,3,4,5,6]).reshape(2,3)\n",
    "print(ar7)"
   ],
   "id": "778d5a0c86f7a2c7",
   "outputs": [
    {
     "name": "stdout",
     "output_type": "stream",
     "text": [
      "[[1 2 3]\n",
      " [4 5 6]]\n"
     ]
    }
   ],
   "execution_count": 51
  },
  {
   "metadata": {
    "ExecuteTime": {
     "end_time": "2025-05-12T07:03:19.117981Z",
     "start_time": "2025-05-12T07:03:19.109749Z"
    }
   },
   "cell_type": "code",
   "source": [
    "## iterations 1-D\n",
    "ar8 = np.array([1,2,3,4,5,6])\n",
    "for i in ar8:\n",
    "    print(i)"
   ],
   "id": "3990f70c1b2f73c1",
   "outputs": [
    {
     "name": "stdout",
     "output_type": "stream",
     "text": [
      "1\n",
      "2\n",
      "3\n",
      "4\n",
      "5\n",
      "6\n"
     ]
    }
   ],
   "execution_count": 52
  },
  {
   "metadata": {
    "ExecuteTime": {
     "end_time": "2025-05-12T07:05:45.754184Z",
     "start_time": "2025-05-12T07:05:45.739445Z"
    }
   },
   "cell_type": "code",
   "source": [
    "## 2D iteration\n",
    "ar9 = np.array([[1,2,3,4,5],[6,7,8,9,10]])\n",
    "for i in ar9:\n",
    "    for j in i:\n",
    "        print(i, j)"
   ],
   "id": "932411644b60b9c0",
   "outputs": [
    {
     "name": "stdout",
     "output_type": "stream",
     "text": [
      "[1 2 3 4 5] 1\n",
      "[1 2 3 4 5] 2\n",
      "[1 2 3 4 5] 3\n",
      "[1 2 3 4 5] 4\n",
      "[1 2 3 4 5] 5\n",
      "[ 6  7  8  9 10] 6\n",
      "[ 6  7  8  9 10] 7\n",
      "[ 6  7  8  9 10] 8\n",
      "[ 6  7  8  9 10] 9\n",
      "[ 6  7  8  9 10] 10\n"
     ]
    }
   ],
   "execution_count": 59
  },
  {
   "metadata": {
    "ExecuteTime": {
     "end_time": "2025-05-12T07:06:53.796507Z",
     "start_time": "2025-05-12T07:06:53.789572Z"
    }
   },
   "cell_type": "code",
   "source": [
    "## 3D iterations\n",
    "ar10 = np.array([[[1,2,3,4,5],[6,7,8,9,10]],[[11,12,13,14,15],[16,17,18,19,20]]])"
   ],
   "id": "d74a0fa6163607db",
   "outputs": [],
   "execution_count": 60
  },
  {
   "metadata": {
    "ExecuteTime": {
     "end_time": "2025-05-12T07:07:07.774215Z",
     "start_time": "2025-05-12T07:07:07.760214Z"
    }
   },
   "cell_type": "code",
   "source": [
    "for i in ar10:\n",
    "    for j in i:\n",
    "        for k in j:\n",
    "            print(i, j, k)"
   ],
   "id": "f8723a2d43b582a4",
   "outputs": [
    {
     "name": "stdout",
     "output_type": "stream",
     "text": [
      "[[ 1  2  3  4  5]\n",
      " [ 6  7  8  9 10]] [1 2 3 4 5] 1\n",
      "[[ 1  2  3  4  5]\n",
      " [ 6  7  8  9 10]] [1 2 3 4 5] 2\n",
      "[[ 1  2  3  4  5]\n",
      " [ 6  7  8  9 10]] [1 2 3 4 5] 3\n",
      "[[ 1  2  3  4  5]\n",
      " [ 6  7  8  9 10]] [1 2 3 4 5] 4\n",
      "[[ 1  2  3  4  5]\n",
      " [ 6  7  8  9 10]] [1 2 3 4 5] 5\n",
      "[[ 1  2  3  4  5]\n",
      " [ 6  7  8  9 10]] [ 6  7  8  9 10] 6\n",
      "[[ 1  2  3  4  5]\n",
      " [ 6  7  8  9 10]] [ 6  7  8  9 10] 7\n",
      "[[ 1  2  3  4  5]\n",
      " [ 6  7  8  9 10]] [ 6  7  8  9 10] 8\n",
      "[[ 1  2  3  4  5]\n",
      " [ 6  7  8  9 10]] [ 6  7  8  9 10] 9\n",
      "[[ 1  2  3  4  5]\n",
      " [ 6  7  8  9 10]] [ 6  7  8  9 10] 10\n",
      "[[11 12 13 14 15]\n",
      " [16 17 18 19 20]] [11 12 13 14 15] 11\n",
      "[[11 12 13 14 15]\n",
      " [16 17 18 19 20]] [11 12 13 14 15] 12\n",
      "[[11 12 13 14 15]\n",
      " [16 17 18 19 20]] [11 12 13 14 15] 13\n",
      "[[11 12 13 14 15]\n",
      " [16 17 18 19 20]] [11 12 13 14 15] 14\n",
      "[[11 12 13 14 15]\n",
      " [16 17 18 19 20]] [11 12 13 14 15] 15\n",
      "[[11 12 13 14 15]\n",
      " [16 17 18 19 20]] [16 17 18 19 20] 16\n",
      "[[11 12 13 14 15]\n",
      " [16 17 18 19 20]] [16 17 18 19 20] 17\n",
      "[[11 12 13 14 15]\n",
      " [16 17 18 19 20]] [16 17 18 19 20] 18\n",
      "[[11 12 13 14 15]\n",
      " [16 17 18 19 20]] [16 17 18 19 20] 19\n",
      "[[11 12 13 14 15]\n",
      " [16 17 18 19 20]] [16 17 18 19 20] 20\n"
     ]
    }
   ],
   "execution_count": 61
  },
  {
   "metadata": {
    "ExecuteTime": {
     "end_time": "2025-05-12T07:07:46.170014Z",
     "start_time": "2025-05-12T07:07:46.163007Z"
    }
   },
   "cell_type": "code",
   "source": [
    "for i in np.nditer(ar10):\n",
    "    print(i)"
   ],
   "id": "d7e01d89a41c3c8e",
   "outputs": [
    {
     "name": "stdout",
     "output_type": "stream",
     "text": [
      "1\n",
      "2\n",
      "3\n",
      "4\n",
      "5\n",
      "6\n",
      "7\n",
      "8\n",
      "9\n",
      "10\n",
      "11\n",
      "12\n",
      "13\n",
      "14\n",
      "15\n",
      "16\n",
      "17\n",
      "18\n",
      "19\n",
      "20\n"
     ]
    }
   ],
   "execution_count": 62
  },
  {
   "metadata": {
    "ExecuteTime": {
     "end_time": "2025-05-12T07:08:58.843390Z",
     "start_time": "2025-05-12T07:08:58.828986Z"
    }
   },
   "cell_type": "code",
   "source": [
    "for i in np.nditer(ar10, flags=['buffered'], op_dtypes=['S']):\n",
    "    print(i)"
   ],
   "id": "1018cda37996f3ae",
   "outputs": [
    {
     "name": "stdout",
     "output_type": "stream",
     "text": [
      "np.bytes_(b'1')\n",
      "np.bytes_(b'2')\n",
      "np.bytes_(b'3')\n",
      "np.bytes_(b'4')\n",
      "np.bytes_(b'5')\n",
      "np.bytes_(b'6')\n",
      "np.bytes_(b'7')\n",
      "np.bytes_(b'8')\n",
      "np.bytes_(b'9')\n",
      "np.bytes_(b'10')\n",
      "np.bytes_(b'11')\n",
      "np.bytes_(b'12')\n",
      "np.bytes_(b'13')\n",
      "np.bytes_(b'14')\n",
      "np.bytes_(b'15')\n",
      "np.bytes_(b'16')\n",
      "np.bytes_(b'17')\n",
      "np.bytes_(b'18')\n",
      "np.bytes_(b'19')\n",
      "np.bytes_(b'20')\n"
     ]
    }
   ],
   "execution_count": 63
  },
  {
   "metadata": {
    "ExecuteTime": {
     "end_time": "2025-05-12T07:10:10.528330Z",
     "start_time": "2025-05-12T07:10:10.519511Z"
    }
   },
   "cell_type": "code",
   "source": [
    "for i in np.nditer(ar10[:,::2]):\n",
    "    print(i)"
   ],
   "id": "96bfc5157ff7e183",
   "outputs": [
    {
     "name": "stdout",
     "output_type": "stream",
     "text": [
      "1\n",
      "2\n",
      "3\n",
      "4\n",
      "5\n",
      "11\n",
      "12\n",
      "13\n",
      "14\n",
      "15\n"
     ]
    }
   ],
   "execution_count": 64
  },
  {
   "metadata": {
    "ExecuteTime": {
     "end_time": "2025-05-12T07:10:47.495904Z",
     "start_time": "2025-05-12T07:10:47.488036Z"
    }
   },
   "cell_type": "code",
   "source": [
    "for idx, i in np.ndenumerate(ar10):\n",
    "    print(idx, i)"
   ],
   "id": "8bfda0fc9786aea0",
   "outputs": [
    {
     "name": "stdout",
     "output_type": "stream",
     "text": [
      "(0, 0, 0) 1\n",
      "(0, 0, 1) 2\n",
      "(0, 0, 2) 3\n",
      "(0, 0, 3) 4\n",
      "(0, 0, 4) 5\n",
      "(0, 1, 0) 6\n",
      "(0, 1, 1) 7\n",
      "(0, 1, 2) 8\n",
      "(0, 1, 3) 9\n",
      "(0, 1, 4) 10\n",
      "(1, 0, 0) 11\n",
      "(1, 0, 1) 12\n",
      "(1, 0, 2) 13\n",
      "(1, 0, 3) 14\n",
      "(1, 0, 4) 15\n",
      "(1, 1, 0) 16\n",
      "(1, 1, 1) 17\n",
      "(1, 1, 2) 18\n",
      "(1, 1, 3) 19\n",
      "(1, 1, 4) 20\n"
     ]
    }
   ],
   "execution_count": 65
  },
  {
   "metadata": {
    "ExecuteTime": {
     "end_time": "2025-05-12T07:12:14.740220Z",
     "start_time": "2025-05-12T07:12:14.732018Z"
    }
   },
   "cell_type": "code",
   "source": [
    "ar11 = np.array([[1,2,3], [4,5,6]]).reshape(6)\n",
    "print(ar11)"
   ],
   "id": "bd4519c64a279e19",
   "outputs": [
    {
     "name": "stdout",
     "output_type": "stream",
     "text": [
      "[1 2 3 4 5 6]\n"
     ]
    }
   ],
   "execution_count": 66
  },
  {
   "metadata": {
    "ExecuteTime": {
     "end_time": "2025-05-12T07:13:44.729383Z",
     "start_time": "2025-05-12T07:13:44.719395Z"
    }
   },
   "cell_type": "code",
   "source": [
    "ar11 = np.array([[1,2,3], [4,5,6]]).reshape(-1)\n",
    "print(ar11)"
   ],
   "id": "39bd6e6ff8940df3",
   "outputs": [
    {
     "name": "stdout",
     "output_type": "stream",
     "text": [
      "[1 2 3 4 5 6]\n"
     ]
    }
   ],
   "execution_count": 68
  },
  {
   "metadata": {
    "ExecuteTime": {
     "end_time": "2025-05-12T07:15:17.932670Z",
     "start_time": "2025-05-12T07:15:17.924446Z"
    }
   },
   "cell_type": "code",
   "source": [
    "## joins\n",
    "ar12 = np.array([1,2])\n",
    "ar13 = np.array([3,4])\n",
    "print(np.concatenate((ar12, ar13)))"
   ],
   "id": "79fddb679c1f329c",
   "outputs": [
    {
     "name": "stdout",
     "output_type": "stream",
     "text": [
      "[1 2 3 4]\n"
     ]
    }
   ],
   "execution_count": 70
  },
  {
   "metadata": {
    "ExecuteTime": {
     "end_time": "2025-05-12T07:16:07.258065Z",
     "start_time": "2025-05-12T07:16:07.251907Z"
    }
   },
   "cell_type": "code",
   "source": [
    "ar14 = np.array([[1,2,3], [4,5,6]])\n",
    "ar15 = np.array([[7,8,9], [10,11,12]])\n",
    "print(np.concatenate((ar14, ar15), axis=1))"
   ],
   "id": "3b0232df0bcfa927",
   "outputs": [
    {
     "name": "stdout",
     "output_type": "stream",
     "text": [
      "[[ 1  2  3  7  8  9]\n",
      " [ 4  5  6 10 11 12]]\n"
     ]
    }
   ],
   "execution_count": 71
  },
  {
   "metadata": {
    "ExecuteTime": {
     "end_time": "2025-05-12T07:22:33.612624Z",
     "start_time": "2025-05-12T07:22:33.605351Z"
    }
   },
   "cell_type": "code",
   "source": "print(np.hstack((ar14, ar15)))",
   "id": "3fc9b51e9584a228",
   "outputs": [
    {
     "name": "stdout",
     "output_type": "stream",
     "text": [
      "[[ 1  2  3  7  8  9]\n",
      " [ 4  5  6 10 11 12]]\n"
     ]
    }
   ],
   "execution_count": 72
  },
  {
   "metadata": {
    "ExecuteTime": {
     "end_time": "2025-05-12T07:22:45.998493Z",
     "start_time": "2025-05-12T07:22:45.989674Z"
    }
   },
   "cell_type": "code",
   "source": "print(np.vstack((ar14, ar15)))",
   "id": "f76f1c1591894a30",
   "outputs": [
    {
     "name": "stdout",
     "output_type": "stream",
     "text": [
      "[[ 1  2  3]\n",
      " [ 4  5  6]\n",
      " [ 7  8  9]\n",
      " [10 11 12]]\n"
     ]
    }
   ],
   "execution_count": 73
  },
  {
   "metadata": {
    "ExecuteTime": {
     "end_time": "2025-05-12T07:23:24.967235Z",
     "start_time": "2025-05-12T07:23:24.960313Z"
    }
   },
   "cell_type": "code",
   "source": "print(np.dstack((ar14, ar15)))",
   "id": "a1e6cec93be386b5",
   "outputs": [
    {
     "name": "stdout",
     "output_type": "stream",
     "text": [
      "[[[ 1  7]\n",
      "  [ 2  8]\n",
      "  [ 3  9]]\n",
      "\n",
      " [[ 4 10]\n",
      "  [ 5 11]\n",
      "  [ 6 12]]]\n"
     ]
    }
   ],
   "execution_count": 74
  },
  {
   "metadata": {},
   "cell_type": "code",
   "outputs": [],
   "execution_count": null,
   "source": "",
   "id": "6c851410278b6aef"
  }
 ],
 "metadata": {
  "kernelspec": {
   "display_name": "Python 3",
   "language": "python",
   "name": "python3"
  },
  "language_info": {
   "codemirror_mode": {
    "name": "ipython",
    "version": 2
   },
   "file_extension": ".py",
   "mimetype": "text/x-python",
   "name": "python",
   "nbconvert_exporter": "python",
   "pygments_lexer": "ipython2",
   "version": "2.7.6"
  }
 },
 "nbformat": 4,
 "nbformat_minor": 5
}
