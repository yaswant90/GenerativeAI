{
 "cells": [
  {
   "cell_type": "code",
   "id": "initial_id",
   "metadata": {
    "collapsed": true,
    "ExecuteTime": {
     "end_time": "2025-05-19T11:00:11.947808Z",
     "start_time": "2025-05-19T11:00:11.935175Z"
    }
   },
   "source": "### function copy",
   "outputs": [],
   "execution_count": 1
  },
  {
   "metadata": {
    "ExecuteTime": {
     "end_time": "2025-05-19T11:00:14.122147Z",
     "start_time": "2025-05-19T11:00:14.104397Z"
    }
   },
   "cell_type": "code",
   "source": [
    "def welcome():\n",
    "    return \"welcome to the advance python course\"\n",
    "welcome()"
   ],
   "id": "8801aec4caf3e43b",
   "outputs": [
    {
     "data": {
      "text/plain": [
       "'welcome to the advance python course'"
      ]
     },
     "execution_count": 2,
     "metadata": {},
     "output_type": "execute_result"
    }
   ],
   "execution_count": 2
  },
  {
   "metadata": {
    "ExecuteTime": {
     "end_time": "2025-05-19T11:00:47.738382Z",
     "start_time": "2025-05-19T11:00:47.730253Z"
    }
   },
   "cell_type": "code",
   "source": [
    "wel = welcome\n",
    "wel()"
   ],
   "id": "4e95eb37d93d726c",
   "outputs": [
    {
     "data": {
      "text/plain": [
       "'welcome to the advance python course'"
      ]
     },
     "execution_count": 4,
     "metadata": {},
     "output_type": "execute_result"
    }
   ],
   "execution_count": 4
  },
  {
   "metadata": {
    "ExecuteTime": {
     "end_time": "2025-05-19T11:01:04.815881Z",
     "start_time": "2025-05-19T11:01:04.807764Z"
    }
   },
   "cell_type": "code",
   "source": [
    "del welcome\n",
    "wel()"
   ],
   "id": "92e28a7472446cba",
   "outputs": [
    {
     "data": {
      "text/plain": [
       "'welcome to the advance python course'"
      ]
     },
     "execution_count": 5,
     "metadata": {},
     "output_type": "execute_result"
    }
   ],
   "execution_count": 5
  },
  {
   "metadata": {
    "ExecuteTime": {
     "end_time": "2025-05-19T11:01:19.494943Z",
     "start_time": "2025-05-19T11:01:19.487002Z"
    }
   },
   "cell_type": "code",
   "source": "print(wel())",
   "id": "9e70790de90f4414",
   "outputs": [
    {
     "name": "stdout",
     "output_type": "stream",
     "text": [
      "welcome to the advance python course\n"
     ]
    }
   ],
   "execution_count": 6
  },
  {
   "metadata": {
    "ExecuteTime": {
     "end_time": "2025-05-19T11:06:21.689980Z",
     "start_time": "2025-05-19T11:06:21.680882Z"
    }
   },
   "cell_type": "code",
   "source": [
    "## clouser functions\n",
    "def main_welcome(msg):\n",
    "    def sub_welcome():\n",
    "        print(\"Welcome to the advance python course\")\n",
    "        print(msg)\n",
    "        print(\"Please learn these concepts\")\n",
    "    return sub_welcome()"
   ],
   "id": "47cda5028e0339d1",
   "outputs": [],
   "execution_count": 15
  },
  {
   "metadata": {
    "ExecuteTime": {
     "end_time": "2025-05-19T11:06:24.538302Z",
     "start_time": "2025-05-19T11:06:24.531683Z"
    }
   },
   "cell_type": "code",
   "source": "main_welcome(\"Welcome everyone\")",
   "id": "83a60fe54a13432d",
   "outputs": [
    {
     "name": "stdout",
     "output_type": "stream",
     "text": [
      "Welcome to the advance python course\n",
      "Welcome everyone\n",
      "Please learn these concepts\n"
     ]
    }
   ],
   "execution_count": 16
  },
  {
   "metadata": {
    "ExecuteTime": {
     "end_time": "2025-05-19T11:07:51.133822Z",
     "start_time": "2025-05-19T11:07:51.129308Z"
    }
   },
   "cell_type": "code",
   "source": [
    "def main_welcome(func):\n",
    "    def sub_welcome():\n",
    "        print(\"Welcome to the advance python course\")\n",
    "        func(\"Welcome everyone to this tutorial\")\n",
    "        print(\"Please learn these concepts\")\n",
    "    return sub_welcome()"
   ],
   "id": "ec900237f01dba9c",
   "outputs": [],
   "execution_count": 19
  },
  {
   "metadata": {
    "ExecuteTime": {
     "end_time": "2025-05-19T11:07:53.437260Z",
     "start_time": "2025-05-19T11:07:53.430445Z"
    }
   },
   "cell_type": "code",
   "source": "main_welcome(print)",
   "id": "3649300a0de94242",
   "outputs": [
    {
     "name": "stdout",
     "output_type": "stream",
     "text": [
      "Welcome to the advance python course\n",
      "Welcome everyone to this tutorial\n",
      "Please learn these concepts\n"
     ]
    }
   ],
   "execution_count": 20
  },
  {
   "metadata": {
    "ExecuteTime": {
     "end_time": "2025-05-19T11:10:09.583594Z",
     "start_time": "2025-05-19T11:10:09.576903Z"
    }
   },
   "cell_type": "code",
   "source": [
    "def main_welcome(func, lst):\n",
    "    def sub_welcome():\n",
    "        print(\"Welcome to the advance python course\")\n",
    "        print(func(lst))\n",
    "        print(\"Please learn these concepts\")\n",
    "    return sub_welcome()"
   ],
   "id": "3687dc039cdbd0f8",
   "outputs": [],
   "execution_count": 24
  },
  {
   "metadata": {
    "ExecuteTime": {
     "end_time": "2025-05-19T11:10:12.394157Z",
     "start_time": "2025-05-19T11:10:12.388579Z"
    }
   },
   "cell_type": "code",
   "source": "main_welcome(len, [1,2,3,4,5,6])",
   "id": "5aa984985f856c02",
   "outputs": [
    {
     "name": "stdout",
     "output_type": "stream",
     "text": [
      "Welcome to the advance python course\n",
      "6\n",
      "Please learn these concepts\n"
     ]
    }
   ],
   "execution_count": 25
  },
  {
   "metadata": {
    "ExecuteTime": {
     "end_time": "2025-05-19T11:11:25.825766Z",
     "start_time": "2025-05-19T11:11:25.815207Z"
    }
   },
   "cell_type": "code",
   "source": [
    "## decorators\n",
    "def main_welcome(func):\n",
    "    def sub_welcome():\n",
    "        print(\"Welcome to the advance python course\")\n",
    "        func()\n",
    "        print(\"Please learn these concepts\")\n",
    "    return sub_welcome()"
   ],
   "id": "4289bbb618453ec2",
   "outputs": [],
   "execution_count": 26
  },
  {
   "metadata": {
    "ExecuteTime": {
     "end_time": "2025-05-19T11:11:55.052307Z",
     "start_time": "2025-05-19T11:11:55.044168Z"
    }
   },
   "cell_type": "code",
   "source": [
    "def course_introduction():\n",
    "    print(\"This is an advance python course\")\n",
    "\n",
    "course_introduction()"
   ],
   "id": "85de37e613093517",
   "outputs": [
    {
     "name": "stdout",
     "output_type": "stream",
     "text": [
      "This is an advance python course\n"
     ]
    }
   ],
   "execution_count": 27
  },
  {
   "metadata": {
    "ExecuteTime": {
     "end_time": "2025-05-19T11:12:04.338569Z",
     "start_time": "2025-05-19T11:12:04.332916Z"
    }
   },
   "cell_type": "code",
   "source": "main_welcome(course_introduction)",
   "id": "b490f0590b3766e3",
   "outputs": [
    {
     "name": "stdout",
     "output_type": "stream",
     "text": [
      "Welcome to the advance python course\n",
      "This is an advance python course\n",
      "Please learn these concepts\n"
     ]
    }
   ],
   "execution_count": 28
  },
  {
   "metadata": {
    "ExecuteTime": {
     "end_time": "2025-05-19T11:13:23.736252Z",
     "start_time": "2025-05-19T11:13:23.730718Z"
    }
   },
   "cell_type": "code",
   "source": [
    "@main_welcome\n",
    "def course_introduction():\n",
    "    print(\"This is an advance python course\")"
   ],
   "id": "6334ef448ea2a7ef",
   "outputs": [
    {
     "name": "stdout",
     "output_type": "stream",
     "text": [
      "Welcome to the advance python course\n",
      "This is an advance python course\n",
      "Please learn these concepts\n"
     ]
    }
   ],
   "execution_count": 29
  },
  {
   "metadata": {
    "ExecuteTime": {
     "end_time": "2025-05-19T11:41:35.752433Z",
     "start_time": "2025-05-19T11:41:35.747589Z"
    }
   },
   "cell_type": "code",
   "source": [
    "def my_decorator(func):\n",
    "    def wrapper():\n",
    "        print(\"1234\")\n",
    "        func()\n",
    "        print(\"5678\")\n",
    "    return wrapper"
   ],
   "id": "38c1be97dff0b505",
   "outputs": [],
   "execution_count": 30
  },
  {
   "metadata": {
    "ExecuteTime": {
     "end_time": "2025-05-19T11:56:13.771604Z",
     "start_time": "2025-05-19T11:56:13.766491Z"
    }
   },
   "cell_type": "code",
   "source": [
    "@my_decorator\n",
    "def say_hello():\n",
    "    print(\"hello\")"
   ],
   "id": "256bb2f6d4c17cf0",
   "outputs": [],
   "execution_count": 31
  },
  {
   "metadata": {
    "ExecuteTime": {
     "end_time": "2025-05-19T11:56:23.392368Z",
     "start_time": "2025-05-19T11:56:23.384923Z"
    }
   },
   "cell_type": "code",
   "source": "say_hello()",
   "id": "21b76081a844f8c",
   "outputs": [
    {
     "name": "stdout",
     "output_type": "stream",
     "text": [
      "1234\n",
      "hello\n",
      "5678\n"
     ]
    }
   ],
   "execution_count": 32
  },
  {
   "metadata": {
    "ExecuteTime": {
     "end_time": "2025-05-19T11:58:22.480759Z",
     "start_time": "2025-05-19T11:58:22.475661Z"
    }
   },
   "cell_type": "code",
   "source": [
    "## decorators with arguments\n",
    "def repeat(n):\n",
    "    def decorator(func):\n",
    "        def wrapper(*args, **kwargs):\n",
    "            for _ in range(n):\n",
    "                func(*args, **kwargs)\n",
    "        return wrapper\n",
    "    return decorator"
   ],
   "id": "9c5fd8185ef859f3",
   "outputs": [],
   "execution_count": 33
  },
  {
   "metadata": {
    "ExecuteTime": {
     "end_time": "2025-05-19T11:58:54.545232Z",
     "start_time": "2025-05-19T11:58:54.538406Z"
    }
   },
   "cell_type": "code",
   "source": [
    "@repeat(3)\n",
    "def say_hello():\n",
    "    print(\"hello\")"
   ],
   "id": "d9d0ca241f13e50b",
   "outputs": [],
   "execution_count": 34
  },
  {
   "metadata": {
    "ExecuteTime": {
     "end_time": "2025-05-19T11:58:58.402904Z",
     "start_time": "2025-05-19T11:58:58.396923Z"
    }
   },
   "cell_type": "code",
   "source": "say_hello()",
   "id": "3ed73237b7ad0db7",
   "outputs": [
    {
     "name": "stdout",
     "output_type": "stream",
     "text": [
      "hello\n",
      "hello\n",
      "hello\n"
     ]
    }
   ],
   "execution_count": 35
  },
  {
   "metadata": {},
   "cell_type": "code",
   "outputs": [],
   "execution_count": null,
   "source": "",
   "id": "d05ef98a775c692c"
  }
 ],
 "metadata": {
  "kernelspec": {
   "display_name": "Python 3",
   "language": "python",
   "name": "python3"
  },
  "language_info": {
   "codemirror_mode": {
    "name": "ipython",
    "version": 2
   },
   "file_extension": ".py",
   "mimetype": "text/x-python",
   "name": "python",
   "nbconvert_exporter": "python",
   "pygments_lexer": "ipython2",
   "version": "2.7.6"
  }
 },
 "nbformat": 4,
 "nbformat_minor": 5
}
