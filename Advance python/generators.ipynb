{
 "cells": [
  {
   "cell_type": "code",
   "id": "initial_id",
   "metadata": {
    "collapsed": true,
    "ExecuteTime": {
     "end_time": "2025-05-13T14:13:10.955402Z",
     "start_time": "2025-05-13T14:13:10.949658Z"
    }
   },
   "source": [
    "def square(x):\n",
    "    for i in range(3):\n",
    "        return i**2\n",
    "square(3)"
   ],
   "outputs": [
    {
     "data": {
      "text/plain": [
       "0"
      ]
     },
     "execution_count": 11,
     "metadata": {},
     "output_type": "execute_result"
    }
   ],
   "execution_count": 11
  },
  {
   "metadata": {
    "ExecuteTime": {
     "end_time": "2025-05-13T14:13:13.087697Z",
     "start_time": "2025-05-13T14:13:13.081469Z"
    }
   },
   "cell_type": "code",
   "source": [
    "def square(x):\n",
    "    for i in range(x):\n",
    "        yield i**2\n",
    "square(3)"
   ],
   "id": "a574c2cbb0dfe611",
   "outputs": [
    {
     "data": {
      "text/plain": [
       "<generator object square at 0x000001FBBA8D4380>"
      ]
     },
     "execution_count": 12,
     "metadata": {},
     "output_type": "execute_result"
    }
   ],
   "execution_count": 12
  },
  {
   "metadata": {
    "ExecuteTime": {
     "end_time": "2025-05-13T14:13:14.714513Z",
     "start_time": "2025-05-13T14:13:14.710539Z"
    }
   },
   "cell_type": "code",
   "source": [
    "for i in square(3):\n",
    "    print(i)"
   ],
   "id": "bfa3483795285de1",
   "outputs": [
    {
     "name": "stdout",
     "output_type": "stream",
     "text": [
      "0\n",
      "1\n",
      "4\n"
     ]
    }
   ],
   "execution_count": 13
  },
  {
   "metadata": {
    "ExecuteTime": {
     "end_time": "2025-05-13T14:13:47.262473Z",
     "start_time": "2025-05-13T14:13:47.257409Z"
    }
   },
   "cell_type": "code",
   "source": "a = square(3)",
   "id": "3695b05af80a3860",
   "outputs": [],
   "execution_count": 14
  },
  {
   "metadata": {
    "ExecuteTime": {
     "end_time": "2025-05-13T14:14:11.998774Z",
     "start_time": "2025-05-13T14:14:11.990901Z"
    }
   },
   "cell_type": "code",
   "source": [
    "try:\n",
    "    print(next(a))\n",
    "except StopIteration:\n",
    "    print(\"StopIteration\")"
   ],
   "id": "6c1dd2a26487a23b",
   "outputs": [
    {
     "name": "stdout",
     "output_type": "stream",
     "text": [
      "StopIteration\n"
     ]
    }
   ],
   "execution_count": 18
  },
  {
   "metadata": {
    "ExecuteTime": {
     "end_time": "2025-05-13T14:16:29.833145Z",
     "start_time": "2025-05-13T14:16:29.824819Z"
    }
   },
   "cell_type": "code",
   "source": [
    "def read_file_path(filepath):\n",
    "    with open(filepath, 'r') as f:\n",
    "        for line in f:\n",
    "            yield line"
   ],
   "id": "d50727d6a6c0064",
   "outputs": [],
   "execution_count": 19
  },
  {
   "metadata": {
    "ExecuteTime": {
     "end_time": "2025-05-13T14:20:37.156212Z",
     "start_time": "2025-05-13T14:20:37.148830Z"
    }
   },
   "cell_type": "code",
   "source": "rf = read_file_path(\"largefile.txt\")",
   "id": "b04fe5d8db8369e4",
   "outputs": [],
   "execution_count": 27
  },
  {
   "metadata": {
    "ExecuteTime": {
     "end_time": "2025-05-13T14:20:39.165805Z",
     "start_time": "2025-05-13T14:20:39.155168Z"
    }
   },
   "cell_type": "code",
   "source": [
    "try:\n",
    "    for lin in rf:\n",
    "        print(lin.strip())\n",
    "except StopIteration:\n",
    "    print(\"StopIteration\")"
   ],
   "id": "abc08c6d03d8ca7f",
   "outputs": [
    {
     "name": "stdout",
     "output_type": "stream",
     "text": [
      "Where does it come from?\n",
      "Contrary to popular belief, Lorem Ipsum is not simply random text. It has roots in a piece of classical Latin literature from 45 BC, making it over 2000 years old. Richard McClintock, a Latin professor at Hampden-Sydney College in Virginia, looked up one of the more obscure Latin words, consectetur, from a Lorem Ipsum passage, and going through the cites of the word in classical literature, discovered the undoubtable source. Lorem Ipsum comes from sections 1.10.32 and 1.10.33 of \"de Finibus Bonorum et Malorum\" (The Extremes of Good and Evil) by Cicero, written in 45 BC. This book is a treatise on the theory of ethics, very popular during the Renaissance. The first line of Lorem Ipsum, \"Lorem ipsum dolor sit amet..\", comes from a line in section 1.10.32.\n"
     ]
    }
   ],
   "execution_count": 28
  },
  {
   "metadata": {},
   "cell_type": "code",
   "outputs": [],
   "execution_count": null,
   "source": "",
   "id": "920f0013d6e08f76"
  }
 ],
 "metadata": {
  "kernelspec": {
   "display_name": "Python 3",
   "language": "python",
   "name": "python3"
  },
  "language_info": {
   "codemirror_mode": {
    "name": "ipython",
    "version": 2
   },
   "file_extension": ".py",
   "mimetype": "text/x-python",
   "name": "python",
   "nbconvert_exporter": "python",
   "pygments_lexer": "ipython2",
   "version": "2.7.6"
  }
 },
 "nbformat": 4,
 "nbformat_minor": 5
}
