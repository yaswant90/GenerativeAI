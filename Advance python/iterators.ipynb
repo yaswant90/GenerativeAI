{
 "cells": [
  {
   "cell_type": "code",
   "id": "initial_id",
   "metadata": {
    "collapsed": true,
    "ExecuteTime": {
     "end_time": "2025-05-13T14:07:38.927634Z",
     "start_time": "2025-05-13T14:07:38.922968Z"
    }
   },
   "source": [
    "x = [1,2,3,4]\n",
    "iterator = iter(x)\n",
    "print(type(iterator))"
   ],
   "outputs": [
    {
     "name": "stdout",
     "output_type": "stream",
     "text": [
      "<class 'list_iterator'>\n"
     ]
    }
   ],
   "execution_count": 5
  },
  {
   "metadata": {
    "ExecuteTime": {
     "end_time": "2025-05-13T14:06:16.873055Z",
     "start_time": "2025-05-13T14:06:16.863103Z"
    }
   },
   "cell_type": "code",
   "source": "next(iterator)",
   "id": "3708c796a47614d2",
   "outputs": [
    {
     "data": {
      "text/plain": [
       "1"
      ]
     },
     "execution_count": 3,
     "metadata": {},
     "output_type": "execute_result"
    }
   ],
   "execution_count": 3
  },
  {
   "metadata": {
    "ExecuteTime": {
     "end_time": "2025-05-13T14:06:34.708548Z",
     "start_time": "2025-05-13T14:06:34.701712Z"
    }
   },
   "cell_type": "code",
   "source": "next(iterator)",
   "id": "feab638f5bba8061",
   "outputs": [
    {
     "data": {
      "text/plain": [
       "2"
      ]
     },
     "execution_count": 4,
     "metadata": {},
     "output_type": "execute_result"
    }
   ],
   "execution_count": 4
  },
  {
   "metadata": {
    "ExecuteTime": {
     "end_time": "2025-05-13T14:08:02.703845Z",
     "start_time": "2025-05-13T14:08:02.696945Z"
    }
   },
   "cell_type": "code",
   "source": [
    "try:\n",
    "    next(iterator)\n",
    "except StopIteration:\n",
    "    print(\"StopIteration\")"
   ],
   "id": "8cf0cfb826ecce5b",
   "outputs": [
    {
     "name": "stdout",
     "output_type": "stream",
     "text": [
      "StopIteration\n"
     ]
    }
   ],
   "execution_count": 10
  },
  {
   "metadata": {
    "ExecuteTime": {
     "end_time": "2025-05-13T14:08:32.862392Z",
     "start_time": "2025-05-13T14:08:32.857128Z"
    }
   },
   "cell_type": "code",
   "source": "y = iter(\"Hello world\")",
   "id": "795b845fbf154e0f",
   "outputs": [],
   "execution_count": 11
  },
  {
   "metadata": {
    "ExecuteTime": {
     "end_time": "2025-05-13T14:08:58.104982Z",
     "start_time": "2025-05-13T14:08:58.099033Z"
    }
   },
   "cell_type": "code",
   "source": [
    "try:\n",
    "    print(next(y))\n",
    "except StopIteration:\n",
    "    print(\"StopIteration\")"
   ],
   "id": "4f0c0f1b5f1633e7",
   "outputs": [
    {
     "name": "stdout",
     "output_type": "stream",
     "text": [
      "w\n"
     ]
    }
   ],
   "execution_count": 18
  },
  {
   "metadata": {},
   "cell_type": "code",
   "outputs": [],
   "execution_count": null,
   "source": "",
   "id": "280a8c8ddf24140d"
  }
 ],
 "metadata": {
  "kernelspec": {
   "display_name": "Python 3",
   "language": "python",
   "name": "python3"
  },
  "language_info": {
   "codemirror_mode": {
    "name": "ipython",
    "version": 2
   },
   "file_extension": ".py",
   "mimetype": "text/x-python",
   "name": "python",
   "nbconvert_exporter": "python",
   "pygments_lexer": "ipython2",
   "version": "2.7.6"
  }
 },
 "nbformat": 4,
 "nbformat_minor": 5
}
