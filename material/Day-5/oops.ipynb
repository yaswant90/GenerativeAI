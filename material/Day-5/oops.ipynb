{
 "cells": [
  {
   "metadata": {
    "ExecuteTime": {
     "end_time": "2025-05-02T11:56:06.949737Z",
     "start_time": "2025-05-02T11:56:06.938624Z"
    }
   },
   "cell_type": "code",
   "source": [
    "### classes and objects\n",
    "class car:\n",
    "    pass\n",
    "audi = car()\n",
    "bmw = car()\n",
    "\n",
    "print(type(audi))"
   ],
   "id": "6fb2ce8d8daf2076",
   "outputs": [
    {
     "name": "stdout",
     "output_type": "stream",
     "text": [
      "<class '__main__.car'>\n"
     ]
    }
   ],
   "execution_count": 1
  },
  {
   "metadata": {
    "ExecuteTime": {
     "end_time": "2025-05-02T11:56:55.181826Z",
     "start_time": "2025-05-02T11:56:55.170360Z"
    }
   },
   "cell_type": "code",
   "source": "print(audi) ## at memory location",
   "id": "f722339d5d2d061d",
   "outputs": [
    {
     "name": "stdout",
     "output_type": "stream",
     "text": [
      "<__main__.car object at 0x0000025638849FA0>\n"
     ]
    }
   ],
   "execution_count": 2
  },
  {
   "metadata": {
    "ExecuteTime": {
     "end_time": "2025-05-02T11:57:00.235496Z",
     "start_time": "2025-05-02T11:57:00.228788Z"
    }
   },
   "cell_type": "code",
   "source": "print(bmw)",
   "id": "b3475b6169fcc0b7",
   "outputs": [
    {
     "name": "stdout",
     "output_type": "stream",
     "text": [
      "<__main__.car object at 0x000002563884A570>\n"
     ]
    }
   ],
   "execution_count": 3
  },
  {
   "metadata": {
    "ExecuteTime": {
     "end_time": "2025-05-02T11:59:18.937680Z",
     "start_time": "2025-05-02T11:59:18.930443Z"
    }
   },
   "cell_type": "code",
   "source": [
    "audi.windows =4\n",
    "print(audi.windows)\n",
    "\n",
    "## not a proper way to define an object"
   ],
   "id": "c87fc57b1ba78a2b",
   "outputs": [
    {
     "name": "stdout",
     "output_type": "stream",
     "text": [
      "4\n"
     ]
    }
   ],
   "execution_count": 6
  },
  {
   "metadata": {
    "ExecuteTime": {
     "end_time": "2025-05-02T11:59:53.401017Z",
     "start_time": "2025-05-02T11:59:53.383933Z"
    }
   },
   "cell_type": "code",
   "source": "dir(audi)\n",
   "id": "932ba6bda7aba6ba",
   "outputs": [
    {
     "data": {
      "text/plain": [
       "['__class__',\n",
       " '__delattr__',\n",
       " '__dict__',\n",
       " '__dir__',\n",
       " '__doc__',\n",
       " '__eq__',\n",
       " '__format__',\n",
       " '__ge__',\n",
       " '__getattribute__',\n",
       " '__getstate__',\n",
       " '__gt__',\n",
       " '__hash__',\n",
       " '__init__',\n",
       " '__init_subclass__',\n",
       " '__le__',\n",
       " '__lt__',\n",
       " '__module__',\n",
       " '__ne__',\n",
       " '__new__',\n",
       " '__reduce__',\n",
       " '__reduce_ex__',\n",
       " '__repr__',\n",
       " '__setattr__',\n",
       " '__sizeof__',\n",
       " '__str__',\n",
       " '__subclasshook__',\n",
       " '__weakref__',\n",
       " 'windows']"
      ]
     },
     "execution_count": 7,
     "metadata": {},
     "output_type": "execute_result"
    }
   ],
   "execution_count": 7
  },
  {
   "metadata": {
    "ExecuteTime": {
     "end_time": "2025-05-02T12:04:39.210342Z",
     "start_time": "2025-05-02T12:04:39.198556Z"
    }
   },
   "cell_type": "code",
   "source": [
    "\"\"\"Instance variables, methods\"\"\"\n",
    "class Dog:\n",
    "     \"\"\"__init__ acts as constructor\"\"\"\n",
    "     def __init__(self, name, age):\n",
    "         \"\"\"self acts as this\"\"\"\n",
    "         self.name=name\n",
    "         self.age=age\n",
    "## create objects\n",
    "dog1 = Dog(\"Buddy\", 3)\n",
    "print(dog1)\n",
    "print(dog1.name, dog1.age)"
   ],
   "id": "3c3b3bb3580d6def",
   "outputs": [
    {
     "name": "stdout",
     "output_type": "stream",
     "text": [
      "<__main__.Dog object at 0x000002563821F530>\n",
      "Buddy 3\n"
     ]
    }
   ],
   "execution_count": 10
  },
  {
   "metadata": {
    "ExecuteTime": {
     "end_time": "2025-05-02T12:08:11.672701Z",
     "start_time": "2025-05-02T12:08:11.662145Z"
    }
   },
   "cell_type": "code",
   "source": [
    "class Dog:\n",
    "    def __init__(self, name, age):\n",
    "        self.name=name\n",
    "        self.age=age\n",
    "    def bark(self):\n",
    "        print(f\"{self.name} barks woof\")\n",
    "dog1 = Dog(\"Buddy\", 3)\n",
    "print(dog1.bark())\n",
    "dog2 = Dog(\"Lucy\", 4)\n",
    "print(dog2.bark())"
   ],
   "id": "49d3b6d5938453e3",
   "outputs": [
    {
     "name": "stdout",
     "output_type": "stream",
     "text": [
      "Buddy barks woof\n",
      "None\n",
      "Lucy barks woof\n",
      "None\n"
     ]
    }
   ],
   "execution_count": 12
  },
  {
   "metadata": {
    "ExecuteTime": {
     "end_time": "2025-05-02T12:13:52.396960Z",
     "start_time": "2025-05-02T12:13:52.388659Z"
    }
   },
   "cell_type": "code",
   "source": [
    "### modeling the bank account\n",
    "class BankAccount:\n",
    "    def __init__(self, owner, balance = 0):\n",
    "        self.owner=owner\n",
    "        self.balance=balance\n",
    "\n",
    "    def deposit(self, amount):\n",
    "        self.balance += amount\n",
    "        return self.balance\n",
    "\n",
    "    def withdraw(self, amount):\n",
    "        if amount > self.balance:\n",
    "            print(\"Not enough money\")\n",
    "        else:\n",
    "            self.balance -= amount\n",
    "        return self.balance\n",
    "\n",
    "    def getBalance(self):\n",
    "        return self.balance\n",
    "\n",
    "person = BankAccount(\"Yaswanth\", 1000000)\n",
    "person.deposit(100)\n",
    "person.deposit(5000)\n",
    "person.withdraw(500)\n",
    "print(person.getBalance())"
   ],
   "id": "672adf96a10f3a2f",
   "outputs": [
    {
     "name": "stdout",
     "output_type": "stream",
     "text": [
      "1004600\n"
     ]
    }
   ],
   "execution_count": 13
  },
  {
   "metadata": {},
   "cell_type": "code",
   "outputs": [],
   "execution_count": null,
   "source": "",
   "id": "c7a6602aa5cdb241"
  }
 ],
 "metadata": {
  "kernelspec": {
   "name": "python3",
   "language": "python",
   "display_name": "Python 3 (ipykernel)"
  }
 },
 "nbformat": 5,
 "nbformat_minor": 9
}
