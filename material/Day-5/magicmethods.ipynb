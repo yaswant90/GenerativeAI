{
 "cells": [
  {
   "metadata": {
    "ExecuteTime": {
     "end_time": "2025-05-05T04:29:41.583292Z",
     "start_time": "2025-05-05T04:29:41.570918Z"
    }
   },
   "cell_type": "code",
   "source": "### dunder methods (double underscore methods)",
   "id": "a017fa9d866eb6b2",
   "outputs": [],
   "execution_count": 1
  },
  {
   "metadata": {
    "ExecuteTime": {
     "end_time": "2025-05-05T04:32:35.145942Z",
     "start_time": "2025-05-05T04:32:35.136574Z"
    }
   },
   "cell_type": "code",
   "source": [
    "'''\n",
    "__init__ : initializes a new instance of the class\n",
    "__str__ : Returns a string obejct\n",
    "__repr__ : Returns a official string obejct\n",
    "__len__ : Returns the length of an obejct\n",
    "__getitem__ : Get an item from a container\n",
    "__setitem__ : Set an item from a container\n",
    "'''"
   ],
   "id": "21d06d500ce1246f",
   "outputs": [
    {
     "data": {
      "text/plain": [
       "'\\n__init__ : initializes a new instance of the class\\n__str__ : Returns a string obejct\\n__repr__ : Returns a official string obejct\\n__len__ : Returns the length of an obejct\\n__getitem__ : Get an item from a container\\n__setitem__ : Set an item from a container\\n'"
      ]
     },
     "execution_count": 2,
     "metadata": {},
     "output_type": "execute_result"
    }
   ],
   "execution_count": 2
  },
  {
   "metadata": {
    "ExecuteTime": {
     "end_time": "2025-05-05T04:33:46.898011Z",
     "start_time": "2025-05-05T04:33:46.889848Z"
    }
   },
   "cell_type": "code",
   "source": [
    "class Person:\n",
    "    pass\n",
    "person = Person()\n",
    "dir(person)"
   ],
   "id": "2423db60c6151721",
   "outputs": [
    {
     "data": {
      "text/plain": [
       "['__class__',\n",
       " '__delattr__',\n",
       " '__dict__',\n",
       " '__dir__',\n",
       " '__doc__',\n",
       " '__eq__',\n",
       " '__format__',\n",
       " '__ge__',\n",
       " '__getattribute__',\n",
       " '__getstate__',\n",
       " '__gt__',\n",
       " '__hash__',\n",
       " '__init__',\n",
       " '__init_subclass__',\n",
       " '__le__',\n",
       " '__lt__',\n",
       " '__module__',\n",
       " '__ne__',\n",
       " '__new__',\n",
       " '__reduce__',\n",
       " '__reduce_ex__',\n",
       " '__repr__',\n",
       " '__setattr__',\n",
       " '__sizeof__',\n",
       " '__str__',\n",
       " '__subclasshook__',\n",
       " '__weakref__']"
      ]
     },
     "execution_count": 4,
     "metadata": {},
     "output_type": "execute_result"
    }
   ],
   "execution_count": 4
  },
  {
   "metadata": {
    "ExecuteTime": {
     "end_time": "2025-05-05T04:34:25.876380Z",
     "start_time": "2025-05-05T04:34:25.869922Z"
    }
   },
   "cell_type": "code",
   "source": "print(person)",
   "id": "9369baf237de8866",
   "outputs": [
    {
     "name": "stdout",
     "output_type": "stream",
     "text": [
      "<__main__.Person object at 0x000002BC159DDDC0>\n"
     ]
    }
   ],
   "execution_count": 5
  },
  {
   "metadata": {
    "ExecuteTime": {
     "end_time": "2025-05-05T04:35:37.715549Z",
     "start_time": "2025-05-05T04:35:37.711554Z"
    }
   },
   "cell_type": "code",
   "source": [
    "class Person:\n",
    "    def __init__(self, name, age):\n",
    "        self.name = name\n",
    "        self.age = age\n",
    "\n",
    "person = Person('Yaswanth', 22)\n",
    "print(person)"
   ],
   "id": "1defb90397797df5",
   "outputs": [
    {
     "name": "stdout",
     "output_type": "stream",
     "text": [
      "<__main__.Person object at 0x000002BC1600A3C0>\n"
     ]
    }
   ],
   "execution_count": 6
  },
  {
   "metadata": {
    "ExecuteTime": {
     "end_time": "2025-05-05T04:38:04.815416Z",
     "start_time": "2025-05-05T04:38:04.810454Z"
    }
   },
   "cell_type": "code",
   "source": [
    "class Person:\n",
    "    def __init__(self, name, age):\n",
    "        self.name = name\n",
    "        self.age = age\n",
    "    def __str__(self):\n",
    "        return f'{self.name} {self.age} years old'\n",
    "    def __repr__(self):\n",
    "        return f'Person(name={self.name},age={self.age})'\n",
    "\n",
    "person = Person('Yaswanth', 22)\n",
    "print(person)\n",
    "print(repr(person))"
   ],
   "id": "960e057760ef9228",
   "outputs": [
    {
     "name": "stdout",
     "output_type": "stream",
     "text": [
      "Yaswanth 22 years old\n",
      "Person(name=Yaswanth,age=22)\n"
     ]
    }
   ],
   "execution_count": 7
  },
  {
   "metadata": {},
   "cell_type": "code",
   "outputs": [],
   "execution_count": null,
   "source": "",
   "id": "e1b4690b12ad1f6f"
  }
 ],
 "metadata": {
  "kernelspec": {
   "name": "python3",
   "language": "python",
   "display_name": "Python 3 (ipykernel)"
  }
 },
 "nbformat": 5,
 "nbformat_minor": 9
}
