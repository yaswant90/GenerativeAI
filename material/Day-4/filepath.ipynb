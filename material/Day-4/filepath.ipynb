{
 "cells": [
  {
   "metadata": {
    "ExecuteTime": {
     "end_time": "2025-05-02T06:45:38.304902Z",
     "start_time": "2025-05-02T06:45:38.292693Z"
    }
   },
   "cell_type": "code",
   "source": [
    "import os\n",
    "os.getcwd()"
   ],
   "id": "ebce7bb099e904ae",
   "outputs": [
    {
     "data": {
      "text/plain": [
       "'C:\\\\Users\\\\Yaswant_Sadasivuni\\\\PycharmProjects\\\\PythonProject1\\\\.venv'"
      ]
     },
     "execution_count": 1,
     "metadata": {},
     "output_type": "execute_result"
    }
   ],
   "execution_count": 1
  },
  {
   "metadata": {
    "ExecuteTime": {
     "end_time": "2025-05-02T06:46:38.625154Z",
     "start_time": "2025-05-02T06:46:38.615263Z"
    }
   },
   "cell_type": "code",
   "source": [
    "### creating new directory\n",
    "os.makedirs('packages')"
   ],
   "id": "af9a23b1af97ebea",
   "outputs": [],
   "execution_count": 2
  },
  {
   "metadata": {
    "ExecuteTime": {
     "end_time": "2025-05-02T06:47:54.117383Z",
     "start_time": "2025-05-02T06:47:54.109143Z"
    }
   },
   "cell_type": "code",
   "source": [
    "### lsiting files and directories\n",
    "items = os.listdir('.')\n",
    "print(items)"
   ],
   "id": "8ab319c0f892cad0",
   "outputs": [
    {
     "name": "stdout",
     "output_type": "stream",
     "text": [
      "['.gitignore', 'destination.txt', 'etc', 'example.bin', 'fileoperations.ipynb', 'filepath.ipynb', 'import.ipynb', 'Lib', 'package', 'packages', 'pyvenv.cfg', 'Scripts', 'share', 'source.txt', 'standardLibraries.ipynb', 'test.csv', 'test.ipynb', 'testDir']\n"
     ]
    }
   ],
   "execution_count": 5
  },
  {
   "metadata": {
    "ExecuteTime": {
     "end_time": "2025-05-02T06:49:06.106297Z",
     "start_time": "2025-05-02T06:49:06.100042Z"
    }
   },
   "cell_type": "code",
   "source": [
    "### joining path\n",
    "dir_name = \"folder\"\n",
    "file_name = \"file.txt\"\n",
    "full_path = os.path.join(dir_name, file_name)\n",
    "print(full_path)"
   ],
   "id": "274a89875cad4c00",
   "outputs": [
    {
     "name": "stdout",
     "output_type": "stream",
     "text": [
      "folder\\file.txt\n"
     ]
    }
   ],
   "execution_count": 7
  },
  {
   "metadata": {
    "ExecuteTime": {
     "end_time": "2025-05-02T06:49:53.330282Z",
     "start_time": "2025-05-02T06:49:53.321965Z"
    }
   },
   "cell_type": "code",
   "source": [
    "### joining path\n",
    "dir_name = \"folder\"\n",
    "file_name = \"file.txt\"\n",
    "full_path = os.path.join(os.getcwd(), dir_name, file_name)\n",
    "print(full_path)"
   ],
   "id": "843425e7de079ed2",
   "outputs": [
    {
     "name": "stdout",
     "output_type": "stream",
     "text": [
      "C:\\Users\\Yaswant_Sadasivuni\\PycharmProjects\\PythonProject1\\.venv\\folder\\file.txt\n"
     ]
    }
   ],
   "execution_count": 8
  },
  {
   "metadata": {
    "ExecuteTime": {
     "end_time": "2025-05-02T06:50:59.981237Z",
     "start_time": "2025-05-02T06:50:59.973824Z"
    }
   },
   "cell_type": "code",
   "source": [
    "path = \"source.txt\"\n",
    "if os.path.exists(path):\n",
    "    print(\"path exist\")\n",
    "else:\n",
    "    print(\"path does not exist\")"
   ],
   "id": "2753dce7f76af0ae",
   "outputs": [
    {
     "name": "stdout",
     "output_type": "stream",
     "text": [
      "path exist\n"
     ]
    }
   ],
   "execution_count": 9
  },
  {
   "metadata": {
    "ExecuteTime": {
     "end_time": "2025-05-02T06:52:14.258486Z",
     "start_time": "2025-05-02T06:52:14.246875Z"
    }
   },
   "cell_type": "code",
   "source": [
    "if os.path.isfile(path):\n",
    "    print(\"its a file\")\n",
    "elif os.path.isdir(path):\n",
    "    print(\"its a directory\")\n",
    "else:\n",
    "    print(\"its not a file or directory\")"
   ],
   "id": "f3fa244f9d34589a",
   "outputs": [
    {
     "name": "stdout",
     "output_type": "stream",
     "text": [
      "its a file\n"
     ]
    }
   ],
   "execution_count": 10
  },
  {
   "metadata": {
    "ExecuteTime": {
     "end_time": "2025-05-02T06:52:52.634567Z",
     "start_time": "2025-05-02T06:52:52.624765Z"
    }
   },
   "cell_type": "code",
   "source": [
    "relative_path = \"source.txt\"\n",
    "abs_path = os.path.abspath(relative_path)\n",
    "print(abs_path)"
   ],
   "id": "b55ef3dd13f2252a",
   "outputs": [
    {
     "name": "stdout",
     "output_type": "stream",
     "text": [
      "C:\\Users\\Yaswant_Sadasivuni\\PycharmProjects\\PythonProject1\\.venv\\source.txt\n"
     ]
    }
   ],
   "execution_count": 11
  },
  {
   "metadata": {},
   "cell_type": "code",
   "outputs": [],
   "execution_count": null,
   "source": "",
   "id": "872b616be36fcb16"
  }
 ],
 "metadata": {
  "kernelspec": {
   "name": "python3",
   "language": "python",
   "display_name": "Python 3 (ipykernel)"
  }
 },
 "nbformat": 5,
 "nbformat_minor": 9
}
