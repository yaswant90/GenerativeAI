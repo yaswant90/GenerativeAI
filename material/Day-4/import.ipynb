{
 "cells": [
  {
   "metadata": {
    "ExecuteTime": {
     "end_time": "2025-05-02T04:15:34.624600Z",
     "start_time": "2025-05-02T04:15:34.613135Z"
    }
   },
   "cell_type": "code",
   "source": [
    "import math as m\n",
    "m.sqrt(3)"
   ],
   "id": "fa617eaa079246b1",
   "outputs": [
    {
     "data": {
      "text/plain": [
       "1.7320508075688772"
      ]
     },
     "execution_count": 1,
     "metadata": {},
     "output_type": "execute_result"
    }
   ],
   "execution_count": 1
  },
  {
   "metadata": {
    "ExecuteTime": {
     "end_time": "2025-05-02T04:16:28.385373Z",
     "start_time": "2025-05-02T04:16:28.378842Z"
    }
   },
   "cell_type": "code",
   "source": [
    "from math import sqrt, pi\n",
    "sqrt(5)"
   ],
   "id": "51e67a97840beb5f",
   "outputs": [
    {
     "data": {
      "text/plain": [
       "2.23606797749979"
      ]
     },
     "execution_count": 2,
     "metadata": {},
     "output_type": "execute_result"
    }
   ],
   "execution_count": 2
  },
  {
   "metadata": {
    "ExecuteTime": {
     "end_time": "2025-05-02T04:16:47.712368Z",
     "start_time": "2025-05-02T04:16:47.705550Z"
    }
   },
   "cell_type": "code",
   "source": "sqrt(25)",
   "id": "21b022797e356ee5",
   "outputs": [
    {
     "data": {
      "text/plain": [
       "5.0"
      ]
     },
     "execution_count": 3,
     "metadata": {},
     "output_type": "execute_result"
    }
   ],
   "execution_count": 3
  },
  {
   "metadata": {
    "ExecuteTime": {
     "end_time": "2025-05-02T04:16:50.969626Z",
     "start_time": "2025-05-02T04:16:50.963729Z"
    }
   },
   "cell_type": "code",
   "source": "pi",
   "id": "a1ed0ed6301bb213",
   "outputs": [
    {
     "data": {
      "text/plain": [
       "3.141592653589793"
      ]
     },
     "execution_count": 4,
     "metadata": {},
     "output_type": "execute_result"
    }
   ],
   "execution_count": 4
  },
  {
   "metadata": {
    "ExecuteTime": {
     "end_time": "2025-05-02T04:18:48.672009Z",
     "start_time": "2025-05-02T04:18:47.453363Z"
    }
   },
   "cell_type": "code",
   "source": "import numpy as np",
   "id": "9ddf9672580b8282",
   "outputs": [],
   "execution_count": 7
  },
  {
   "metadata": {
    "ExecuteTime": {
     "end_time": "2025-05-02T04:18:32.735923Z",
     "start_time": "2025-05-02T04:17:49.775661Z"
    }
   },
   "cell_type": "code",
   "source": "pip install numpy",
   "id": "9d3b875517d77221",
   "outputs": [
    {
     "name": "stdout",
     "output_type": "stream",
     "text": [
      "^C\n",
      "Note: you may need to restart the kernel to use updated packages.\n"
     ]
    }
   ],
   "execution_count": 6
  },
  {
   "metadata": {
    "ExecuteTime": {
     "end_time": "2025-05-02T04:20:38.702945Z",
     "start_time": "2025-05-02T04:20:38.696278Z"
    }
   },
   "cell_type": "code",
   "source": "np.array([1,2,3,4])",
   "id": "7d7b00433a61d3eb",
   "outputs": [
    {
     "data": {
      "text/plain": [
       "array([1, 2, 3, 4])"
      ]
     },
     "execution_count": 8,
     "metadata": {},
     "output_type": "execute_result"
    }
   ],
   "execution_count": 8
  },
  {
   "metadata": {
    "ExecuteTime": {
     "end_time": "2025-05-02T04:21:04.520374Z",
     "start_time": "2025-05-02T04:21:04.515055Z"
    }
   },
   "cell_type": "code",
   "source": [
    "from math import *\n",
    "sqrt(16)"
   ],
   "id": "5c02c9f7db46ca10",
   "outputs": [
    {
     "data": {
      "text/plain": [
       "4.0"
      ]
     },
     "execution_count": 9,
     "metadata": {},
     "output_type": "execute_result"
    }
   ],
   "execution_count": 9
  },
  {
   "metadata": {
    "ExecuteTime": {
     "end_time": "2025-05-02T04:21:07.734182Z",
     "start_time": "2025-05-02T04:21:07.728999Z"
    }
   },
   "cell_type": "code",
   "source": "pi",
   "id": "139aae6e6d614975",
   "outputs": [
    {
     "data": {
      "text/plain": [
       "3.141592653589793"
      ]
     },
     "execution_count": 10,
     "metadata": {},
     "output_type": "execute_result"
    }
   ],
   "execution_count": 10
  },
  {
   "metadata": {
    "ExecuteTime": {
     "end_time": "2025-05-02T04:26:18.588903Z",
     "start_time": "2025-05-02T04:26:18.547559Z"
    }
   },
   "cell_type": "code",
   "source": [
    "from package.math import *\n",
    "addition(1,5)"
   ],
   "id": "cbb359ffb3ef403",
   "outputs": [
    {
     "data": {
      "text/plain": [
       "6"
      ]
     },
     "execution_count": 11,
     "metadata": {},
     "output_type": "execute_result"
    }
   ],
   "execution_count": 11
  },
  {
   "metadata": {
    "ExecuteTime": {
     "end_time": "2025-05-02T04:30:41.972449Z",
     "start_time": "2025-05-02T04:30:41.967468Z"
    }
   },
   "cell_type": "code",
   "source": [
    "from package import math\n",
    "print(math.addition(3,10))\n",
    "print(math.subtraction(10,3))"
   ],
   "id": "316cdf583fb4fde9",
   "outputs": [
    {
     "name": "stdout",
     "output_type": "stream",
     "text": [
      "13\n",
      "7\n"
     ]
    }
   ],
   "execution_count": 14
  },
  {
   "metadata": {
    "ExecuteTime": {
     "end_time": "2025-05-02T04:33:23.372258Z",
     "start_time": "2025-05-02T04:33:23.362095Z"
    }
   },
   "cell_type": "code",
   "source": [
    "from package.subpackages.mult import *\n",
    "mult(10,3)"
   ],
   "id": "93a461fc214d5cb2",
   "outputs": [
    {
     "data": {
      "text/plain": [
       "30"
      ]
     },
     "execution_count": 15,
     "metadata": {},
     "output_type": "execute_result"
    }
   ],
   "execution_count": 15
  },
  {
   "metadata": {},
   "cell_type": "code",
   "outputs": [],
   "execution_count": null,
   "source": "",
   "id": "5696783fc1894acc"
  }
 ],
 "metadata": {
  "kernelspec": {
   "name": "python3",
   "language": "python",
   "display_name": "Python 3 (ipykernel)"
  }
 },
 "nbformat": 5,
 "nbformat_minor": 9
}
