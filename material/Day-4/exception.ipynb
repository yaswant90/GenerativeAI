{
 "cells": [
  {
   "metadata": {
    "ExecuteTime": {
     "end_time": "2025-05-02T10:07:47.043003Z",
     "start_time": "2025-05-02T10:07:46.748120Z"
    }
   },
   "cell_type": "code",
   "source": "a=b ## name error",
   "id": "8aa423c5d24261dc",
   "outputs": [
    {
     "ename": "NameError",
     "evalue": "name 'b' is not defined",
     "output_type": "error",
     "traceback": [
      "\u001B[31m---------------------------------------------------------------------------\u001B[39m",
      "\u001B[31mNameError\u001B[39m                                 Traceback (most recent call last)",
      "\u001B[36mCell\u001B[39m\u001B[36m \u001B[39m\u001B[32mIn[1]\u001B[39m\u001B[32m, line 1\u001B[39m\n\u001B[32m----> \u001B[39m\u001B[32m1\u001B[39m a=\u001B[43mb\u001B[49m\n",
      "\u001B[31mNameError\u001B[39m: name 'b' is not defined"
     ]
    }
   ],
   "execution_count": 1
  },
  {
   "metadata": {
    "ExecuteTime": {
     "end_time": "2025-05-02T10:09:37.093542Z",
     "start_time": "2025-05-02T10:09:37.083919Z"
    }
   },
   "cell_type": "code",
   "source": [
    "try:\n",
    "    a=b\n",
    "except:\n",
    "    print(\"Variable is not defined\")"
   ],
   "id": "674ffeb3da7ace0",
   "outputs": [
    {
     "name": "stdout",
     "output_type": "stream",
     "text": [
      "Variable is not defined\n"
     ]
    }
   ],
   "execution_count": 2
  },
  {
   "metadata": {
    "ExecuteTime": {
     "end_time": "2025-05-02T10:11:29.878539Z",
     "start_time": "2025-05-02T10:11:29.871169Z"
    }
   },
   "cell_type": "code",
   "source": [
    "try:\n",
    "    a=b\n",
    "except NameError as ex:\n",
    "    print(ex)"
   ],
   "id": "9006a63d7a7f166e",
   "outputs": [
    {
     "name": "stdout",
     "output_type": "stream",
     "text": [
      "name 'b' is not defined\n"
     ]
    }
   ],
   "execution_count": 6
  },
  {
   "metadata": {
    "ExecuteTime": {
     "end_time": "2025-05-02T10:11:58.023585Z",
     "start_time": "2025-05-02T10:11:57.978666Z"
    }
   },
   "cell_type": "code",
   "source": "result = 1/0",
   "id": "eac6728f7456516c",
   "outputs": [
    {
     "ename": "ZeroDivisionError",
     "evalue": "division by zero",
     "output_type": "error",
     "traceback": [
      "\u001B[31m---------------------------------------------------------------------------\u001B[39m",
      "\u001B[31mZeroDivisionError\u001B[39m                         Traceback (most recent call last)",
      "\u001B[36mCell\u001B[39m\u001B[36m \u001B[39m\u001B[32mIn[7]\u001B[39m\u001B[32m, line 1\u001B[39m\n\u001B[32m----> \u001B[39m\u001B[32m1\u001B[39m result = \u001B[32;43m1\u001B[39;49m\u001B[43m/\u001B[49m\u001B[32;43m0\u001B[39;49m\n",
      "\u001B[31mZeroDivisionError\u001B[39m: division by zero"
     ]
    }
   ],
   "execution_count": 7
  },
  {
   "metadata": {
    "ExecuteTime": {
     "end_time": "2025-05-02T10:12:18.691724Z",
     "start_time": "2025-05-02T10:12:18.684515Z"
    }
   },
   "cell_type": "code",
   "source": [
    "try:\n",
    "    result=1/0\n",
    "except ZeroDivisionError as ex:\n",
    "    print(ex)"
   ],
   "id": "6a3110b87188fbeb",
   "outputs": [
    {
     "name": "stdout",
     "output_type": "stream",
     "text": [
      "division by zero\n"
     ]
    }
   ],
   "execution_count": 8
  },
  {
   "metadata": {
    "ExecuteTime": {
     "end_time": "2025-05-02T10:15:11.456815Z",
     "start_time": "2025-05-02T10:15:11.449850Z"
    }
   },
   "cell_type": "code",
   "source": [
    "try:\n",
    "    result=1/2\n",
    "    a=b\n",
    "except ZeroDivisionError as ex:\n",
    "    print(ex)\n",
    "except Exception as ex1: ## parent Exception class\n",
    "    print(ex1)"
   ],
   "id": "ead44370d9d816b3",
   "outputs": [
    {
     "name": "stdout",
     "output_type": "stream",
     "text": [
      "name 'b' is not defined\n"
     ]
    }
   ],
   "execution_count": 11
  },
  {
   "metadata": {
    "ExecuteTime": {
     "end_time": "2025-05-02T10:18:11.208758Z",
     "start_time": "2025-05-02T10:18:07.142384Z"
    }
   },
   "cell_type": "code",
   "source": [
    "try:\n",
    "    num = int(input(\"Enter a number: \"))\n",
    "    result = 10/num\n",
    "except ValueError as ex:\n",
    "    print(ex)\n",
    "except ZeroDivisionError as ex:\n",
    "    print(ex)\n",
    "except Exception as ex1:\n",
    "    print(ex1)"
   ],
   "id": "d49926659076b4ce",
   "outputs": [
    {
     "name": "stdout",
     "output_type": "stream",
     "text": [
      "invalid literal for int() with base 10: 'dasdasdasd'\n"
     ]
    }
   ],
   "execution_count": 17
  },
  {
   "metadata": {
    "ExecuteTime": {
     "end_time": "2025-05-02T10:22:01.884559Z",
     "start_time": "2025-05-02T10:21:58.120355Z"
    }
   },
   "cell_type": "code",
   "source": [
    "try:\n",
    "    num = int(input(\"Enter a number: \"))\n",
    "    result = 10/num\n",
    "except ValueError as ex:\n",
    "    print(ex)\n",
    "except ZeroDivisionError as ex:\n",
    "    print(ex)\n",
    "except Exception as ex1:\n",
    "    print(ex1)\n",
    "else:\n",
    "    print(f'result is {result}')\n",
    "finally:\n",
    "    print('finally completed')"
   ],
   "id": "a0d4e256a76ced34",
   "outputs": [
    {
     "name": "stdout",
     "output_type": "stream",
     "text": [
      "result is 2.0\n",
      "finally completed\n"
     ]
    }
   ],
   "execution_count": 21
  },
  {
   "metadata": {
    "ExecuteTime": {
     "end_time": "2025-05-02T10:26:31.623015Z",
     "start_time": "2025-05-02T10:26:31.608254Z"
    }
   },
   "cell_type": "code",
   "source": [
    "try:\n",
    "    file = open('example.txt', 'r')\n",
    "    content= file.read()\n",
    "    a = b\n",
    "    print(content)\n",
    "except FileNotFoundError as ex:\n",
    "    print(ex)\n",
    "except Exception as ex:\n",
    "    print(ex)\n",
    "finally:\n",
    "    if 'file' in locals() or not file.closed:\n",
    "        file.close()\n",
    "        print('file closed')"
   ],
   "id": "ffdfb7ce0c2bdeed",
   "outputs": [
    {
     "name": "stdout",
     "output_type": "stream",
     "text": [
      "[Errno 2] No such file or directory: 'example.txt'\n",
      "file closed\n"
     ]
    }
   ],
   "execution_count": 26
  },
  {
   "metadata": {},
   "cell_type": "code",
   "outputs": [],
   "execution_count": null,
   "source": "",
   "id": "6e456e70368efdd1"
  }
 ],
 "metadata": {
  "kernelspec": {
   "name": "python3",
   "language": "python",
   "display_name": "Python 3 (ipykernel)"
  }
 },
 "nbformat": 5,
 "nbformat_minor": 9
}
