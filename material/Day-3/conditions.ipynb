{
 "cells": [
  {
   "cell_type": "code",
   "execution_count": 1,
   "id": "fd9295da",
   "metadata": {},
   "outputs": [
    {
     "name": "stdout",
     "output_type": "stream",
     "text": [
      "30\n"
     ]
    }
   ],
   "source": [
    "age = 30\n",
    "if age>25:\n",
    "    print(age)"
   ]
  },
  {
   "cell_type": "code",
   "execution_count": 4,
   "id": "ea64fcee",
   "metadata": {},
   "outputs": [
    {
     "name": "stdout",
     "output_type": "stream",
     "text": [
      "5 / 2  =  2.5\n"
     ]
    }
   ],
   "source": [
    "## simple calculator program\n",
    "num1 = int(input(\"Enter interger number 1\"))\n",
    "num2 = int(input(\"Enter interger number 2\"))\n",
    "operation = str(input(\"Enter + | - | * | /\"))\n",
    "\n",
    "if operation == \"+\":\n",
    "    print(num1, \"+\" , num2, \" = \", num1 + num2)\n",
    "elif operation == \"-\":\n",
    "    print(num1, \"-\" , num2, \" = \",num1-num2)\n",
    "elif operation == \"*\":\n",
    "    print(num1, \"*\" , num2, \" = \",num1 * num2)\n",
    "elif operation == \"/\":\n",
    "    print(num1, \"/\" , num2, \" = \",num1 / num2)\n",
    "else:\n",
    "    print(\"Operation is not valid\")"
   ]
  },
  {
   "cell_type": "code",
   "execution_count": 14,
   "id": "568f13bf",
   "metadata": {},
   "outputs": [
    {
     "name": "stdout",
     "output_type": "stream",
     "text": [
      "Your final fare:  35\n"
     ]
    }
   ],
   "source": [
    "## write a program to generate ticket price for a student in a bus.\n",
    "passenger_age_limit = int(input(\"Enter the passenger age\"))\n",
    "km_price = float(input(\"Enter what the cost per kilometer\"))\n",
    "travel_km = float(input(\"Enter how many kilometers passenger needs to travel\"))\n",
    "student_offer = 20\n",
    "student_age_limit = int(input(\"Enter the max student age to obtain offer\"))\n",
    "student_min_age_limit = 4\n",
    "is_valid_id = bool(input(\"Enter student have valid ID Card or not\"));\n",
    "tax = 10;\n",
    "travel_base_price = int(travel_km * km_price);\n",
    "travel_price_after_tax = int(travel_base_price + int((travel_base_price * tax)/100))\n",
    "\n",
    "if not is_valid_id:\n",
    "    print(\"Sorry you dont have valid ID card, you can't avail the offer, your total fare: \",  + travel_price_after_tax)\n",
    "elif passenger_age_limit > student_age_limit:\n",
    "    print(\"Sorry you can't avail this offer as you are not a student, your total fare: \",  + travel_price_after_tax)\n",
    "elif passenger_age_limit < student_min_age_limit:\n",
    "    print(\"Hurray you no need to pay fare because you are a junior\")\n",
    "else:\n",
    "    modified_base_fare = travel_base_price - ((travel_base_price * student_offer)/100)\n",
    "    modified_price_after_tax = int(modified_base_fare + int((modified_base_fare * tax)/100))\n",
    "    print(\"Your final fare: \", modified_price_after_tax)    "
   ]
  },
  {
   "cell_type": "code",
   "execution_count": 1,
   "id": "d203a7b8",
   "metadata": {},
   "outputs": [
    {
     "name": "stdout",
     "output_type": "stream",
     "text": [
      "It's 10\n",
      "It's neither 10 nor 20\n"
     ]
    }
   ],
   "source": [
    "### usage of match case\n",
    "def check_number(x):\n",
    "    match x:\n",
    "        case 10:\n",
    "            print(\"It's 10\")\n",
    "        case 20:\n",
    "            print(\"It's 20\")\n",
    "        case _:\n",
    "            print(\"It's neither 10 nor 20\")\n",
    "\n",
    "check_number(10)\n",
    "check_number(30)"
   ]
  },
  {
   "cell_type": "code",
   "execution_count": 2,
   "id": "b5aa2a5c",
   "metadata": {},
   "outputs": [
    {
     "name": "stdout",
     "output_type": "stream",
     "text": [
      "Thursday\n",
      "Sunday\n",
      "Invalid day number\n"
     ]
    }
   ],
   "source": [
    "def weekday(n):\n",
    "    match n:\n",
    "      case 0: return \"Monday\"\n",
    "      case 1: return \"Tuesday\"\n",
    "      case 2: return \"Wednesday\"\n",
    "      case 3: return \"Thursday\"\n",
    "      case 4: return \"Friday\"\n",
    "      case 5: return \"Saturday\"\n",
    "      case 6: return \"Sunday\"\n",
    "      case _: return \"Invalid day number\"\n",
    "print (weekday(3))\n",
    "print (weekday(6))\n",
    "print (weekday(7))"
   ]
  },
  {
   "cell_type": "code",
   "execution_count": 3,
   "id": "cb775ae6",
   "metadata": {},
   "outputs": [
    {
     "name": "stdout",
     "output_type": "stream",
     "text": [
      "Full access\n",
      "Limited access\n",
      "No access\n"
     ]
    }
   ],
   "source": [
    "def access(user):\n",
    "    match user:\n",
    "      case \"admin\" | \"manager\": return \"Full access\"\n",
    "      case \"Guest\": return \"Limited access\"\n",
    "      case _: return \"No access\"\n",
    "print (access(\"manager\"))\n",
    "print (access(\"Guest\"))\n",
    "print (access(\"Ravi\"))"
   ]
  },
  {
   "cell_type": "code",
   "execution_count": 4,
   "id": "53ed20e6",
   "metadata": {},
   "outputs": [
    {
     "name": "stdout",
     "output_type": "stream",
     "text": [
      "Good Morning Ravi!\n",
      "Good Afternoon Guest!\n",
      "Good Evening Kajal!\n",
      "Good Evening Praveen!\n",
      "Good Evening Lata!\n",
      "\n"
     ]
    }
   ],
   "source": [
    "def greeting(details):\n",
    "    match details:\n",
    "      case [time, name]:\n",
    "         return f'Good {time} {name}!'\n",
    "      case [time, *names]:\n",
    "         msg=''\n",
    "         for name in names:\n",
    "            msg+=f'Good {time} {name}!\\n'\n",
    "         return msg\n",
    "\n",
    "print (greeting([\"Morning\", \"Ravi\"]))\n",
    "print (greeting([\"Afternoon\",\"Guest\"]))\n",
    "print (greeting([\"Evening\", \"Kajal\", \"Praveen\", \"Lata\"]))"
   ]
  },
  {
   "cell_type": "code",
   "execution_count": 5,
   "id": "47ccd787",
   "metadata": {},
   "outputs": [
    {
     "name": "stdout",
     "output_type": "stream",
     "text": [
      "Interest =  2500.0\n",
      "Interest =  6750.0\n"
     ]
    }
   ],
   "source": [
    "def intr(details):\n",
    "    match details:\n",
    "      case [amt, duration] if amt<10000:\n",
    "         return amt*10*duration/100\n",
    "      case [amt, duration] if amt>=10000:\n",
    "         return amt*15*duration/100\n",
    "print (\"Interest = \", intr([5000,5]))\n",
    "print (\"Interest = \", intr([15000,3]))"
   ]
  },
  {
   "cell_type": "code",
   "execution_count": null,
   "id": "31687d36",
   "metadata": {},
   "outputs": [],
   "source": []
  }
 ],
 "metadata": {
  "kernelspec": {
   "display_name": "Python 3",
   "language": "python",
   "name": "python3"
  },
  "language_info": {
   "codemirror_mode": {
    "name": "ipython",
    "version": 3
   },
   "file_extension": ".py",
   "mimetype": "text/x-python",
   "name": "python",
   "nbconvert_exporter": "python",
   "pygments_lexer": "ipython3",
   "version": "3.12.9"
  }
 },
 "nbformat": 4,
 "nbformat_minor": 5
}
