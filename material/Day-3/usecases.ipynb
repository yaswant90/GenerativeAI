{
 "cells": [
  {
   "cell_type": "markdown",
   "id": "91dc177a",
   "metadata": {},
   "source": [
    "### Manage a todo-list"
   ]
  },
  {
   "cell_type": "code",
   "execution_count": 2,
   "id": "277add5a",
   "metadata": {},
   "outputs": [
    {
     "data": {
      "text/plain": [
       "['Buy Groceries',\n",
       " 'Pay House EMI',\n",
       " 'Pay Car Loan',\n",
       " 'shedule meeting',\n",
       " 'Go for gym']"
      ]
     },
     "execution_count": 2,
     "metadata": {},
     "output_type": "execute_result"
    }
   ],
   "source": [
    "todo_lists = [\"Buy Groceries\", \"Pay House EMI\", \"Pay Car Loan\"]\n",
    "todo_lists.append(\"shedule meeting\")\n",
    "todo_lists.append(\"Go for gym\")\n",
    "\n",
    "todo_lists"
   ]
  },
  {
   "cell_type": "code",
   "execution_count": 3,
   "id": "5d2375fa",
   "metadata": {},
   "outputs": [
    {
     "data": {
      "text/plain": [
       "['Buy Groceries', 'Pay Car Loan', 'shedule meeting', 'Go for gym']"
      ]
     },
     "execution_count": 3,
     "metadata": {},
     "output_type": "execute_result"
    }
   ],
   "source": [
    "todo_lists.remove(\"Pay House EMI\")\n",
    "todo_lists"
   ]
  },
  {
   "cell_type": "code",
   "execution_count": 4,
   "id": "1965dba5",
   "metadata": {},
   "outputs": [
    {
     "name": "stdout",
     "output_type": "stream",
     "text": [
      "-Buy Groceries\n",
      "-Pay Car Loan\n",
      "-shedule meeting\n",
      "-Go for gym\n"
     ]
    }
   ],
   "source": [
    "### remaining todo list\n",
    "for tasks in todo_lists:\n",
    "    print(f\"-{tasks}\")"
   ]
  },
  {
   "cell_type": "markdown",
   "id": "65b05e40",
   "metadata": {},
   "source": [
    "### organizing student grades"
   ]
  },
  {
   "cell_type": "code",
   "execution_count": 8,
   "id": "4775667c",
   "metadata": {},
   "outputs": [
    {
     "name": "stdout",
     "output_type": "stream",
     "text": [
      "Average grade : 85\n",
      "Heighest Grade: 95\n",
      "Lowese Grade: 75\n"
     ]
    }
   ],
   "source": [
    "grades = [80,85, 90, 75]\n",
    "grades.append(95)\n",
    "average_grade = int(sum(grades) / len(grades))\n",
    "print(f'Average grade : {average_grade}')\n",
    "\n",
    "highest_grade = max(grades)\n",
    "lowest_grade = min(grades)\n",
    "\n",
    "print(f'Heighest Grade: {highest_grade}')\n",
    "print(f'Lowese Grade: {lowest_grade}')"
   ]
  },
  {
   "cell_type": "markdown",
   "id": "3b9a9ca5",
   "metadata": {},
   "source": [
    "### Managing an inventory"
   ]
  },
  {
   "cell_type": "code",
   "execution_count": 9,
   "id": "b214a962",
   "metadata": {},
   "outputs": [
    {
     "name": "stdout",
     "output_type": "stream",
     "text": [
      "out of stock\n",
      "apple\n",
      "banana\n",
      "grapes\n",
      "watermelon\n"
     ]
    }
   ],
   "source": [
    "inventory = [\"apple\", \"banana\", \"grapes\"]\n",
    "inventory.append(\"watermelon\")\n",
    "##checking if an item is in stock\n",
    "item =\"oranges\"\n",
    "if item in inventory:\n",
    "    print(\"item available\")\n",
    "else:\n",
    "    print(\"out of stock\")\n",
    "\n",
    "## printing inventory list\n",
    "for item in inventory:\n",
    "    print(item)"
   ]
  },
  {
   "cell_type": "markdown",
   "id": "c978c918",
   "metadata": {},
   "source": [
    "### Manage User Feedbacks"
   ]
  },
  {
   "cell_type": "code",
   "execution_count": 17,
   "id": "c79f86a0",
   "metadata": {},
   "outputs": [
    {
     "name": "stdout",
     "output_type": "stream",
     "text": [
      "Number of postiive feedbacks:2\n",
      "-Great service\n",
      "-Could be better\n",
      "-Excellent experience\n",
      "-Not happy with the service\n"
     ]
    }
   ],
   "source": [
    "feedbacks = [\"Great service\", \"Could be better\", \"Excellent experience\"]\n",
    "feedbacks.append(\"Not happy with the service\")\n",
    "\n",
    "positive_feedbacks = sum(1 for comment in feedbacks if \"great\" in comment.lower() or \"excellent\" in comment.lower())\n",
    "print(f\"Number of postiive feedbacks:{positive_feedbacks}\")\n",
    "\n",
    "### printing user feedbacks\n",
    "for feedback in feedbacks:\n",
    "    print(f\"-{feedback}\")"
   ]
  },
  {
   "cell_type": "code",
   "execution_count": null,
   "id": "732aec17",
   "metadata": {},
   "outputs": [],
   "source": []
  }
 ],
 "metadata": {
  "kernelspec": {
   "display_name": "Python 3",
   "language": "python",
   "name": "python3"
  },
  "language_info": {
   "codemirror_mode": {
    "name": "ipython",
    "version": 3
   },
   "file_extension": ".py",
   "mimetype": "text/x-python",
   "name": "python",
   "nbconvert_exporter": "python",
   "pygments_lexer": "ipython3",
   "version": "3.12.9"
  }
 },
 "nbformat": 4,
 "nbformat_minor": 5
}
