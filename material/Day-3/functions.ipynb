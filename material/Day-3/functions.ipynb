{
 "cells": [
  {
   "cell_type": "code",
   "execution_count": 1,
   "id": "61b477ad",
   "metadata": {},
   "outputs": [
    {
     "data": {
      "text/plain": [
       "10"
      ]
     },
     "execution_count": 1,
     "metadata": {},
     "output_type": "execute_result"
    }
   ],
   "source": [
    "## basic function syntax\n",
    "def abc(num):\n",
    "    return num*2\n",
    "\n",
    "abc(5)"
   ]
  },
  {
   "cell_type": "code",
   "execution_count": 3,
   "id": "e06e0076",
   "metadata": {},
   "outputs": [
    {
     "data": {
      "text/plain": [
       "(10, 5)"
      ]
     },
     "execution_count": 3,
     "metadata": {},
     "output_type": "execute_result"
    }
   ],
   "source": [
    "def abc(num):\n",
    "    return num*2, num ## we can send multiple values in return\n",
    "abc(5)"
   ]
  },
  {
   "cell_type": "code",
   "execution_count": 7,
   "id": "d1baee29",
   "metadata": {},
   "outputs": [
    {
     "data": {
      "text/plain": [
       "(1, 2, 3)"
      ]
     },
     "execution_count": 7,
     "metadata": {},
     "output_type": "execute_result"
    }
   ],
   "source": [
    "def abc(*num): ## Arbitrary Arguments, *args\n",
    "    return num\n",
    "\n",
    "abc(1,2,3)"
   ]
  },
  {
   "cell_type": "code",
   "execution_count": 8,
   "id": "1dc8de79",
   "metadata": {},
   "outputs": [
    {
     "data": {
      "text/plain": [
       "{'code': '123', 'age': 25}"
      ]
     },
     "execution_count": 8,
     "metadata": {},
     "output_type": "execute_result"
    }
   ],
   "source": [
    "def abc(**num): ## Arbitrary Keyword Arguments, **kwargs\n",
    "    return num\n",
    "\n",
    "abc(code = \"123\", age = 25)"
   ]
  },
  {
   "cell_type": "code",
   "execution_count": 6,
   "id": "c6b97c0d",
   "metadata": {},
   "outputs": [
    {
     "name": "stdout",
     "output_type": "stream",
     "text": [
      "1\n",
      "2\n",
      "3\n",
      "code\n",
      "age\n"
     ]
    }
   ],
   "source": [
    "def abc(*param1, **param2):\n",
    "    for param in param1:\n",
    "        print(param)\n",
    "    for param in param2:\n",
    "        print(param) \n",
    "abc(1,2,3, code=\"code\", age=\"25\")"
   ]
  },
  {
   "cell_type": "code",
   "execution_count": 9,
   "id": "6bfc6608",
   "metadata": {},
   "outputs": [
    {
     "name": "stdout",
     "output_type": "stream",
     "text": [
      "I am from Sweden\n",
      "I am from India\n",
      "I am from Norway\n",
      "I am from Brazil\n"
     ]
    }
   ],
   "source": [
    "def my_function(country = \"Norway\"):\n",
    "      print(\"I am from \" + country)\n",
    "\n",
    "my_function(\"Sweden\")\n",
    "my_function(\"India\")\n",
    "my_function()\n",
    "my_function(\"Brazil\")\n"
   ]
  },
  {
   "cell_type": "code",
   "execution_count": 11,
   "id": "e58134e5",
   "metadata": {},
   "outputs": [],
   "source": [
    "'''' function definitions cannot be empty, but if you for some reason have a function definition with no content, put in the pass statement to avoid getting an error. '''\n",
    "def myfunction():\n",
    "  pass\n",
    "myfunction()"
   ]
  },
  {
   "cell_type": "code",
   "execution_count": 14,
   "id": "b9cdc9ac",
   "metadata": {},
   "outputs": [
    {
     "name": "stdout",
     "output_type": "stream",
     "text": [
      "3\n"
     ]
    }
   ],
   "source": [
    "## To specify that a function can have only keyword arguments, add *, before the arguments:\n",
    "def my_function(*, x):\n",
    "      print(x)\n",
    "\n",
    "my_function(x = 3)"
   ]
  },
  {
   "cell_type": "markdown",
   "id": "e4e8a803",
   "metadata": {},
   "source": [
    "### Combine Positional-Only and Keyword-Only\n",
    "\n",
    "#### You can combine the two argument types in the same function.\n",
    "\n",
    "#### Any argument before the / , are positional-only, and any argument after the *, are keyword-only."
   ]
  },
  {
   "cell_type": "code",
   "execution_count": 15,
   "id": "a22e01c6",
   "metadata": {},
   "outputs": [
    {
     "name": "stdout",
     "output_type": "stream",
     "text": [
      "26\n"
     ]
    }
   ],
   "source": [
    "def my_function(a, b, /, *, c, d):\n",
    "      print(a + b + c + d)\n",
    "\n",
    "my_function(5, 6, c = 7, d = 8)"
   ]
  },
  {
   "cell_type": "code",
   "execution_count": null,
   "id": "b038f300",
   "metadata": {},
   "outputs": [],
   "source": []
  }
 ],
 "metadata": {
  "kernelspec": {
   "display_name": "Python 3",
   "language": "python",
   "name": "python3"
  },
  "language_info": {
   "codemirror_mode": {
    "name": "ipython",
    "version": 3
   },
   "file_extension": ".py",
   "mimetype": "text/x-python",
   "name": "python",
   "nbconvert_exporter": "python",
   "pygments_lexer": "ipython3",
   "version": "3.12.9"
  }
 },
 "nbformat": 4,
 "nbformat_minor": 5
}
