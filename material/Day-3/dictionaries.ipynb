{
 "cells": [
  {
   "cell_type": "markdown",
   "id": "c6b16459",
   "metadata": {},
   "source": [
    "### Dictionaries are unordered list of data. data stored in key value pair. and keys are unique."
   ]
  },
  {
   "cell_type": "markdown",
   "id": "b1cad518",
   "metadata": {},
   "source": [
    "### creating dictionaries"
   ]
  },
  {
   "cell_type": "code",
   "execution_count": 1,
   "id": "b4f4b152",
   "metadata": {},
   "outputs": [
    {
     "name": "stdout",
     "output_type": "stream",
     "text": [
      "<class 'dict'>\n"
     ]
    }
   ],
   "source": [
    "empty_dict = {}\n",
    "print(type(empty_dict))"
   ]
  },
  {
   "cell_type": "code",
   "execution_count": 2,
   "id": "d9d4101e",
   "metadata": {},
   "outputs": [
    {
     "data": {
      "text/plain": [
       "{}"
      ]
     },
     "execution_count": 2,
     "metadata": {},
     "output_type": "execute_result"
    }
   ],
   "source": [
    "empty_dict = dict()\n",
    "empty_dict"
   ]
  },
  {
   "cell_type": "code",
   "execution_count": 3,
   "id": "887081cf",
   "metadata": {},
   "outputs": [
    {
     "data": {
      "text/plain": [
       "{'name': 'yaswanth', 'age': 35, 'grade': 'A'}"
      ]
     },
     "execution_count": 3,
     "metadata": {},
     "output_type": "execute_result"
    }
   ],
   "source": [
    "student = {\n",
    "    \"name\": \"yaswanth\",\n",
    "    \"age\": 35,\n",
    "    \"grade\": 'A'\n",
    "}\n",
    "\n",
    "student"
   ]
  },
  {
   "cell_type": "code",
   "execution_count": 4,
   "id": "76f315ce",
   "metadata": {},
   "outputs": [
    {
     "data": {
      "text/plain": [
       "{'name': 24, 'age': 35}"
      ]
     },
     "execution_count": 4,
     "metadata": {},
     "output_type": "execute_result"
    }
   ],
   "source": [
    "## Error\n",
    "v = {\"name\": \"yaswanth\", \"age\": 35, \"name\": 24}\n",
    "v"
   ]
  },
  {
   "cell_type": "code",
   "execution_count": 8,
   "id": "28053b70",
   "metadata": {},
   "outputs": [
    {
     "name": "stdout",
     "output_type": "stream",
     "text": [
      "A\n",
      "A\n",
      "None\n"
     ]
    }
   ],
   "source": [
    "print(student['grade'])\n",
    "print(student.get('grade')) ## using get\n",
    "print(student.get('last_name'))"
   ]
  },
  {
   "cell_type": "code",
   "execution_count": 10,
   "id": "6c5f6fcc",
   "metadata": {},
   "outputs": [
    {
     "data": {
      "text/plain": [
       "{'name': 'yaswanth', 'age': 33, 'grade': 'A', 'address': 'Banglore'}"
      ]
     },
     "execution_count": 10,
     "metadata": {},
     "output_type": "execute_result"
    }
   ],
   "source": [
    "### modifying dictionaries\n",
    "student['age'] = 33\n",
    "student['address'] = 'Banglore'\n",
    "student"
   ]
  },
  {
   "cell_type": "code",
   "execution_count": 11,
   "id": "517b18e4",
   "metadata": {},
   "outputs": [
    {
     "data": {
      "text/plain": [
       "{'name': 'yaswanth', 'age': 33, 'address': 'Banglore'}"
      ]
     },
     "execution_count": 11,
     "metadata": {},
     "output_type": "execute_result"
    }
   ],
   "source": [
    "del student['grade']\n",
    "student"
   ]
  },
  {
   "cell_type": "code",
   "execution_count": 12,
   "id": "6a638f35",
   "metadata": {},
   "outputs": [
    {
     "name": "stdout",
     "output_type": "stream",
     "text": [
      "dict_keys(['name', 'age', 'address']) dict_values(['yaswanth', 33, 'Banglore'])\n"
     ]
    }
   ],
   "source": [
    "keys = student.keys()\n",
    "values = student.values()\n",
    "print(keys, values)"
   ]
  },
  {
   "cell_type": "code",
   "execution_count": 13,
   "id": "06e30205",
   "metadata": {},
   "outputs": [
    {
     "name": "stdout",
     "output_type": "stream",
     "text": [
      "dict_items([('name', 'yaswanth'), ('age', 33), ('address', 'Banglore')])\n"
     ]
    }
   ],
   "source": [
    "items = student.items()\n",
    "print(items)"
   ]
  },
  {
   "cell_type": "code",
   "execution_count": 15,
   "id": "4b30384a",
   "metadata": {},
   "outputs": [
    {
     "name": "stdout",
     "output_type": "stream",
     "text": [
      "{'name': 'yaswanth', 'age': 33, 'address': 'Banglore'} {'name': 'yaswanth', 'age': 33, 'address': 'Banglore'}\n",
      "{'name': 'kumar', 'age': 33, 'address': 'Banglore'}\n"
     ]
    }
   ],
   "source": [
    "## shallow copy\n",
    "student_copy = student\n",
    "print(student, student_copy)\n",
    "student[\"name\"] = \"kumar\"\n",
    "print(student_copy)"
   ]
  },
  {
   "cell_type": "code",
   "execution_count": 20,
   "id": "31fdff25",
   "metadata": {},
   "outputs": [
    {
     "name": "stdout",
     "output_type": "stream",
     "text": [
      "{'name': 'Krish', 'age': 33, 'address': 'Banglore'} {'name': 'Krish', 'age': 33, 'address': 'Banglore'}\n",
      "{'name': 'Yaswanth', 'age': 33, 'address': 'Banglore'} {'name': 'Krish', 'age': 33, 'address': 'Banglore'}\n"
     ]
    }
   ],
   "source": [
    "student_copy = student.copy()\n",
    "print(student, student_copy)\n",
    "student[\"name\"] = \"Yaswanth\"\n",
    "print(student, student_copy)"
   ]
  },
  {
   "cell_type": "code",
   "execution_count": 21,
   "id": "fe4dc212",
   "metadata": {},
   "outputs": [
    {
     "name": "stdout",
     "output_type": "stream",
     "text": [
      "name\n",
      "age\n",
      "address\n"
     ]
    }
   ],
   "source": [
    "### Iterating over dictionaries\n",
    "for keys in student.keys():\n",
    "    print(keys)"
   ]
  },
  {
   "cell_type": "code",
   "execution_count": 22,
   "id": "9cf61fff",
   "metadata": {},
   "outputs": [
    {
     "name": "stdout",
     "output_type": "stream",
     "text": [
      "Yaswanth\n",
      "33\n",
      "Banglore\n"
     ]
    }
   ],
   "source": [
    "for values in student.values():\n",
    "    print(values)"
   ]
  },
  {
   "cell_type": "code",
   "execution_count": 24,
   "id": "0146b2a3",
   "metadata": {},
   "outputs": [
    {
     "name": "stdout",
     "output_type": "stream",
     "text": [
      "name : Yaswanth\n",
      "age : 33\n",
      "address : Banglore\n"
     ]
    }
   ],
   "source": [
    "for key, value in student.items():\n",
    "    print(f\"{key} : {value}\")"
   ]
  },
  {
   "cell_type": "code",
   "execution_count": 25,
   "id": "0d943393",
   "metadata": {},
   "outputs": [
    {
     "data": {
      "text/plain": [
       "{'student1': {'name': 'yaswant', 'age': 35},\n",
       " 'student2': {'name': 'kumar', 'age': 33}}"
      ]
     },
     "execution_count": 25,
     "metadata": {},
     "output_type": "execute_result"
    }
   ],
   "source": [
    "## nested dictionaries\n",
    "students = {\n",
    "    \"student1\": {\"name\": \"yaswant\", \"age\": 35},\n",
    "    \"student2\": {\"name\": \"kumar\", \"age\": 33}\n",
    "}\n",
    "students"
   ]
  },
  {
   "cell_type": "code",
   "execution_count": 26,
   "id": "3c023a0d",
   "metadata": {},
   "outputs": [
    {
     "name": "stdout",
     "output_type": "stream",
     "text": [
      "kumar\n",
      "yaswant\n"
     ]
    }
   ],
   "source": [
    "print(students[\"student2\"][\"name\"])\n",
    "print(students[\"student1\"][\"name\"])"
   ]
  },
  {
   "cell_type": "code",
   "execution_count": 28,
   "id": "2b686c9d",
   "metadata": {},
   "outputs": [
    {
     "name": "stdout",
     "output_type": "stream",
     "text": [
      "student1 : {'name': 'yaswant', 'age': 35}\n",
      "name : yaswant\n",
      "age : 35\n",
      "student2 : {'name': 'kumar', 'age': 33}\n",
      "name : kumar\n",
      "age : 33\n"
     ]
    }
   ],
   "source": [
    "for student_id, student_info in students.items():\n",
    "    print(f\"{student_id} : {student_info}\")\n",
    "    for key, value in student_info.items():\n",
    "        print(f\"{key} : {value}\")"
   ]
  },
  {
   "cell_type": "code",
   "execution_count": 29,
   "id": "1a79afb9",
   "metadata": {},
   "outputs": [
    {
     "data": {
      "text/plain": [
       "{0: 0, 1: 1, 2: 4, 3: 9, 4: 16}"
      ]
     },
     "execution_count": 29,
     "metadata": {},
     "output_type": "execute_result"
    }
   ],
   "source": [
    "## Dictionary Comprehensions\n",
    "squares = {x:x**2 for x in range(5)}\n",
    "squares"
   ]
  },
  {
   "cell_type": "code",
   "execution_count": 30,
   "id": "a39de978",
   "metadata": {},
   "outputs": [
    {
     "data": {
      "text/plain": [
       "{0: 0, 2: 4, 4: 16, 6: 36, 8: 64}"
      ]
     },
     "execution_count": 30,
     "metadata": {},
     "output_type": "execute_result"
    }
   ],
   "source": [
    "even_squares = {x:x**2 for x in range(10) if x%2==0}\n",
    "even_squares"
   ]
  },
  {
   "cell_type": "code",
   "execution_count": 31,
   "id": "8b2cf9f0",
   "metadata": {},
   "outputs": [
    {
     "name": "stdout",
     "output_type": "stream",
     "text": [
      "{1: 1, 2: 2, 3: 3, 4: 2, 5: 1, 6: 1, 7: 2, 8: 3, 9: 4, 10: 1}\n"
     ]
    }
   ],
   "source": [
    "## example\n",
    "numbers = [1,2,2,3,3,3,4,4,5,6,7,7,8,8,8,9,9,9,9,10]\n",
    "freq = {}\n",
    "for num in numbers:\n",
    "    if num in freq:\n",
    "        freq[num] += 1\n",
    "    else:\n",
    "        freq[num] = 1\n",
    "print(freq)"
   ]
  },
  {
   "cell_type": "code",
   "execution_count": 32,
   "id": "34b6e400",
   "metadata": {},
   "outputs": [
    {
     "data": {
      "text/plain": [
       "{'a': 1, 'b': 3, 'C': 4}"
      ]
     },
     "execution_count": 32,
     "metadata": {},
     "output_type": "execute_result"
    }
   ],
   "source": [
    "dict1 = {\"a\": 1, \"b\": 2}\n",
    "dict2 = { \"b\": 3, \"C\": 4 }\n",
    "merge_dict = {**dict1, **dict2}\n",
    "merge_dict"
   ]
  },
  {
   "cell_type": "code",
   "execution_count": null,
   "id": "0e5b1d13",
   "metadata": {},
   "outputs": [],
   "source": []
  }
 ],
 "metadata": {
  "kernelspec": {
   "display_name": "Python 3",
   "language": "python",
   "name": "python3"
  },
  "language_info": {
   "codemirror_mode": {
    "name": "ipython",
    "version": 3
   },
   "file_extension": ".py",
   "mimetype": "text/x-python",
   "name": "python",
   "nbconvert_exporter": "python",
   "pygments_lexer": "ipython3",
   "version": "3.12.9"
  }
 },
 "nbformat": 4,
 "nbformat_minor": 5
}
