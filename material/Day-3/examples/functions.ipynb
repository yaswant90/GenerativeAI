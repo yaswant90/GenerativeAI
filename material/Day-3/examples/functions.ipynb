{
 "cells": [
  {
   "cell_type": "markdown",
   "id": "bf725882",
   "metadata": {},
   "source": [
    "### Temperature Conversion"
   ]
  },
  {
   "cell_type": "code",
   "execution_count": 2,
   "id": "6de3de82",
   "metadata": {},
   "outputs": [
    {
     "name": "stdout",
     "output_type": "stream",
     "text": [
      "77.0\n",
      "25.0\n"
     ]
    }
   ],
   "source": [
    "def convert_temperature(temp, unit):\n",
    "    \"\"\"This function converts tempertaure between celsius and fahrenheit\"\"\"\n",
    "    if unit=='C':\n",
    "        return temp * 9/5 + 32 ## C-F\n",
    "    elif unit=='F':\n",
    "        return (temp - 32)*5/9 ## F-C\n",
    "    else:\n",
    "        return None\n",
    "\n",
    "print(convert_temperature(25, 'C'))\n",
    "print(convert_temperature(77, 'F'))"
   ]
  },
  {
   "cell_type": "markdown",
   "id": "8bef9a95",
   "metadata": {},
   "source": [
    "### Password Strength Checker"
   ]
  },
  {
   "cell_type": "code",
   "execution_count": 3,
   "id": "f538f434",
   "metadata": {},
   "outputs": [
    {
     "name": "stdout",
     "output_type": "stream",
     "text": [
      "False\n",
      "True\n"
     ]
    }
   ],
   "source": [
    "def is_strong_password(password):\n",
    "    \"\"\"This function checks the password is strong or not\"\"\"\n",
    "    if len(password) < 8:\n",
    "        return False\n",
    "    if not any(char.isdigit() for char in password):\n",
    "        return False\n",
    "    if not any(char.islower() for char in password):\n",
    "        return False\n",
    "    if not any(char.isupper() for char in password):\n",
    "        return False\n",
    "    if not any(char in '!@#$^&*()_+' for char in password):\n",
    "        return False\n",
    "    return True\n",
    "\n",
    "print(is_strong_password('AeRsKlpwd'))\n",
    "print(is_strong_password('str0Pwd!'))"
   ]
  },
  {
   "cell_type": "markdown",
   "id": "5de26401",
   "metadata": {},
   "source": [
    "### Calculate the the total cost of items in a shopping cart"
   ]
  },
  {
   "cell_type": "code",
   "execution_count": 6,
   "id": "49049f3f",
   "metadata": {},
   "outputs": [
    {
     "name": "stdout",
     "output_type": "stream",
     "text": [
      "47\n"
     ]
    }
   ],
   "source": [
    "def calculate_total_cart(cart):\n",
    "    total_cost = 0;\n",
    "    for item in cart:\n",
    "        total_cost += item['price'] * item['qty']\n",
    "    return total_cost\n",
    "\n",
    "## Example cart data\n",
    "cart = [\n",
    "    {'name': 'Apple', 'price': 2, 'qty': 4},\n",
    "    {'name': 'Banana', 'price': 3, 'qty': 6},\n",
    "    {'name': 'Orange', 'price': 7, 'qty': 3}\n",
    "]\n",
    "\n",
    "print(calculate_total_cart(cart))"
   ]
  },
  {
   "cell_type": "markdown",
   "id": "912597ee",
   "metadata": {},
   "source": [
    "### Check if a string is palindrom or not"
   ]
  },
  {
   "cell_type": "code",
   "execution_count": 8,
   "id": "c75893de",
   "metadata": {},
   "outputs": [
    {
     "name": "stdout",
     "output_type": "stream",
     "text": [
      "True\n",
      "False\n"
     ]
    }
   ],
   "source": [
    "def is_palindrom(s):\n",
    "    s = s.lower().replace(\" \", \"\")\n",
    "    return s == s[::-1]\n",
    "\n",
    "print(is_palindrom(\"A man a plan a canal Panama\"))\n",
    "print(is_palindrom(\"Hello\"))"
   ]
  },
  {
   "cell_type": "markdown",
   "id": "869c0b94",
   "metadata": {},
   "source": [
    "### calculate the factorial of a number using recursion"
   ]
  },
  {
   "cell_type": "code",
   "execution_count": 10,
   "id": "3ab1521a",
   "metadata": {},
   "outputs": [
    {
     "name": "stdout",
     "output_type": "stream",
     "text": [
      "120\n",
      "1\n"
     ]
    }
   ],
   "source": [
    "def factorial(num):\n",
    "    if num==0:\n",
    "        return 1\n",
    "    else:\n",
    "        return num*factorial(num-1)\n",
    "\n",
    "print(factorial(5))\n",
    "print(factorial(0))"
   ]
  },
  {
   "cell_type": "markdown",
   "id": "d82c354d",
   "metadata": {},
   "source": [
    "### A function to tead a file and count the frequency of each word"
   ]
  },
  {
   "cell_type": "code",
   "execution_count": 11,
   "id": "308c44b0",
   "metadata": {},
   "outputs": [
    {
     "name": "stdout",
     "output_type": "stream",
     "text": [
      "{'hello': 1, 'world': 1, 'how': 1, 'are': 1, 'you': 2, 'my': 1, 'name': 1, 'is': 1, 'yaswanth': 1, 'have': 1, 'completed': 1, 'your': 1, 'dinner': 1}\n"
     ]
    }
   ],
   "source": [
    "def count_word_frequency(file_path):\n",
    "    word_count = {}\n",
    "    with open(file_path, 'r') as file:\n",
    "        for line in file:\n",
    "            words = line.split()\n",
    "            for word in words:\n",
    "                word = word.lower().strip('.,!?;:\"\\'')\n",
    "                word_count[word] = word_count.get(word, 0) + 1\n",
    "    return word_count;\n",
    "\n",
    "print(count_word_frequency('sample.txt')) "
   ]
  },
  {
   "cell_type": "markdown",
   "id": "b5514941",
   "metadata": {},
   "source": [
    "### validate email address"
   ]
  },
  {
   "cell_type": "code",
   "execution_count": 14,
   "id": "91d17f80",
   "metadata": {},
   "outputs": [
    {
     "name": "stdout",
     "output_type": "stream",
     "text": [
      "True\n",
      "False\n"
     ]
    }
   ],
   "source": [
    "import re\n",
    "def is_valid_email(email):\n",
    "    pattern = r'^[a-zA-Z0-9_.+-]+@[a-zA-Z0-9-]+\\.[a-zA-Z0-9.]+$'\n",
    "    return re.match(pattern, email) is not None\n",
    "\n",
    "print(is_valid_email('test@example.com'))\n",
    "print(is_valid_email('test'))"
   ]
  },
  {
   "cell_type": "code",
   "execution_count": null,
   "id": "11128d4b",
   "metadata": {},
   "outputs": [],
   "source": []
  }
 ],
 "metadata": {
  "kernelspec": {
   "display_name": "Python 3",
   "language": "python",
   "name": "python3"
  },
  "language_info": {
   "codemirror_mode": {
    "name": "ipython",
    "version": 3
   },
   "file_extension": ".py",
   "mimetype": "text/x-python",
   "name": "python",
   "nbconvert_exporter": "python",
   "pygments_lexer": "ipython3",
   "version": "3.12.9"
  }
 },
 "nbformat": 4,
 "nbformat_minor": 5
}
