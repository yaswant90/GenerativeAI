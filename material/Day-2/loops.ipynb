{
 "cells": [
  {
   "cell_type": "code",
   "execution_count": 1,
   "id": "6adf8db1",
   "metadata": {},
   "outputs": [
    {
     "data": {
      "text/plain": [
       "range(0, 5)"
      ]
     },
     "execution_count": 1,
     "metadata": {},
     "output_type": "execute_result"
    }
   ],
   "source": [
    "range(0, 5)"
   ]
  },
  {
   "cell_type": "code",
   "execution_count": 2,
   "id": "c9fe91a8",
   "metadata": {},
   "outputs": [
    {
     "name": "stdout",
     "output_type": "stream",
     "text": [
      "0\n",
      "1\n",
      "2\n",
      "3\n",
      "4\n"
     ]
    }
   ],
   "source": [
    "for i in range(0,5):\n",
    "    print(i)"
   ]
  },
  {
   "cell_type": "code",
   "execution_count": 3,
   "id": "306a0970",
   "metadata": {},
   "outputs": [
    {
     "name": "stdout",
     "output_type": "stream",
     "text": [
      "1\n",
      "2\n",
      "3\n",
      "4\n",
      "5\n"
     ]
    }
   ],
   "source": [
    "for i in range(1,6):\n",
    "    print(i)"
   ]
  },
  {
   "cell_type": "code",
   "execution_count": 4,
   "id": "06b361e8",
   "metadata": {},
   "outputs": [
    {
     "data": {
      "text/plain": [
       "range(1, 10, 2)"
      ]
     },
     "execution_count": 4,
     "metadata": {},
     "output_type": "execute_result"
    }
   ],
   "source": [
    "range(1,10,2)"
   ]
  },
  {
   "cell_type": "code",
   "execution_count": 7,
   "id": "7e9c8f74",
   "metadata": {},
   "outputs": [
    {
     "name": "stdout",
     "output_type": "stream",
     "text": [
      "1\n",
      "3\n",
      "5\n",
      "7\n",
      "9\n"
     ]
    }
   ],
   "source": [
    "## third parameter is stepper\n",
    "for i in range(1,10, 2):\n",
    "    print(i)"
   ]
  },
  {
   "cell_type": "code",
   "execution_count": 8,
   "id": "1c7288df",
   "metadata": {},
   "outputs": [
    {
     "name": "stdout",
     "output_type": "stream",
     "text": [
      "10\n",
      "9\n",
      "8\n",
      "7\n",
      "6\n",
      "5\n",
      "4\n",
      "3\n",
      "2\n"
     ]
    }
   ],
   "source": [
    "for i in range(10,1, -1):\n",
    "    print(i)"
   ]
  },
  {
   "cell_type": "code",
   "execution_count": 9,
   "id": "12abf35d",
   "metadata": {},
   "outputs": [
    {
     "name": "stdout",
     "output_type": "stream",
     "text": [
      "y\n",
      "a\n",
      "s\n",
      "w\n",
      "a\n",
      "n\n",
      "t\n",
      "h\n"
     ]
    }
   ],
   "source": [
    "str = \"yaswanth\"\n",
    "for i in str:\n",
    "    print(i)"
   ]
  },
  {
   "cell_type": "code",
   "execution_count": 10,
   "id": "5ab5e354",
   "metadata": {},
   "outputs": [
    {
     "name": "stdout",
     "output_type": "stream",
     "text": [
      "0\n",
      "1\n",
      "2\n",
      "3\n",
      "4\n"
     ]
    }
   ],
   "source": [
    "count = 0\n",
    "while count < 5:\n",
    "    print(count)\n",
    "    count = count + 1"
   ]
  },
  {
   "cell_type": "code",
   "execution_count": 11,
   "id": "6c1c2308",
   "metadata": {},
   "outputs": [
    {
     "name": "stdout",
     "output_type": "stream",
     "text": [
      "0\n",
      "1\n",
      "2\n",
      "3\n",
      "4\n"
     ]
    }
   ],
   "source": [
    "for i in range(10):\n",
    "    if i==5:\n",
    "        break\n",
    "    print(i)"
   ]
  },
  {
   "cell_type": "code",
   "execution_count": 12,
   "id": "e427caa7",
   "metadata": {},
   "outputs": [
    {
     "name": "stdout",
     "output_type": "stream",
     "text": [
      "1\n",
      "3\n",
      "5\n",
      "7\n",
      "9\n"
     ]
    }
   ],
   "source": [
    "for i in range(10):\n",
    "    if i%2==0:\n",
    "        continue\n",
    "    print(i)"
   ]
  },
  {
   "cell_type": "code",
   "execution_count": 16,
   "id": "d4084e82",
   "metadata": {},
   "outputs": [
    {
     "name": "stdout",
     "output_type": "stream",
     "text": [
      "i0 and j0\n",
      "i0 and j1\n",
      "i1 and j0\n",
      "i1 and j1\n",
      "i2 and j0\n",
      "i2 and j1\n"
     ]
    }
   ],
   "source": [
    "for i in range(3):\n",
    "    for j in range(2):\n",
    "        print(f\"i{i} and j{j}\")"
   ]
  },
  {
   "cell_type": "code",
   "execution_count": 23,
   "id": "15ea0145",
   "metadata": {},
   "outputs": [
    {
     "name": "stdout",
     "output_type": "stream",
     "text": [
      "2\n",
      "3\n",
      "5\n",
      "7\n",
      "11\n",
      "13\n",
      "17\n",
      "19\n",
      "23\n",
      "29\n",
      "31\n",
      "37\n",
      "41\n",
      "43\n",
      "47\n",
      "53\n",
      "59\n",
      "61\n",
      "67\n",
      "71\n",
      "73\n",
      "79\n",
      "83\n",
      "89\n",
      "97\n"
     ]
    }
   ],
   "source": [
    "## print prime numbers range between 1 to 100\n",
    "\n",
    "def is_prime(num):\n",
    "    if num <= 1:\n",
    "        return False\n",
    "    if num <= 3:\n",
    "        return True\n",
    "    if num % 2 == 0 or num % 3 == 0:\n",
    "        return False\n",
    "    i = 5\n",
    "    while i * i <= num:\n",
    "        if num % i == 0 or num % (i + 2) == 0:\n",
    "            return False\n",
    "        i += 6\n",
    "    return True\n",
    "\n",
    "for i in range(2, 101):\n",
    "    if is_prime(i):\n",
    "        print(i)"
   ]
  },
  {
   "cell_type": "code",
   "execution_count": 2,
   "id": "7bd5d43d",
   "metadata": {},
   "outputs": [
    {
     "name": "stdout",
     "output_type": "stream",
     "text": [
      "[2, 3, 5, 7, 11, 13, 17, 19, 23, 29, 31, 37, 41, 43, 47, 53, 59, 61, 67, 71, 73, 79, 83, 89, 97, 101]\n"
     ]
    },
    {
     "data": {
      "text/plain": [
       "'\\nExplanation: It creates a boolean list assuming all numbers are prime. \\nStarting from 2 to √y, it marks multiples of each prime as False i.e., non-prime. \\nAfter this, indices marked as True represent prime numbers in the range.\\n'"
      ]
     },
     "execution_count": 2,
     "metadata": {},
     "output_type": "execute_result"
    }
   ],
   "source": [
    "'''\n",
    "Using sieve of eratosthenes\n",
    "Sieve of Eratosthenes is one of the most efficient algorithms to find all prime numbers in a given range, \n",
    "especially for large intervals. It works by creating a boolean array where each index represents a number, \n",
    "and values are marked as True for prime and False for non-prime. \n",
    "The algorithm eliminates multiples of each prime starting from 2.\n",
    "'''\n",
    "x, y = 1, 101  # define the range [x, y]\n",
    "\n",
    "# create a boolean list to mark primes, assume all are prime initially\n",
    "primes = [True] * (y + 1)\n",
    "\n",
    "# 0 and 1 are not prime\n",
    "primes[0], primes[1] = False, False\n",
    "\n",
    "# Sieve of Eratosthenes to mark non-primes\n",
    "for i in range(2, int(y ** 0.5) + 1):\n",
    "    if primes[i]:\n",
    "        for j in range(i * i, y + 1, i):\n",
    "            primes[j] = False\n",
    "\n",
    "# collect primes in the range [x, y]\n",
    "res = [i for i in range(x, y + 1) if primes[i]]\n",
    "print(res if res else \"No\")\n",
    "\n",
    "'''\n",
    "Explanation: It creates a boolean list assuming all numbers are prime. \n",
    "Starting from 2 to √y, it marks multiples of each prime as False i.e., non-prime. \n",
    "After this, indices marked as True represent prime numbers in the range.\n",
    "'''"
   ]
  },
  {
   "cell_type": "code",
   "execution_count": 4,
   "id": "159579cb",
   "metadata": {},
   "outputs": [
    {
     "name": "stdout",
     "output_type": "stream",
     "text": [
      "^C\n",
      "Note: you may need to restart the kernel to use updated packages.\n"
     ]
    },
    {
     "name": "stdout",
     "output_type": "stream",
     "text": [
      "Collecting sympy\n",
      "  Downloading sympy-1.14.0-py3-none-any.whl.metadata (12 kB)\n",
      "Collecting mpmath<1.4,>=1.1.0 (from sympy)\n",
      "  Downloading mpmath-1.3.0-py3-none-any.whl.metadata (8.6 kB)\n",
      "Downloading sympy-1.14.0-py3-none-any.whl (6.3 MB)\n",
      "   ---------------------------------------- 0.0/6.3 MB ? eta -:--:--\n",
      "   ---------------------------------------- 0.0/6.3 MB ? eta -:--:--\n",
      "   ---------------------------------------- 0.0/6.3 MB ? eta -:--:--\n",
      "   ---------------------------------------- 0.0/6.3 MB ? eta -:--:--\n",
      "   ---------------------------------------- 0.0/6.3 MB ? eta -:--:--\n",
      "   ---------------------------------------- 0.0/6.3 MB ? eta -:--:--\n",
      "   - -------------------------------------- 0.3/6.3 MB ? eta -:--:--\n",
      "   - -------------------------------------- 0.3/6.3 MB ? eta -:--:--\n",
      "   - -------------------------------------- 0.3/6.3 MB ? eta -:--:--\n",
      "   - -------------------------------------- 0.3/6.3 MB ? eta -:--:--\n",
      "   --- ------------------------------------ 0.5/6.3 MB 322.4 kB/s eta 0:00:18\n",
      "   --- ------------------------------------ 0.5/6.3 MB 322.4 kB/s eta 0:00:18\n",
      "   --- ------------------------------------ 0.5/6.3 MB 322.4 kB/s eta 0:00:18\n",
      "   ---- ----------------------------------- 0.8/6.3 MB 364.6 kB/s eta 0:00:16\n",
      "   ---- ----------------------------------- 0.8/6.3 MB 364.6 kB/s eta 0:00:16\n",
      "   ------ --------------------------------- 1.0/6.3 MB 390.1 kB/s eta 0:00:14\n",
      "   ------ --------------------------------- 1.0/6.3 MB 390.1 kB/s eta 0:00:14\n",
      "   ------ --------------------------------- 1.0/6.3 MB 390.1 kB/s eta 0:00:14\n",
      "   -------- ------------------------------- 1.3/6.3 MB 399.5 kB/s eta 0:00:13\n",
      "   -------- ------------------------------- 1.3/6.3 MB 399.5 kB/s eta 0:00:13\n",
      "   -------- ------------------------------- 1.3/6.3 MB 399.5 kB/s eta 0:00:13\n",
      "   --------- ------------------------------ 1.6/6.3 MB 425.7 kB/s eta 0:00:12\n",
      "   --------- ------------------------------ 1.6/6.3 MB 425.7 kB/s eta 0:00:12\n",
      "   ----------- ---------------------------- 1.8/6.3 MB 441.4 kB/s eta 0:00:11\n",
      "   ----------- ---------------------------- 1.8/6.3 MB 441.4 kB/s eta 0:00:11\n",
      "   ------------- -------------------------- 2.1/6.3 MB 462.3 kB/s eta 0:00:10\n",
      "   ------------- -------------------------- 2.1/6.3 MB 462.3 kB/s eta 0:00:10\n",
      "   -------------- ------------------------- 2.4/6.3 MB 475.9 kB/s eta 0:00:09\n",
      "   -------------- ------------------------- 2.4/6.3 MB 475.9 kB/s eta 0:00:09\n",
      "   ---------------- ----------------------- 2.6/6.3 MB 498.3 kB/s eta 0:00:08\n",
      "   ------------------ --------------------- 2.9/6.3 MB 521.0 kB/s eta 0:00:07\n",
      "   ------------------ --------------------- 2.9/6.3 MB 521.0 kB/s eta 0:00:07\n",
      "   ------------------ --------------------- 2.9/6.3 MB 521.0 kB/s eta 0:00:07\n",
      "   ------------------ --------------------- 2.9/6.3 MB 521.0 kB/s eta 0:00:07\n",
      "   ------------------- -------------------- 3.1/6.3 MB 501.5 kB/s eta 0:00:07\n",
      "   --------------------- ------------------ 3.4/6.3 MB 517.5 kB/s eta 0:00:06\n",
      "   --------------------- ------------------ 3.4/6.3 MB 517.5 kB/s eta 0:00:06\n",
      "   ----------------------- ---------------- 3.7/6.3 MB 531.9 kB/s eta 0:00:05\n",
      "   ------------------------ --------------- 3.9/6.3 MB 550.1 kB/s eta 0:00:05\n",
      "   -------------------------- ------------- 4.2/6.3 MB 562.9 kB/s eta 0:00:04\n",
      "   -------------------------- ------------- 4.2/6.3 MB 562.9 kB/s eta 0:00:04\n",
      "   ---------------------------- ----------- 4.5/6.3 MB 577.2 kB/s eta 0:00:04\n",
      "   ----------------------------- ---------- 4.7/6.3 MB 595.4 kB/s eta 0:00:03\n",
      "   ------------------------------- -------- 5.0/6.3 MB 611.3 kB/s eta 0:00:03\n",
      "   --------------------------------- ------ 5.2/6.3 MB 629.9 kB/s eta 0:00:02\n",
      "   --------------------------------- ------ 5.2/6.3 MB 629.9 kB/s eta 0:00:02\n",
      "   ---------------------------------- ----- 5.5/6.3 MB 624.8 kB/s eta 0:00:02\n",
      "   ------------------------------------ --- 5.8/6.3 MB 638.3 kB/s eta 0:00:01\n",
      "   -------------------------------------- - 6.0/6.3 MB 653.2 kB/s eta 0:00:01\n",
      "   ---------------------------------------- 6.3/6.3 MB 669.6 kB/s eta 0:00:00\n",
      "Downloading mpmath-1.3.0-py3-none-any.whl (536 kB)\n",
      "   ---------------------------------------- 0.0/536.2 kB ? eta -:--:--\n",
      "   ------------------- -------------------- 262.1/536.2 kB ? eta -:--:--\n",
      "   ---------------------------------------- 536.2/536.2 kB 1.6 MB/s eta 0:00:00\n",
      "Installing collected packages: mpmath, sympy\n",
      "Successfully installed mpmath-1.3.0 sympy-1.14.0\n"
     ]
    }
   ],
   "source": [
    "pip install sympy"
   ]
  },
  {
   "cell_type": "code",
   "execution_count": 4,
   "id": "81dd4548",
   "metadata": {},
   "outputs": [
    {
     "name": "stdout",
     "output_type": "stream",
     "text": [
      "[2, 3, 5, 7, 11, 13, 17, 19, 23, 29, 31, 37, 41, 43, 47, 53, 59, 61, 67, 71, 73, 79, 83, 89, 97]\n"
     ]
    },
    {
     "data": {
      "text/plain": [
       "'\\nwhich generates prime numbers in a given range. \\nThe range is defined as [x, y] and primerange(x, y + 1) returns an iterator of prime numbers from x to y. \\nThe result is converted into a list and stored in\\n'"
      ]
     },
     "execution_count": 4,
     "metadata": {},
     "output_type": "execute_result"
    }
   ],
   "source": [
    "'''\n",
    "Using sympy library\n",
    "SymPy Library provides a built-in function called primerange(x, y) to generate prime numbers in a given range efficiently. It is the most convenient and requires minimal coding effort. \n",
    "Internally, SymPy uses optimized algorithms, including the sieve method. \n",
    "This is ideal when you need a quick and accurate solution without implementing the logic manually.\n",
    "'''\n",
    "from sympy import primerange \n",
    "\n",
    "x, y = 1, 100  # range [x, y]\n",
    "\n",
    "primes = list(primerange(x, y + 1))\n",
    "print(primes if primes else \"No\")\n",
    "\n",
    "'''\n",
    "which generates prime numbers in a given range. \n",
    "The range is defined as [x, y] and primerange(x, y + 1) returns an iterator of prime numbers from x to y. \n",
    "The result is converted into a list and stored in\n",
    "'''"
   ]
  },
  {
   "cell_type": "code",
   "execution_count": null,
   "id": "24b003f3",
   "metadata": {},
   "outputs": [],
   "source": []
  }
 ],
 "metadata": {
  "kernelspec": {
   "display_name": "Python 3",
   "language": "python",
   "name": "python3"
  },
  "language_info": {
   "codemirror_mode": {
    "name": "ipython",
    "version": 3
   },
   "file_extension": ".py",
   "mimetype": "text/x-python",
   "name": "python",
   "nbconvert_exporter": "python",
   "pygments_lexer": "ipython3",
   "version": "3.12.9"
  }
 },
 "nbformat": 4,
 "nbformat_minor": 5
}
