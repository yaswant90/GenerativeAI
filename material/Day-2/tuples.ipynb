{
 "cells": [
  {
   "cell_type": "markdown",
   "id": "fc2fe279",
   "metadata": {},
   "source": [
    "### Tuples are ordered collection of items those are immutable and similar to lists"
   ]
  },
  {
   "cell_type": "code",
   "execution_count": 1,
   "id": "802c523a",
   "metadata": {},
   "outputs": [
    {
     "name": "stdout",
     "output_type": "stream",
     "text": [
      "()\n",
      "<class 'tuple'>\n"
     ]
    }
   ],
   "source": [
    "empty_tuple = ()\n",
    "print(empty_tuple)\n",
    "print(type(empty_tuple))"
   ]
  },
  {
   "cell_type": "code",
   "execution_count": 2,
   "id": "ac3cab74",
   "metadata": {},
   "outputs": [],
   "source": [
    "lst = list()\n",
    "tpl = tuple()"
   ]
  },
  {
   "cell_type": "code",
   "execution_count": 3,
   "id": "12722ad3",
   "metadata": {},
   "outputs": [
    {
     "data": {
      "text/plain": [
       "(1, 2, 3, 4, 5, 6)"
      ]
     },
     "execution_count": 3,
     "metadata": {},
     "output_type": "execute_result"
    }
   ],
   "source": [
    "numbers = tuple([1,2,3,4,5,6])\n",
    "numbers"
   ]
  },
  {
   "cell_type": "code",
   "execution_count": 5,
   "id": "09673b0e",
   "metadata": {},
   "outputs": [
    {
     "data": {
      "text/plain": [
       "[1, 2, 3, 4, 5, 6]"
      ]
     },
     "execution_count": 5,
     "metadata": {},
     "output_type": "execute_result"
    }
   ],
   "source": [
    "list(numbers) ## type conversion"
   ]
  },
  {
   "cell_type": "code",
   "execution_count": 7,
   "id": "f7aecdd2",
   "metadata": {},
   "outputs": [
    {
     "data": {
      "text/plain": [
       "(1, 'hello', 1.5, 25, True)"
      ]
     },
     "execution_count": 7,
     "metadata": {},
     "output_type": "execute_result"
    }
   ],
   "source": [
    "mixed_tuple = tuple([1,\"hello\",1.5, 25, True])\n",
    "mixed_tuple"
   ]
  },
  {
   "cell_type": "code",
   "execution_count": 8,
   "id": "1ad48d69",
   "metadata": {},
   "outputs": [
    {
     "data": {
      "text/plain": [
       "tuple"
      ]
     },
     "execution_count": 8,
     "metadata": {},
     "output_type": "execute_result"
    }
   ],
   "source": [
    "type(mixed_tuple)"
   ]
  },
  {
   "cell_type": "code",
   "execution_count": 9,
   "id": "ada60496",
   "metadata": {},
   "outputs": [
    {
     "data": {
      "text/plain": [
       "3"
      ]
     },
     "execution_count": 9,
     "metadata": {},
     "output_type": "execute_result"
    }
   ],
   "source": [
    "numbers[2]"
   ]
  },
  {
   "cell_type": "code",
   "execution_count": 10,
   "id": "c82bc4fe",
   "metadata": {},
   "outputs": [
    {
     "data": {
      "text/plain": [
       "6"
      ]
     },
     "execution_count": 10,
     "metadata": {},
     "output_type": "execute_result"
    }
   ],
   "source": [
    "numbers[-1]"
   ]
  },
  {
   "cell_type": "code",
   "execution_count": 11,
   "id": "27244b04",
   "metadata": {},
   "outputs": [
    {
     "name": "stdout",
     "output_type": "stream",
     "text": [
      "(1, 2, 3, 4, 5, 6, 1, 'hello', 1.5, 25, True)\n"
     ]
    }
   ],
   "source": [
    "concat_tuple = numbers + mixed_tuple\n",
    "print(concat_tuple)"
   ]
  },
  {
   "cell_type": "code",
   "execution_count": 13,
   "id": "c6b3ae1a",
   "metadata": {},
   "outputs": [
    {
     "data": {
      "text/plain": [
       "(1,\n",
       " 'hello',\n",
       " 1.5,\n",
       " 25,\n",
       " True,\n",
       " 1,\n",
       " 'hello',\n",
       " 1.5,\n",
       " 25,\n",
       " True,\n",
       " 1,\n",
       " 'hello',\n",
       " 1.5,\n",
       " 25,\n",
       " True)"
      ]
     },
     "execution_count": 13,
     "metadata": {},
     "output_type": "execute_result"
    }
   ],
   "source": [
    "mixed_tuple * 3 ## repeat 3 times"
   ]
  },
  {
   "cell_type": "markdown",
   "id": "920ef335",
   "metadata": {},
   "source": [
    "##### You can change the values of tuples as its immutable"
   ]
  },
  {
   "cell_type": "code",
   "execution_count": 14,
   "id": "96a1e699",
   "metadata": {},
   "outputs": [
    {
     "data": {
      "text/plain": [
       "(1, 2, 3, 4, 5, 6)"
      ]
     },
     "execution_count": 14,
     "metadata": {},
     "output_type": "execute_result"
    }
   ],
   "source": [
    "numbers"
   ]
  },
  {
   "cell_type": "code",
   "execution_count": 18,
   "id": "b69b6522",
   "metadata": {},
   "outputs": [
    {
     "name": "stdout",
     "output_type": "stream",
     "text": [
      "1\n",
      "2\n"
     ]
    }
   ],
   "source": [
    "## tuple methods\n",
    "print(numbers.count(1))\n",
    "print(numbers.index(3))"
   ]
  },
  {
   "cell_type": "code",
   "execution_count": 20,
   "id": "8a4be6f2",
   "metadata": {},
   "outputs": [
    {
     "data": {
      "text/plain": [
       "(1, 'Hello', 3, 4)"
      ]
     },
     "execution_count": 20,
     "metadata": {},
     "output_type": "execute_result"
    }
   ],
   "source": [
    "## packing and unpacking tuples\n",
    "packed_tuple = 1, \"Hello\", 3, 4\n",
    "packed_tuple"
   ]
  },
  {
   "cell_type": "code",
   "execution_count": 21,
   "id": "2bd31735",
   "metadata": {},
   "outputs": [
    {
     "name": "stdout",
     "output_type": "stream",
     "text": [
      "1\n",
      "Hello\n",
      "4\n"
     ]
    }
   ],
   "source": [
    "a,b,c,d = packed_tuple\n",
    "print(a)\n",
    "print(b)\n",
    "print(d)"
   ]
  },
  {
   "cell_type": "code",
   "execution_count": 23,
   "id": "8dc71561",
   "metadata": {},
   "outputs": [
    {
     "name": "stdout",
     "output_type": "stream",
     "text": [
      "1\n",
      "[2, 3, 4, 5]\n",
      "6\n"
     ]
    }
   ],
   "source": [
    "## unpacking with *\n",
    "numbers=(1,2,3,4,5,6)\n",
    "first,*middle,last = numbers\n",
    "print(first)\n",
    "print(middle)\n",
    "print(last)"
   ]
  },
  {
   "cell_type": "code",
   "execution_count": 27,
   "id": "0c6f2bd0",
   "metadata": {},
   "outputs": [
    {
     "name": "stdout",
     "output_type": "stream",
     "text": [
      "[1, 2, 3, 4]\n",
      "3\n",
      "(1, 'hello', 5)\n"
     ]
    }
   ],
   "source": [
    "## nested tuples\n",
    "lst = [[1,2,3,4],[5,6,7,8,9],(1,\"hello\",5,6.8)]\n",
    "print(lst[0])\n",
    "print(lst[0][2])\n",
    "print(lst[2][0:3])"
   ]
  },
  {
   "cell_type": "code",
   "execution_count": 28,
   "id": "ecf9a248",
   "metadata": {},
   "outputs": [
    {
     "name": "stdout",
     "output_type": "stream",
     "text": [
      "1 2 3 4 5 6 7 1 a Hello "
     ]
    }
   ],
   "source": [
    "## iterating over nested tuples\n",
    "nested = ((1,2,3,4),(5,6,7),(1,'a',b))\n",
    "for sub in nested:\n",
    "    for item in sub:\n",
    "        print(item, end=\" \")"
   ]
  },
  {
   "cell_type": "markdown",
   "id": "ca1dbe30",
   "metadata": {},
   "source": [
    "#### Conclusion \n",
    "##### Tuples are versatile and useful in many realworld scenarios where an immutable and ordered collection of items are required. They are commonly used in datastructures, function arguments and return values, and as dictionary keys. "
   ]
  }
 ],
 "metadata": {
  "kernelspec": {
   "display_name": "Python 3",
   "language": "python",
   "name": "python3"
  },
  "language_info": {
   "codemirror_mode": {
    "name": "ipython",
    "version": 3
   },
   "file_extension": ".py",
   "mimetype": "text/x-python",
   "name": "python",
   "nbconvert_exporter": "python",
   "pygments_lexer": "ipython3",
   "version": "3.12.9"
  }
 },
 "nbformat": 4,
 "nbformat_minor": 5
}
