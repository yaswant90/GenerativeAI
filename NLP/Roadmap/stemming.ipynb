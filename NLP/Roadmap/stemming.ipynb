{
 "cells": [
  {
   "metadata": {
    "ExecuteTime": {
     "end_time": "2025-05-06T13:42:12.871734Z",
     "start_time": "2025-05-06T13:41:59.510514Z"
    }
   },
   "cell_type": "code",
   "source": [
    "### lets say when solving classification problem\n",
    "### comments on the product is a positive or negative review\n",
    "### datasets contains reviews (eg. words contain eating, eat, eaten, ....)\n",
    "### stem word - eat in this scenario (remove suffexes, prefixes, affexes)\n",
    "### going, gone, goes -> go (stem word)\n",
    "words = [\"goes\", \"going\", \"gone\", \"programming\", \"programers\", \"later\", \"late\", \"study\", \"studies\"]\n",
    "\n",
    "### porterstemmer\n",
    "from nltk.stem import PorterStemmer\n",
    "stemming = PorterStemmer()\n",
    "for word in words:\n",
    "    print(word + \"----->\" + stemming.stem(word))"
   ],
   "id": "5308348d5ca52256",
   "outputs": [
    {
     "name": "stdout",
     "output_type": "stream",
     "text": [
      "goes----->goe\n",
      "going----->go\n",
      "gone----->gone\n",
      "programming----->program\n",
      "programers----->program\n",
      "later----->later\n",
      "late----->late\n",
      "study----->studi\n",
      "studies----->studi\n"
     ]
    }
   ],
   "execution_count": 1
  },
  {
   "metadata": {
    "ExecuteTime": {
     "end_time": "2025-05-06T13:43:39.169947Z",
     "start_time": "2025-05-06T13:43:39.166060Z"
    }
   },
   "cell_type": "code",
   "source": "### major disadvantage with stemming is the meaning of few words will change like study - studi these kind of issues will be fix by lammatization",
   "id": "b549854a6f701ab7",
   "outputs": [],
   "execution_count": 2
  },
  {
   "metadata": {
    "ExecuteTime": {
     "end_time": "2025-05-06T13:50:11.368377Z",
     "start_time": "2025-05-06T13:50:11.362287Z"
    }
   },
   "cell_type": "code",
   "source": [
    "### 2. RegexpstemmerClass\n",
    "from nltk.stem import RegexpStemmer\n",
    "reg_stemmer = RegexpStemmer(\"ing$|s$|e$|able$\", min=4)\n",
    "print(reg_stemmer.stem(\"studying\"))\n",
    "print(reg_stemmer.stem(\"ingeating\"))"
   ],
   "id": "9fcd2b6b8b4a65d0",
   "outputs": [
    {
     "name": "stdout",
     "output_type": "stream",
     "text": [
      "study\n",
      "ingeat\n"
     ]
    }
   ],
   "execution_count": 9
  },
  {
   "metadata": {
    "ExecuteTime": {
     "end_time": "2025-05-06T13:49:42.069013Z",
     "start_time": "2025-05-06T13:49:42.062098Z"
    }
   },
   "cell_type": "code",
   "source": [
    "for word in words:\n",
    "    print(reg_stemmer.stem(word))"
   ],
   "id": "d7fe08528ec92455",
   "outputs": [
    {
     "name": "stdout",
     "output_type": "stream",
     "text": [
      "goe\n",
      "go\n",
      "gon\n",
      "programm\n",
      "programer\n",
      "later\n",
      "lat\n",
      "study\n",
      "studie\n"
     ]
    }
   ],
   "execution_count": 8
  },
  {
   "metadata": {
    "ExecuteTime": {
     "end_time": "2025-05-06T13:51:44.970784Z",
     "start_time": "2025-05-06T13:51:44.965713Z"
    }
   },
   "cell_type": "code",
   "source": [
    "### Snowball Stemmer\n",
    "from nltk.stem import SnowballStemmer\n",
    "snowball_stemmer = SnowballStemmer(\"english\")\n",
    "for word in words:\n",
    "    print(word + \"----->\" +snowball_stemmer.stem(word))"
   ],
   "id": "3b2310bd3821a7d6",
   "outputs": [
    {
     "name": "stdout",
     "output_type": "stream",
     "text": [
      "goes----->goe\n",
      "going----->go\n",
      "gone----->gone\n",
      "programming----->program\n",
      "programers----->program\n",
      "later----->later\n",
      "late----->late\n",
      "study----->studi\n",
      "studies----->studi\n"
     ]
    }
   ],
   "execution_count": 10
  },
  {
   "metadata": {
    "ExecuteTime": {
     "end_time": "2025-05-06T13:53:19.339055Z",
     "start_time": "2025-05-06T13:53:19.327897Z"
    }
   },
   "cell_type": "code",
   "source": "stemming.stem(\"finally\"), stemming.stem(\"sportingly\")",
   "id": "c0e9af97920b064d",
   "outputs": [
    {
     "data": {
      "text/plain": [
       "('final', 'sportingli')"
      ]
     },
     "execution_count": 11,
     "metadata": {},
     "output_type": "execute_result"
    }
   ],
   "execution_count": 11
  },
  {
   "metadata": {
    "ExecuteTime": {
     "end_time": "2025-05-06T13:53:45.366275Z",
     "start_time": "2025-05-06T13:53:45.359956Z"
    }
   },
   "cell_type": "code",
   "source": "snowball_stemmer.stem(\"finally\"), snowball_stemmer.stem(\"sportingly\")",
   "id": "e08f7c73e404fbc0",
   "outputs": [
    {
     "data": {
      "text/plain": [
       "('final', 'sport')"
      ]
     },
     "execution_count": 12,
     "metadata": {},
     "output_type": "execute_result"
    }
   ],
   "execution_count": 12
  },
  {
   "metadata": {},
   "cell_type": "code",
   "outputs": [],
   "execution_count": null,
   "source": "",
   "id": "456a874910b9ef71"
  }
 ],
 "metadata": {
  "kernelspec": {
   "name": "python3",
   "language": "python",
   "display_name": "Python 3 (ipykernel)"
  }
 },
 "nbformat": 5,
 "nbformat_minor": 9
}
