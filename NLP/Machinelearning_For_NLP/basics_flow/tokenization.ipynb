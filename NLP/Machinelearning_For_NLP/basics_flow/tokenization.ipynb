{
 "cells": [
  {
   "metadata": {
    "ExecuteTime": {
     "end_time": "2025-05-06T12:58:43.745533Z",
     "start_time": "2025-05-06T12:58:37.081262Z"
    }
   },
   "cell_type": "code",
   "source": "!pip install nltk",
   "id": "f9682c99553849cc",
   "outputs": [
    {
     "name": "stdout",
     "output_type": "stream",
     "text": [
      "Requirement already satisfied: nltk in c:\\users\\yaswant_sadasivuni\\pycharmprojects\\pythonproject1\\.venv\\lib\\site-packages (3.9.1)\n",
      "Requirement already satisfied: click in c:\\users\\yaswant_sadasivuni\\pycharmprojects\\pythonproject1\\.venv\\lib\\site-packages (from nltk) (8.1.8)\n",
      "Requirement already satisfied: joblib in c:\\users\\yaswant_sadasivuni\\pycharmprojects\\pythonproject1\\.venv\\lib\\site-packages (from nltk) (1.5.0)\n",
      "Requirement already satisfied: regex>=2021.8.3 in c:\\users\\yaswant_sadasivuni\\pycharmprojects\\pythonproject1\\.venv\\lib\\site-packages (from nltk) (2024.11.6)\n",
      "Requirement already satisfied: tqdm in c:\\users\\yaswant_sadasivuni\\pycharmprojects\\pythonproject1\\.venv\\lib\\site-packages (from nltk) (4.67.1)\n",
      "Requirement already satisfied: colorama in c:\\users\\yaswant_sadasivuni\\pycharmprojects\\pythonproject1\\.venv\\lib\\site-packages (from click->nltk) (0.4.6)\n"
     ]
    }
   ],
   "execution_count": 1
  },
  {
   "metadata": {
    "ExecuteTime": {
     "end_time": "2025-05-06T13:01:24.731588Z",
     "start_time": "2025-05-06T13:01:24.722001Z"
    }
   },
   "cell_type": "code",
   "source": [
    "corpus = '''Machine learning is a subset of AI, which uses algorithms that learn from data to make predictions. These predictions can be generated through supervised learning, where algorithms learn patterns from existing data, or unsupervised learning, where they discover general patterns in data.\n",
    "'''\n",
    "print(corpus)"
   ],
   "id": "8509434cadc335fe",
   "outputs": [
    {
     "name": "stdout",
     "output_type": "stream",
     "text": [
      "Machine learning is a subset of AI, which uses algorithms that learn from data to make predictions. These predictions can be generated through supervised learning, where algorithms learn patterns from existing data, or unsupervised learning, where they discover general patterns in data.\n",
      "\n"
     ]
    }
   ],
   "execution_count": 2
  },
  {
   "metadata": {
    "ExecuteTime": {
     "end_time": "2025-05-06T13:06:03.022649Z",
     "start_time": "2025-05-06T13:05:59.055002Z"
    }
   },
   "cell_type": "code",
   "source": [
    "### Tokenization\n",
    "### paragraphs to sentences\n",
    "import nltk\n",
    "nltk.download('punkt_tab')\n"
   ],
   "id": "29886d193b3b806f",
   "outputs": [
    {
     "name": "stderr",
     "output_type": "stream",
     "text": [
      "[nltk_data] Downloading package punkt_tab to\n",
      "[nltk_data]     C:\\Users\\Yaswant_Sadasivuni\\AppData\\Roaming\\nltk_data.\n",
      "[nltk_data]     ..\n",
      "[nltk_data]   Unzipping tokenizers\\punkt_tab.zip.\n"
     ]
    },
    {
     "data": {
      "text/plain": [
       "True"
      ]
     },
     "execution_count": 8,
     "metadata": {},
     "output_type": "execute_result"
    }
   ],
   "execution_count": 8
  },
  {
   "metadata": {},
   "cell_type": "code",
   "outputs": [],
   "execution_count": null,
   "source": "",
   "id": "b236d11caee79d2f"
  },
  {
   "metadata": {
    "ExecuteTime": {
     "end_time": "2025-05-06T13:08:01.769466Z",
     "start_time": "2025-05-06T13:08:01.759573Z"
    }
   },
   "cell_type": "code",
   "source": [
    "from nltk.tokenize import sent_tokenize\n",
    "## sent_tokenize(corpus)\n",
    "documents = sent_tokenize(corpus)\n",
    "print(documents)"
   ],
   "id": "ee43238d99cbc0ca",
   "outputs": [
    {
     "name": "stdout",
     "output_type": "stream",
     "text": [
      "['Machine learning is a subset of AI, which uses algorithms that learn from data to make predictions.', 'These predictions can be generated through supervised learning, where algorithms learn patterns from existing data, or unsupervised learning, where they discover general patterns in data.']\n"
     ]
    }
   ],
   "execution_count": 11
  },
  {
   "metadata": {
    "ExecuteTime": {
     "end_time": "2025-05-06T13:08:23.186355Z",
     "start_time": "2025-05-06T13:08:23.181996Z"
    }
   },
   "cell_type": "code",
   "source": [
    "for sentence in documents:\n",
    "    print(sentence)"
   ],
   "id": "87b090458c286af1",
   "outputs": [
    {
     "name": "stdout",
     "output_type": "stream",
     "text": [
      "Machine learning is a subset of AI, which uses algorithms that learn from data to make predictions.\n",
      "These predictions can be generated through supervised learning, where algorithms learn patterns from existing data, or unsupervised learning, where they discover general patterns in data.\n"
     ]
    }
   ],
   "execution_count": 12
  },
  {
   "metadata": {
    "ExecuteTime": {
     "end_time": "2025-05-06T13:09:28.681805Z",
     "start_time": "2025-05-06T13:09:28.675923Z"
    }
   },
   "cell_type": "code",
   "source": [
    "### tokenizarion\n",
    "### paragraph to words / sentenses to words\n",
    "from nltk.tokenize import word_tokenize"
   ],
   "id": "23cc6a093ef0f66d",
   "outputs": [],
   "execution_count": 13
  },
  {
   "metadata": {
    "ExecuteTime": {
     "end_time": "2025-05-06T13:09:39.641929Z",
     "start_time": "2025-05-06T13:09:39.633420Z"
    }
   },
   "cell_type": "code",
   "source": [
    "words = word_tokenize(corpus)\n",
    "print(words)"
   ],
   "id": "479c8b83382a44f5",
   "outputs": [
    {
     "name": "stdout",
     "output_type": "stream",
     "text": [
      "['Machine', 'learning', 'is', 'a', 'subset', 'of', 'AI', ',', 'which', 'uses', 'algorithms', 'that', 'learn', 'from', 'data', 'to', 'make', 'predictions', '.', 'These', 'predictions', 'can', 'be', 'generated', 'through', 'supervised', 'learning', ',', 'where', 'algorithms', 'learn', 'patterns', 'from', 'existing', 'data', ',', 'or', 'unsupervised', 'learning', ',', 'where', 'they', 'discover', 'general', 'patterns', 'in', 'data', '.']\n"
     ]
    }
   ],
   "execution_count": 14
  },
  {
   "metadata": {
    "ExecuteTime": {
     "end_time": "2025-05-06T13:11:26.404292Z",
     "start_time": "2025-05-06T13:11:26.396993Z"
    }
   },
   "cell_type": "code",
   "source": [
    "for sentence in sentences:\n",
    "    print(word_tokenize(sentence))"
   ],
   "id": "3fead3d3d849a0b",
   "outputs": [
    {
     "name": "stdout",
     "output_type": "stream",
     "text": [
      "['Machine', 'learning', 'is', 'a', 'subset', 'of', 'AI', ',', 'which', 'uses', 'algorithms', 'that', 'learn', 'from', 'data', 'to', 'make', 'predictions', '.']\n",
      "['These', 'predictions', 'can', 'be', 'generated', 'through', 'supervised', 'learning', ',', 'where', 'algorithms', 'learn', 'patterns', 'from', 'existing', 'data', ',', 'or', 'unsupervised', 'learning', ',', 'where', 'they', 'discover', 'general', 'patterns', 'in', 'data', '.']\n"
     ]
    }
   ],
   "execution_count": 16
  },
  {
   "metadata": {
    "ExecuteTime": {
     "end_time": "2025-05-06T13:12:02.486704Z",
     "start_time": "2025-05-06T13:12:02.479106Z"
    }
   },
   "cell_type": "code",
   "source": [
    "from nltk.tokenize import wordpunct_tokenize\n",
    "wordpunct_tokenize(corpus)"
   ],
   "id": "18b7823d5eedf760",
   "outputs": [
    {
     "data": {
      "text/plain": [
       "['Machine',\n",
       " 'learning',\n",
       " 'is',\n",
       " 'a',\n",
       " 'subset',\n",
       " 'of',\n",
       " 'AI',\n",
       " ',',\n",
       " 'which',\n",
       " 'uses',\n",
       " 'algorithms',\n",
       " 'that',\n",
       " 'learn',\n",
       " 'from',\n",
       " 'data',\n",
       " 'to',\n",
       " 'make',\n",
       " 'predictions',\n",
       " '.',\n",
       " 'These',\n",
       " 'predictions',\n",
       " 'can',\n",
       " 'be',\n",
       " 'generated',\n",
       " 'through',\n",
       " 'supervised',\n",
       " 'learning',\n",
       " ',',\n",
       " 'where',\n",
       " 'algorithms',\n",
       " 'learn',\n",
       " 'patterns',\n",
       " 'from',\n",
       " 'existing',\n",
       " 'data',\n",
       " ',',\n",
       " 'or',\n",
       " 'unsupervised',\n",
       " 'learning',\n",
       " ',',\n",
       " 'where',\n",
       " 'they',\n",
       " 'discover',\n",
       " 'general',\n",
       " 'patterns',\n",
       " 'in',\n",
       " 'data',\n",
       " '.']"
      ]
     },
     "execution_count": 17,
     "metadata": {},
     "output_type": "execute_result"
    }
   ],
   "execution_count": 17
  },
  {
   "metadata": {
    "ExecuteTime": {
     "end_time": "2025-05-06T13:14:58.110183Z",
     "start_time": "2025-05-06T13:14:58.103149Z"
    }
   },
   "cell_type": "code",
   "source": [
    "from nltk.tokenize import TreebankWordDetokenizer\n",
    "tokenizer = TreebankWordDetokenizer()\n",
    "tokenizer.tokenize(corpus)"
   ],
   "id": "a8f27a9187738ee9",
   "outputs": [
    {
     "data": {
      "text/plain": [
       "'M a c h i n e   l e a r n i n g   i s   a   s u b s e t   o f   A I,   w h i c h   u s e s   a l g o r i t h m s   t h a t   l e a r n   f r o m   d a t a   t o   m a k e   p r e d i c t i o n s .   T h e s e   p r e d i c t i o n s   c a n   b e   g e n e r a t e d   t h r o u g h   s u p e r v i s e d   l e a r n i n g,   w h e r e   a l g o r i t h m s   l e a r n   p a t t e r n s   f r o m   e x i s t i n g   d a t a,   o r   u n s u p e r v i s e d   l e a r n i n g,   w h e r e   t h e y   d i s c o v e r   g e n e r a l   p a t t e r n s   i n   d a t a.'"
      ]
     },
     "execution_count": 23,
     "metadata": {},
     "output_type": "execute_result"
    }
   ],
   "execution_count": 23
  },
  {
   "metadata": {},
   "cell_type": "code",
   "outputs": [],
   "execution_count": null,
   "source": "",
   "id": "6acda866c8e1936"
  }
 ],
 "metadata": {
  "kernelspec": {
   "name": "python3",
   "language": "python",
   "display_name": "Python 3 (ipykernel)"
  }
 },
 "nbformat": 5,
 "nbformat_minor": 9
}
